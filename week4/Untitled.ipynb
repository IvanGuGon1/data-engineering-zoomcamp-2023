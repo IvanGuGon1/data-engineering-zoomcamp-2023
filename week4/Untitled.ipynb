{
 "cells": [
  {
   "cell_type": "code",
   "execution_count": 1,
   "metadata": {},
   "outputs": [],
   "source": [
    "import fastparquet\n",
    "import pyarrow\n",
    "import os\n",
    "import pandas as pd\n"
   ]
  },
  {
   "cell_type": "code",
   "execution_count": 12,
   "metadata": {},
   "outputs": [],
   "source": [
    "import chardet\n",
    "import glob"
   ]
  },
  {
   "cell_type": "code",
   "execution_count": 16,
   "metadata": {},
   "outputs": [
    {
     "ename": "UnicodeDecodeError",
     "evalue": "'utf-8' codec can't decode byte 0x8b in position 1: invalid start byte",
     "output_type": "error",
     "traceback": [
      "\u001b[0;31m---------------------------------------------------------------------------\u001b[0m",
      "\u001b[0;31mUnicodeDecodeError\u001b[0m                        Traceback (most recent call last)",
      "Cell \u001b[0;32mIn[16], line 2\u001b[0m\n\u001b[1;32m      1\u001b[0m \u001b[38;5;28;01mimport\u001b[39;00m \u001b[38;5;21;01mchardet\u001b[39;00m    \n\u001b[0;32m----> 2\u001b[0m rawdata \u001b[38;5;241m=\u001b[39m \u001b[38;5;28;43mopen\u001b[39;49m\u001b[43m(\u001b[49m\u001b[38;5;124;43m\"\u001b[39;49m\u001b[38;5;124;43mfhv_tripdata_2020-02.csv.gz\u001b[39;49m\u001b[38;5;124;43m\"\u001b[39;49m\u001b[43m,\u001b[49m\u001b[43m \u001b[49m\u001b[38;5;124;43m\"\u001b[39;49m\u001b[38;5;124;43mr\u001b[39;49m\u001b[38;5;124;43m\"\u001b[39;49m\u001b[43m)\u001b[49m\u001b[38;5;241;43m.\u001b[39;49m\u001b[43mread\u001b[49m\u001b[43m(\u001b[49m\u001b[43m)\u001b[49m\n\u001b[1;32m      3\u001b[0m result \u001b[38;5;241m=\u001b[39m chardet\u001b[38;5;241m.\u001b[39mdetect(rawdata)\n\u001b[1;32m      4\u001b[0m charenc \u001b[38;5;241m=\u001b[39m result[\u001b[38;5;124m'\u001b[39m\u001b[38;5;124mencoding\u001b[39m\u001b[38;5;124m'\u001b[39m]\n",
      "File \u001b[0;32m~/miniconda3/envs/zoomcamp2/lib/python3.9/codecs.py:322\u001b[0m, in \u001b[0;36mBufferedIncrementalDecoder.decode\u001b[0;34m(self, input, final)\u001b[0m\n\u001b[1;32m    319\u001b[0m \u001b[38;5;28;01mdef\u001b[39;00m \u001b[38;5;21mdecode\u001b[39m(\u001b[38;5;28mself\u001b[39m, \u001b[38;5;28minput\u001b[39m, final\u001b[38;5;241m=\u001b[39m\u001b[38;5;28;01mFalse\u001b[39;00m):\n\u001b[1;32m    320\u001b[0m     \u001b[38;5;66;03m# decode input (taking the buffer into account)\u001b[39;00m\n\u001b[1;32m    321\u001b[0m     data \u001b[38;5;241m=\u001b[39m \u001b[38;5;28mself\u001b[39m\u001b[38;5;241m.\u001b[39mbuffer \u001b[38;5;241m+\u001b[39m \u001b[38;5;28minput\u001b[39m\n\u001b[0;32m--> 322\u001b[0m     (result, consumed) \u001b[38;5;241m=\u001b[39m \u001b[38;5;28;43mself\u001b[39;49m\u001b[38;5;241;43m.\u001b[39;49m\u001b[43m_buffer_decode\u001b[49m\u001b[43m(\u001b[49m\u001b[43mdata\u001b[49m\u001b[43m,\u001b[49m\u001b[43m \u001b[49m\u001b[38;5;28;43mself\u001b[39;49m\u001b[38;5;241;43m.\u001b[39;49m\u001b[43merrors\u001b[49m\u001b[43m,\u001b[49m\u001b[43m \u001b[49m\u001b[43mfinal\u001b[49m\u001b[43m)\u001b[49m\n\u001b[1;32m    323\u001b[0m     \u001b[38;5;66;03m# keep undecoded input until the next call\u001b[39;00m\n\u001b[1;32m    324\u001b[0m     \u001b[38;5;28mself\u001b[39m\u001b[38;5;241m.\u001b[39mbuffer \u001b[38;5;241m=\u001b[39m data[consumed:]\n",
      "\u001b[0;31mUnicodeDecodeError\u001b[0m: 'utf-8' codec can't decode byte 0x8b in position 1: invalid start byte"
     ]
    }
   ],
   "source": [
    "import chardet    \n",
    "rawdata = open(\"fhv_tripdata_2020-02.csv.gz\", \"r\").read()\n",
    "result = chardet.detect(rawdata)\n",
    "charenc = result['encoding']\n",
    "print(charenc)"
   ]
  },
  {
   "cell_type": "code",
   "execution_count": 5,
   "metadata": {},
   "outputs": [
    {
     "data": {
      "text/html": [
       "<div>\n",
       "<style scoped>\n",
       "    .dataframe tbody tr th:only-of-type {\n",
       "        vertical-align: middle;\n",
       "    }\n",
       "\n",
       "    .dataframe tbody tr th {\n",
       "        vertical-align: top;\n",
       "    }\n",
       "\n",
       "    .dataframe thead th {\n",
       "        text-align: right;\n",
       "    }\n",
       "</style>\n",
       "<table border=\"1\" class=\"dataframe\">\n",
       "  <thead>\n",
       "    <tr style=\"text-align: right;\">\n",
       "      <th></th>\n",
       "      <th>Unnamed: 0</th>\n",
       "      <th>0</th>\n",
       "    </tr>\n",
       "  </thead>\n",
       "  <tbody>\n",
       "    <tr>\n",
       "      <th>0</th>\n",
       "      <td>0</td>\n",
       "      <td>�\b\b\u0007�{c</td>\n",
       "    </tr>\n",
       "    <tr>\n",
       "      <th>1</th>\n",
       "      <td>1</td>\n",
       "      <td>8�1�U�\"����O�$�\u001d",
       "��\u0018��y�+�{�x����_a;:��\u0018\u0013�|���1...</td>\n",
       "    </tr>\n",
       "    <tr>\n",
       "      <th>2</th>\n",
       "      <td>2</td>\n",
       "      <td>\\c��T^yiv���u�\u0001�^ځ�t���DW�L�\u0015�X��\u0003���\u0005�\u0003\u001c",
       "�\u0017�ıۈ...</td>\n",
       "    </tr>\n",
       "    <tr>\n",
       "      <th>3</th>\n",
       "      <td>3</td>\n",
       "      <td>~���)�*}|�N�\u001b\u0019R�8Ǧ1\u001e",
       "�\u0007�\u00165~\\�����R_��6!��W?\u000f��-...</td>\n",
       "    </tr>\n",
       "    <tr>\n",
       "      <th>4</th>\n",
       "      <td>4</td>\n",
       "      <td>�ic�\u0005�\u0004�z���is5�\u000e9���U�Y2ڼ\u0010\u001f�ąe�\u001d",
       "C���;�&gt;퍌���lv...</td>\n",
       "    </tr>\n",
       "  </tbody>\n",
       "</table>\n",
       "</div>"
      ],
      "text/plain": [
       "   Unnamed: 0                                                  0\n",
       "0           0                                           \u001f�\b\b\u0007�{c\n",
       "1           1  8�1�U�\"����O�$�\n",
       "��\u0018��y�+�{�x����_a;:��\u0018\u0013�|���1...\n",
       "2           2  \\c��T^yiv���u�\u0001�^ځ�t���DW�L�\u0015�X��\u0003���\u0005�\u0003\n",
       "�\u0017�ıۈ...\n",
       "3           3  ~���)�*}|�N�\u001b\u0019R�8Ǧ1\n",
       "�\u0007�\u00165~\\�����R_��6!��W?\u000f��-...\n",
       "4           4  �ic�\u0005�\u0004�z���is5�\u000e9���U�Y2ڼ\u0010\u001f�ąe�\n",
       "C���;�>퍌���lv..."
      ]
     },
     "execution_count": 5,
     "metadata": {},
     "output_type": "execute_result"
    }
   ],
   "source": [
    "import requests\n",
    "import io\n",
    "r = requests.get(\"https://github.com/DataTalksClub/nyc-tlc-data/releases/download/fhv/fhv_tripdata_2019-02.csv.gz\")\n",
    "pd.DataFrame(io.StringIO(r.text)).to_csv('fhv_tripdata_2020-02.csv')\n",
    "\n",
    "df = pd.read_csv('fhv_tripdata_2020-02.csv')\n",
    "df.head()"
   ]
  },
  {
   "cell_type": "code",
   "execution_count": 6,
   "metadata": {},
   "outputs": [],
   "source": [
    "import gzip\n",
    "import shutil\n",
    "with gzip.open('fhv_tripdata_2020-02.csv.gz', 'rb') as f_in:\n",
    "    with open('fhv_tripdata_2020-02.csv', 'wb') as f_out:\n",
    "        shutil.copyfileobj(f_in, f_out)"
   ]
  },
  {
   "cell_type": "code",
   "execution_count": 7,
   "metadata": {},
   "outputs": [
    {
     "ename": "UnicodeDecodeError",
     "evalue": "'utf-8' codec can't decode byte 0xa0 in position 148352: invalid start byte",
     "output_type": "error",
     "traceback": [
      "\u001b[0;31m---------------------------------------------------------------------------\u001b[0m",
      "\u001b[0;31mUnicodeDecodeError\u001b[0m                        Traceback (most recent call last)",
      "Cell \u001b[0;32mIn[7], line 1\u001b[0m\n\u001b[0;32m----> 1\u001b[0m df \u001b[38;5;241m=\u001b[39m \u001b[43mpd\u001b[49m\u001b[38;5;241;43m.\u001b[39;49m\u001b[43mread_csv\u001b[49m\u001b[43m(\u001b[49m\u001b[38;5;124;43m'\u001b[39;49m\u001b[38;5;124;43mfhv_tripdata_2020-02.csv\u001b[39;49m\u001b[38;5;124;43m'\u001b[39;49m\u001b[43m)\u001b[49m\n\u001b[1;32m      2\u001b[0m df\u001b[38;5;241m.\u001b[39mhead()\n",
      "File \u001b[0;32m~/miniconda3/envs/zoomcamp2/lib/python3.9/site-packages/pandas/util/_decorators.py:211\u001b[0m, in \u001b[0;36mdeprecate_kwarg.<locals>._deprecate_kwarg.<locals>.wrapper\u001b[0;34m(*args, **kwargs)\u001b[0m\n\u001b[1;32m    209\u001b[0m     \u001b[38;5;28;01melse\u001b[39;00m:\n\u001b[1;32m    210\u001b[0m         kwargs[new_arg_name] \u001b[38;5;241m=\u001b[39m new_arg_value\n\u001b[0;32m--> 211\u001b[0m \u001b[38;5;28;01mreturn\u001b[39;00m \u001b[43mfunc\u001b[49m\u001b[43m(\u001b[49m\u001b[38;5;241;43m*\u001b[39;49m\u001b[43margs\u001b[49m\u001b[43m,\u001b[49m\u001b[43m \u001b[49m\u001b[38;5;241;43m*\u001b[39;49m\u001b[38;5;241;43m*\u001b[39;49m\u001b[43mkwargs\u001b[49m\u001b[43m)\u001b[49m\n",
      "File \u001b[0;32m~/miniconda3/envs/zoomcamp2/lib/python3.9/site-packages/pandas/util/_decorators.py:331\u001b[0m, in \u001b[0;36mdeprecate_nonkeyword_arguments.<locals>.decorate.<locals>.wrapper\u001b[0;34m(*args, **kwargs)\u001b[0m\n\u001b[1;32m    325\u001b[0m \u001b[38;5;28;01mif\u001b[39;00m \u001b[38;5;28mlen\u001b[39m(args) \u001b[38;5;241m>\u001b[39m num_allow_args:\n\u001b[1;32m    326\u001b[0m     warnings\u001b[38;5;241m.\u001b[39mwarn(\n\u001b[1;32m    327\u001b[0m         msg\u001b[38;5;241m.\u001b[39mformat(arguments\u001b[38;5;241m=\u001b[39m_format_argument_list(allow_args)),\n\u001b[1;32m    328\u001b[0m         \u001b[38;5;167;01mFutureWarning\u001b[39;00m,\n\u001b[1;32m    329\u001b[0m         stacklevel\u001b[38;5;241m=\u001b[39mfind_stack_level(),\n\u001b[1;32m    330\u001b[0m     )\n\u001b[0;32m--> 331\u001b[0m \u001b[38;5;28;01mreturn\u001b[39;00m \u001b[43mfunc\u001b[49m\u001b[43m(\u001b[49m\u001b[38;5;241;43m*\u001b[39;49m\u001b[43margs\u001b[49m\u001b[43m,\u001b[49m\u001b[43m \u001b[49m\u001b[38;5;241;43m*\u001b[39;49m\u001b[38;5;241;43m*\u001b[39;49m\u001b[43mkwargs\u001b[49m\u001b[43m)\u001b[49m\n",
      "File \u001b[0;32m~/miniconda3/envs/zoomcamp2/lib/python3.9/site-packages/pandas/io/parsers/readers.py:950\u001b[0m, in \u001b[0;36mread_csv\u001b[0;34m(filepath_or_buffer, sep, delimiter, header, names, index_col, usecols, squeeze, prefix, mangle_dupe_cols, dtype, engine, converters, true_values, false_values, skipinitialspace, skiprows, skipfooter, nrows, na_values, keep_default_na, na_filter, verbose, skip_blank_lines, parse_dates, infer_datetime_format, keep_date_col, date_parser, dayfirst, cache_dates, iterator, chunksize, compression, thousands, decimal, lineterminator, quotechar, quoting, doublequote, escapechar, comment, encoding, encoding_errors, dialect, error_bad_lines, warn_bad_lines, on_bad_lines, delim_whitespace, low_memory, memory_map, float_precision, storage_options)\u001b[0m\n\u001b[1;32m    935\u001b[0m kwds_defaults \u001b[38;5;241m=\u001b[39m _refine_defaults_read(\n\u001b[1;32m    936\u001b[0m     dialect,\n\u001b[1;32m    937\u001b[0m     delimiter,\n\u001b[0;32m   (...)\u001b[0m\n\u001b[1;32m    946\u001b[0m     defaults\u001b[38;5;241m=\u001b[39m{\u001b[38;5;124m\"\u001b[39m\u001b[38;5;124mdelimiter\u001b[39m\u001b[38;5;124m\"\u001b[39m: \u001b[38;5;124m\"\u001b[39m\u001b[38;5;124m,\u001b[39m\u001b[38;5;124m\"\u001b[39m},\n\u001b[1;32m    947\u001b[0m )\n\u001b[1;32m    948\u001b[0m kwds\u001b[38;5;241m.\u001b[39mupdate(kwds_defaults)\n\u001b[0;32m--> 950\u001b[0m \u001b[38;5;28;01mreturn\u001b[39;00m \u001b[43m_read\u001b[49m\u001b[43m(\u001b[49m\u001b[43mfilepath_or_buffer\u001b[49m\u001b[43m,\u001b[49m\u001b[43m \u001b[49m\u001b[43mkwds\u001b[49m\u001b[43m)\u001b[49m\n",
      "File \u001b[0;32m~/miniconda3/envs/zoomcamp2/lib/python3.9/site-packages/pandas/io/parsers/readers.py:611\u001b[0m, in \u001b[0;36m_read\u001b[0;34m(filepath_or_buffer, kwds)\u001b[0m\n\u001b[1;32m    608\u001b[0m     \u001b[38;5;28;01mreturn\u001b[39;00m parser\n\u001b[1;32m    610\u001b[0m \u001b[38;5;28;01mwith\u001b[39;00m parser:\n\u001b[0;32m--> 611\u001b[0m     \u001b[38;5;28;01mreturn\u001b[39;00m \u001b[43mparser\u001b[49m\u001b[38;5;241;43m.\u001b[39;49m\u001b[43mread\u001b[49m\u001b[43m(\u001b[49m\u001b[43mnrows\u001b[49m\u001b[43m)\u001b[49m\n",
      "File \u001b[0;32m~/miniconda3/envs/zoomcamp2/lib/python3.9/site-packages/pandas/io/parsers/readers.py:1778\u001b[0m, in \u001b[0;36mTextFileReader.read\u001b[0;34m(self, nrows)\u001b[0m\n\u001b[1;32m   1771\u001b[0m nrows \u001b[38;5;241m=\u001b[39m validate_integer(\u001b[38;5;124m\"\u001b[39m\u001b[38;5;124mnrows\u001b[39m\u001b[38;5;124m\"\u001b[39m, nrows)\n\u001b[1;32m   1772\u001b[0m \u001b[38;5;28;01mtry\u001b[39;00m:\n\u001b[1;32m   1773\u001b[0m     \u001b[38;5;66;03m# error: \"ParserBase\" has no attribute \"read\"\u001b[39;00m\n\u001b[1;32m   1774\u001b[0m     (\n\u001b[1;32m   1775\u001b[0m         index,\n\u001b[1;32m   1776\u001b[0m         columns,\n\u001b[1;32m   1777\u001b[0m         col_dict,\n\u001b[0;32m-> 1778\u001b[0m     ) \u001b[38;5;241m=\u001b[39m \u001b[38;5;28;43mself\u001b[39;49m\u001b[38;5;241;43m.\u001b[39;49m\u001b[43m_engine\u001b[49m\u001b[38;5;241;43m.\u001b[39;49m\u001b[43mread\u001b[49m\u001b[43m(\u001b[49m\u001b[43m  \u001b[49m\u001b[38;5;66;43;03m# type: ignore[attr-defined]\u001b[39;49;00m\n\u001b[1;32m   1779\u001b[0m \u001b[43m        \u001b[49m\u001b[43mnrows\u001b[49m\n\u001b[1;32m   1780\u001b[0m \u001b[43m    \u001b[49m\u001b[43m)\u001b[49m\n\u001b[1;32m   1781\u001b[0m \u001b[38;5;28;01mexcept\u001b[39;00m \u001b[38;5;167;01mException\u001b[39;00m:\n\u001b[1;32m   1782\u001b[0m     \u001b[38;5;28mself\u001b[39m\u001b[38;5;241m.\u001b[39mclose()\n",
      "File \u001b[0;32m~/miniconda3/envs/zoomcamp2/lib/python3.9/site-packages/pandas/io/parsers/c_parser_wrapper.py:230\u001b[0m, in \u001b[0;36mCParserWrapper.read\u001b[0;34m(self, nrows)\u001b[0m\n\u001b[1;32m    228\u001b[0m \u001b[38;5;28;01mtry\u001b[39;00m:\n\u001b[1;32m    229\u001b[0m     \u001b[38;5;28;01mif\u001b[39;00m \u001b[38;5;28mself\u001b[39m\u001b[38;5;241m.\u001b[39mlow_memory:\n\u001b[0;32m--> 230\u001b[0m         chunks \u001b[38;5;241m=\u001b[39m \u001b[38;5;28;43mself\u001b[39;49m\u001b[38;5;241;43m.\u001b[39;49m\u001b[43m_reader\u001b[49m\u001b[38;5;241;43m.\u001b[39;49m\u001b[43mread_low_memory\u001b[49m\u001b[43m(\u001b[49m\u001b[43mnrows\u001b[49m\u001b[43m)\u001b[49m\n\u001b[1;32m    231\u001b[0m         \u001b[38;5;66;03m# destructive to chunks\u001b[39;00m\n\u001b[1;32m    232\u001b[0m         data \u001b[38;5;241m=\u001b[39m _concatenate_chunks(chunks)\n",
      "File \u001b[0;32m~/miniconda3/envs/zoomcamp2/lib/python3.9/site-packages/pandas/_libs/parsers.pyx:808\u001b[0m, in \u001b[0;36mpandas._libs.parsers.TextReader.read_low_memory\u001b[0;34m()\u001b[0m\n",
      "File \u001b[0;32m~/miniconda3/envs/zoomcamp2/lib/python3.9/site-packages/pandas/_libs/parsers.pyx:866\u001b[0m, in \u001b[0;36mpandas._libs.parsers.TextReader._read_rows\u001b[0;34m()\u001b[0m\n",
      "File \u001b[0;32m~/miniconda3/envs/zoomcamp2/lib/python3.9/site-packages/pandas/_libs/parsers.pyx:852\u001b[0m, in \u001b[0;36mpandas._libs.parsers.TextReader._tokenize_rows\u001b[0;34m()\u001b[0m\n",
      "File \u001b[0;32m~/miniconda3/envs/zoomcamp2/lib/python3.9/site-packages/pandas/_libs/parsers.pyx:1965\u001b[0m, in \u001b[0;36mpandas._libs.parsers.raise_parser_error\u001b[0;34m()\u001b[0m\n",
      "\u001b[0;31mUnicodeDecodeError\u001b[0m: 'utf-8' codec can't decode byte 0xa0 in position 148352: invalid start byte"
     ]
    }
   ],
   "source": [
    "df = pd.read_csv('fhv_tripdata_2020-02.csv')\n",
    "df.head()"
   ]
  },
  {
   "cell_type": "code",
   "execution_count": null,
   "metadata": {},
   "outputs": [],
   "source": [
    "import encoding\n",
    " \n",
    "d1  = encoding.detect('geek')\n",
    "print (\"d1 is encoded as  : \", d1)"
   ]
  },
  {
   "cell_type": "code",
   "execution_count": 2,
   "metadata": {},
   "outputs": [
    {
     "ename": "UnicodeDecodeError",
     "evalue": "'utf-8' codec can't decode byte 0xa0 in position 41721: invalid start byte",
     "output_type": "error",
     "traceback": [
      "\u001b[0;31m---------------------------------------------------------------------------\u001b[0m",
      "\u001b[0;31mUnicodeDecodeError\u001b[0m                        Traceback (most recent call last)",
      "Cell \u001b[0;32mIn[2], line 1\u001b[0m\n\u001b[0;32m----> 1\u001b[0m df \u001b[38;5;241m=\u001b[39m \u001b[43mpd\u001b[49m\u001b[38;5;241;43m.\u001b[39;49m\u001b[43mread_csv\u001b[49m\u001b[43m(\u001b[49m\u001b[38;5;124;43m'\u001b[39;49m\u001b[38;5;124;43mfhv_tripdata_2020-02.csv.gz\u001b[39;49m\u001b[38;5;124;43m'\u001b[39;49m\u001b[43m,\u001b[49m\u001b[43mcompression\u001b[49m\u001b[38;5;241;43m=\u001b[39;49m\u001b[38;5;124;43m'\u001b[39;49m\u001b[38;5;124;43mgzip\u001b[39;49m\u001b[38;5;124;43m'\u001b[39;49m\u001b[43m)\u001b[49m\n\u001b[1;32m      2\u001b[0m df\u001b[38;5;241m.\u001b[39mhead()\n",
      "File \u001b[0;32m~/miniconda3/envs/zoomcamp2/lib/python3.9/site-packages/pandas/util/_decorators.py:211\u001b[0m, in \u001b[0;36mdeprecate_kwarg.<locals>._deprecate_kwarg.<locals>.wrapper\u001b[0;34m(*args, **kwargs)\u001b[0m\n\u001b[1;32m    209\u001b[0m     \u001b[38;5;28;01melse\u001b[39;00m:\n\u001b[1;32m    210\u001b[0m         kwargs[new_arg_name] \u001b[38;5;241m=\u001b[39m new_arg_value\n\u001b[0;32m--> 211\u001b[0m \u001b[38;5;28;01mreturn\u001b[39;00m \u001b[43mfunc\u001b[49m\u001b[43m(\u001b[49m\u001b[38;5;241;43m*\u001b[39;49m\u001b[43margs\u001b[49m\u001b[43m,\u001b[49m\u001b[43m \u001b[49m\u001b[38;5;241;43m*\u001b[39;49m\u001b[38;5;241;43m*\u001b[39;49m\u001b[43mkwargs\u001b[49m\u001b[43m)\u001b[49m\n",
      "File \u001b[0;32m~/miniconda3/envs/zoomcamp2/lib/python3.9/site-packages/pandas/util/_decorators.py:331\u001b[0m, in \u001b[0;36mdeprecate_nonkeyword_arguments.<locals>.decorate.<locals>.wrapper\u001b[0;34m(*args, **kwargs)\u001b[0m\n\u001b[1;32m    325\u001b[0m \u001b[38;5;28;01mif\u001b[39;00m \u001b[38;5;28mlen\u001b[39m(args) \u001b[38;5;241m>\u001b[39m num_allow_args:\n\u001b[1;32m    326\u001b[0m     warnings\u001b[38;5;241m.\u001b[39mwarn(\n\u001b[1;32m    327\u001b[0m         msg\u001b[38;5;241m.\u001b[39mformat(arguments\u001b[38;5;241m=\u001b[39m_format_argument_list(allow_args)),\n\u001b[1;32m    328\u001b[0m         \u001b[38;5;167;01mFutureWarning\u001b[39;00m,\n\u001b[1;32m    329\u001b[0m         stacklevel\u001b[38;5;241m=\u001b[39mfind_stack_level(),\n\u001b[1;32m    330\u001b[0m     )\n\u001b[0;32m--> 331\u001b[0m \u001b[38;5;28;01mreturn\u001b[39;00m \u001b[43mfunc\u001b[49m\u001b[43m(\u001b[49m\u001b[38;5;241;43m*\u001b[39;49m\u001b[43margs\u001b[49m\u001b[43m,\u001b[49m\u001b[43m \u001b[49m\u001b[38;5;241;43m*\u001b[39;49m\u001b[38;5;241;43m*\u001b[39;49m\u001b[43mkwargs\u001b[49m\u001b[43m)\u001b[49m\n",
      "File \u001b[0;32m~/miniconda3/envs/zoomcamp2/lib/python3.9/site-packages/pandas/io/parsers/readers.py:950\u001b[0m, in \u001b[0;36mread_csv\u001b[0;34m(filepath_or_buffer, sep, delimiter, header, names, index_col, usecols, squeeze, prefix, mangle_dupe_cols, dtype, engine, converters, true_values, false_values, skipinitialspace, skiprows, skipfooter, nrows, na_values, keep_default_na, na_filter, verbose, skip_blank_lines, parse_dates, infer_datetime_format, keep_date_col, date_parser, dayfirst, cache_dates, iterator, chunksize, compression, thousands, decimal, lineterminator, quotechar, quoting, doublequote, escapechar, comment, encoding, encoding_errors, dialect, error_bad_lines, warn_bad_lines, on_bad_lines, delim_whitespace, low_memory, memory_map, float_precision, storage_options)\u001b[0m\n\u001b[1;32m    935\u001b[0m kwds_defaults \u001b[38;5;241m=\u001b[39m _refine_defaults_read(\n\u001b[1;32m    936\u001b[0m     dialect,\n\u001b[1;32m    937\u001b[0m     delimiter,\n\u001b[0;32m   (...)\u001b[0m\n\u001b[1;32m    946\u001b[0m     defaults\u001b[38;5;241m=\u001b[39m{\u001b[38;5;124m\"\u001b[39m\u001b[38;5;124mdelimiter\u001b[39m\u001b[38;5;124m\"\u001b[39m: \u001b[38;5;124m\"\u001b[39m\u001b[38;5;124m,\u001b[39m\u001b[38;5;124m\"\u001b[39m},\n\u001b[1;32m    947\u001b[0m )\n\u001b[1;32m    948\u001b[0m kwds\u001b[38;5;241m.\u001b[39mupdate(kwds_defaults)\n\u001b[0;32m--> 950\u001b[0m \u001b[38;5;28;01mreturn\u001b[39;00m \u001b[43m_read\u001b[49m\u001b[43m(\u001b[49m\u001b[43mfilepath_or_buffer\u001b[49m\u001b[43m,\u001b[49m\u001b[43m \u001b[49m\u001b[43mkwds\u001b[49m\u001b[43m)\u001b[49m\n",
      "File \u001b[0;32m~/miniconda3/envs/zoomcamp2/lib/python3.9/site-packages/pandas/io/parsers/readers.py:611\u001b[0m, in \u001b[0;36m_read\u001b[0;34m(filepath_or_buffer, kwds)\u001b[0m\n\u001b[1;32m    608\u001b[0m     \u001b[38;5;28;01mreturn\u001b[39;00m parser\n\u001b[1;32m    610\u001b[0m \u001b[38;5;28;01mwith\u001b[39;00m parser:\n\u001b[0;32m--> 611\u001b[0m     \u001b[38;5;28;01mreturn\u001b[39;00m \u001b[43mparser\u001b[49m\u001b[38;5;241;43m.\u001b[39;49m\u001b[43mread\u001b[49m\u001b[43m(\u001b[49m\u001b[43mnrows\u001b[49m\u001b[43m)\u001b[49m\n",
      "File \u001b[0;32m~/miniconda3/envs/zoomcamp2/lib/python3.9/site-packages/pandas/io/parsers/readers.py:1778\u001b[0m, in \u001b[0;36mTextFileReader.read\u001b[0;34m(self, nrows)\u001b[0m\n\u001b[1;32m   1771\u001b[0m nrows \u001b[38;5;241m=\u001b[39m validate_integer(\u001b[38;5;124m\"\u001b[39m\u001b[38;5;124mnrows\u001b[39m\u001b[38;5;124m\"\u001b[39m, nrows)\n\u001b[1;32m   1772\u001b[0m \u001b[38;5;28;01mtry\u001b[39;00m:\n\u001b[1;32m   1773\u001b[0m     \u001b[38;5;66;03m# error: \"ParserBase\" has no attribute \"read\"\u001b[39;00m\n\u001b[1;32m   1774\u001b[0m     (\n\u001b[1;32m   1775\u001b[0m         index,\n\u001b[1;32m   1776\u001b[0m         columns,\n\u001b[1;32m   1777\u001b[0m         col_dict,\n\u001b[0;32m-> 1778\u001b[0m     ) \u001b[38;5;241m=\u001b[39m \u001b[38;5;28;43mself\u001b[39;49m\u001b[38;5;241;43m.\u001b[39;49m\u001b[43m_engine\u001b[49m\u001b[38;5;241;43m.\u001b[39;49m\u001b[43mread\u001b[49m\u001b[43m(\u001b[49m\u001b[43m  \u001b[49m\u001b[38;5;66;43;03m# type: ignore[attr-defined]\u001b[39;49;00m\n\u001b[1;32m   1779\u001b[0m \u001b[43m        \u001b[49m\u001b[43mnrows\u001b[49m\n\u001b[1;32m   1780\u001b[0m \u001b[43m    \u001b[49m\u001b[43m)\u001b[49m\n\u001b[1;32m   1781\u001b[0m \u001b[38;5;28;01mexcept\u001b[39;00m \u001b[38;5;167;01mException\u001b[39;00m:\n\u001b[1;32m   1782\u001b[0m     \u001b[38;5;28mself\u001b[39m\u001b[38;5;241m.\u001b[39mclose()\n",
      "File \u001b[0;32m~/miniconda3/envs/zoomcamp2/lib/python3.9/site-packages/pandas/io/parsers/c_parser_wrapper.py:230\u001b[0m, in \u001b[0;36mCParserWrapper.read\u001b[0;34m(self, nrows)\u001b[0m\n\u001b[1;32m    228\u001b[0m \u001b[38;5;28;01mtry\u001b[39;00m:\n\u001b[1;32m    229\u001b[0m     \u001b[38;5;28;01mif\u001b[39;00m \u001b[38;5;28mself\u001b[39m\u001b[38;5;241m.\u001b[39mlow_memory:\n\u001b[0;32m--> 230\u001b[0m         chunks \u001b[38;5;241m=\u001b[39m \u001b[38;5;28;43mself\u001b[39;49m\u001b[38;5;241;43m.\u001b[39;49m\u001b[43m_reader\u001b[49m\u001b[38;5;241;43m.\u001b[39;49m\u001b[43mread_low_memory\u001b[49m\u001b[43m(\u001b[49m\u001b[43mnrows\u001b[49m\u001b[43m)\u001b[49m\n\u001b[1;32m    231\u001b[0m         \u001b[38;5;66;03m# destructive to chunks\u001b[39;00m\n\u001b[1;32m    232\u001b[0m         data \u001b[38;5;241m=\u001b[39m _concatenate_chunks(chunks)\n",
      "File \u001b[0;32m~/miniconda3/envs/zoomcamp2/lib/python3.9/site-packages/pandas/_libs/parsers.pyx:808\u001b[0m, in \u001b[0;36mpandas._libs.parsers.TextReader.read_low_memory\u001b[0;34m()\u001b[0m\n",
      "File \u001b[0;32m~/miniconda3/envs/zoomcamp2/lib/python3.9/site-packages/pandas/_libs/parsers.pyx:866\u001b[0m, in \u001b[0;36mpandas._libs.parsers.TextReader._read_rows\u001b[0;34m()\u001b[0m\n",
      "File \u001b[0;32m~/miniconda3/envs/zoomcamp2/lib/python3.9/site-packages/pandas/_libs/parsers.pyx:852\u001b[0m, in \u001b[0;36mpandas._libs.parsers.TextReader._tokenize_rows\u001b[0;34m()\u001b[0m\n",
      "File \u001b[0;32m~/miniconda3/envs/zoomcamp2/lib/python3.9/site-packages/pandas/_libs/parsers.pyx:1965\u001b[0m, in \u001b[0;36mpandas._libs.parsers.raise_parser_error\u001b[0;34m()\u001b[0m\n",
      "\u001b[0;31mUnicodeDecodeError\u001b[0m: 'utf-8' codec can't decode byte 0xa0 in position 41721: invalid start byte"
     ]
    }
   ],
   "source": [
    "df = pd.read_csv('fhv_tripdata_2020-02.csv.gz',compression='gzip')\n",
    "df.head()"
   ]
  },
  {
   "cell_type": "code",
   "execution_count": 12,
   "metadata": {},
   "outputs": [
    {
     "name": "stdout",
     "output_type": "stream",
     "text": [
      "green_tripdata_2019-05.csv.gz\n",
      "file destino green_tripdata_2019-05.parquet\n",
      "fhv_tripdata_2020-01.csv.gz\n",
      "file destino fhv_tripdata_2020-01.parquet\n",
      "green_tripdata_2019-03.csv.gz\n",
      "file destino green_tripdata_2019-03.parquet\n",
      "green_tripdata_2019-02.csv.gz\n",
      "file destino green_tripdata_2019-02.parquet\n",
      "fhv_tripdata_2019-02.csv.gz\n",
      "file destino fhv_tripdata_2019-02.parquet\n",
      "fhv_tripdata_2019-07.csv.gz\n",
      "file destino fhv_tripdata_2019-07.parquet\n",
      "green_tripdata_2020-09.csv.gz\n"
     ]
    },
    {
     "name": "stderr",
     "output_type": "stream",
     "text": [
      "/tmp/ipykernel_30818/3693682669.py:4: DtypeWarning: Columns (3) have mixed types. Specify dtype option on import or set low_memory=False.\n",
      "  df = pd.read_csv(file)\n"
     ]
    },
    {
     "name": "stdout",
     "output_type": "stream",
     "text": [
      "file destino green_tripdata_2020-09.parquet\n",
      "yellow_tripdata_2020-03.csv.gz\n"
     ]
    },
    {
     "name": "stderr",
     "output_type": "stream",
     "text": [
      "/tmp/ipykernel_30818/3693682669.py:4: DtypeWarning: Columns (6) have mixed types. Specify dtype option on import or set low_memory=False.\n",
      "  df = pd.read_csv(file)\n"
     ]
    },
    {
     "name": "stdout",
     "output_type": "stream",
     "text": [
      "file destino yellow_tripdata_2020-03.parquet\n",
      "green_tripdata_2020-06.csv.gz\n",
      "file destino green_tripdata_2020-06.parquet\n",
      "yellow_tripdata_2019-09.csv.gz\n"
     ]
    },
    {
     "name": "stderr",
     "output_type": "stream",
     "text": [
      "/tmp/ipykernel_30818/3693682669.py:4: DtypeWarning: Columns (6) have mixed types. Specify dtype option on import or set low_memory=False.\n",
      "  df = pd.read_csv(file)\n"
     ]
    },
    {
     "name": "stdout",
     "output_type": "stream",
     "text": [
      "file destino yellow_tripdata_2019-09.parquet\n",
      "yellow_tripdata_2020-01.csv.gz\n"
     ]
    },
    {
     "name": "stderr",
     "output_type": "stream",
     "text": [
      "/tmp/ipykernel_30818/3693682669.py:4: DtypeWarning: Columns (6) have mixed types. Specify dtype option on import or set low_memory=False.\n",
      "  df = pd.read_csv(file)\n"
     ]
    },
    {
     "name": "stdout",
     "output_type": "stream",
     "text": [
      "file destino yellow_tripdata_2020-01.parquet\n",
      "green_tripdata_2020-11.csv.gz\n"
     ]
    },
    {
     "name": "stderr",
     "output_type": "stream",
     "text": [
      "/tmp/ipykernel_30818/3693682669.py:4: DtypeWarning: Columns (3) have mixed types. Specify dtype option on import or set low_memory=False.\n",
      "  df = pd.read_csv(file)\n"
     ]
    },
    {
     "name": "stdout",
     "output_type": "stream",
     "text": [
      "file destino green_tripdata_2020-11.parquet\n",
      "green_tripdata_2020-02.csv.gz\n"
     ]
    },
    {
     "name": "stderr",
     "output_type": "stream",
     "text": [
      "/tmp/ipykernel_30818/3693682669.py:4: DtypeWarning: Columns (3) have mixed types. Specify dtype option on import or set low_memory=False.\n",
      "  df = pd.read_csv(file)\n"
     ]
    },
    {
     "name": "stdout",
     "output_type": "stream",
     "text": [
      "file destino green_tripdata_2020-02.parquet\n",
      "yellow_tripdata_2020-11.csv.gz\n"
     ]
    },
    {
     "name": "stderr",
     "output_type": "stream",
     "text": [
      "/tmp/ipykernel_30818/3693682669.py:4: DtypeWarning: Columns (6) have mixed types. Specify dtype option on import or set low_memory=False.\n",
      "  df = pd.read_csv(file)\n"
     ]
    },
    {
     "name": "stdout",
     "output_type": "stream",
     "text": [
      "file destino yellow_tripdata_2020-11.parquet\n",
      "fhv_tripdata_2019-10.csv.gz\n",
      "file destino fhv_tripdata_2019-10.parquet\n",
      "yellow_tripdata_2020-02.csv.gz\n"
     ]
    },
    {
     "name": "stderr",
     "output_type": "stream",
     "text": [
      "/tmp/ipykernel_30818/3693682669.py:4: DtypeWarning: Columns (6) have mixed types. Specify dtype option on import or set low_memory=False.\n",
      "  df = pd.read_csv(file)\n"
     ]
    },
    {
     "name": "stdout",
     "output_type": "stream",
     "text": [
      "file destino yellow_tripdata_2020-02.parquet\n",
      "fhv_tripdata_2019-06.csv.gz\n",
      "file destino fhv_tripdata_2019-06.parquet\n",
      "fhv_tripdata_2020-08.csv.gz\n",
      "file destino fhv_tripdata_2020-08.parquet\n",
      "fhv_tripdata_2020-03.csv.gz\n",
      "file destino fhv_tripdata_2020-03.parquet\n",
      "yellow_tripdata_2020-05.csv.gz\n"
     ]
    },
    {
     "name": "stderr",
     "output_type": "stream",
     "text": [
      "/tmp/ipykernel_30818/3693682669.py:4: DtypeWarning: Columns (6) have mixed types. Specify dtype option on import or set low_memory=False.\n",
      "  df = pd.read_csv(file)\n"
     ]
    },
    {
     "name": "stdout",
     "output_type": "stream",
     "text": [
      "file destino yellow_tripdata_2020-05.parquet\n",
      "fhv_tripdata_2019-08.csv.gz\n",
      "file destino fhv_tripdata_2019-08.parquet\n",
      "fhv_tripdata_2019-12.csv.gz\n",
      "file destino fhv_tripdata_2019-12.parquet\n",
      "yellow_tripdata_2020-12.csv.gz\n"
     ]
    },
    {
     "name": "stderr",
     "output_type": "stream",
     "text": [
      "/tmp/ipykernel_30818/3693682669.py:4: DtypeWarning: Columns (6) have mixed types. Specify dtype option on import or set low_memory=False.\n",
      "  df = pd.read_csv(file)\n"
     ]
    },
    {
     "name": "stdout",
     "output_type": "stream",
     "text": [
      "file destino yellow_tripdata_2020-12.parquet\n",
      "yellow_tripdata_2019-02.csv.gz\n",
      "file destino yellow_tripdata_2019-02.parquet\n",
      "yellow_tripdata_2019-03.csv.gz\n",
      "file destino yellow_tripdata_2019-03.parquet\n",
      "green_tripdata_2019-04.csv.gz\n",
      "file destino green_tripdata_2019-04.parquet\n",
      "green_tripdata_2019-10.csv.gz\n"
     ]
    },
    {
     "name": "stderr",
     "output_type": "stream",
     "text": [
      "/tmp/ipykernel_30818/3693682669.py:4: DtypeWarning: Columns (3) have mixed types. Specify dtype option on import or set low_memory=False.\n",
      "  df = pd.read_csv(file)\n"
     ]
    },
    {
     "name": "stdout",
     "output_type": "stream",
     "text": [
      "file destino green_tripdata_2019-10.parquet\n",
      "green_tripdata_2020-12.csv.gz\n"
     ]
    },
    {
     "name": "stderr",
     "output_type": "stream",
     "text": [
      "/tmp/ipykernel_30818/3693682669.py:4: DtypeWarning: Columns (3) have mixed types. Specify dtype option on import or set low_memory=False.\n",
      "  df = pd.read_csv(file)\n"
     ]
    },
    {
     "name": "stdout",
     "output_type": "stream",
     "text": [
      "file destino green_tripdata_2020-12.parquet\n",
      "fhv_tripdata_2020-06.csv.gz\n",
      "file destino fhv_tripdata_2020-06.parquet\n",
      "fhv_tripdata_2020-11.csv.gz\n",
      "file destino fhv_tripdata_2020-11.parquet\n",
      "fhv_tripdata_2020-10.csv.gz\n",
      "file destino fhv_tripdata_2020-10.parquet\n",
      "fhv_tripdata_2020-09.csv.gz\n",
      "file destino fhv_tripdata_2020-09.parquet\n",
      "green_tripdata_2019-01.csv.gz\n",
      "file destino green_tripdata_2019-01.parquet\n",
      "yellow_tripdata_2019-11.csv.gz\n"
     ]
    },
    {
     "name": "stderr",
     "output_type": "stream",
     "text": [
      "/tmp/ipykernel_30818/3693682669.py:4: DtypeWarning: Columns (6) have mixed types. Specify dtype option on import or set low_memory=False.\n",
      "  df = pd.read_csv(file)\n"
     ]
    },
    {
     "name": "stdout",
     "output_type": "stream",
     "text": [
      "file destino yellow_tripdata_2019-11.parquet\n",
      "fhv_tripdata_2019-11.csv.gz\n",
      "file destino fhv_tripdata_2019-11.parquet\n",
      "green_tripdata_2019-06.csv.gz\n",
      "file destino green_tripdata_2019-06.parquet\n",
      "yellow_tripdata_2019-01.csv.gz\n",
      "file destino yellow_tripdata_2019-01.parquet\n",
      "fhv_tripdata_2020-02.csv.gz\n"
     ]
    },
    {
     "ename": "UnicodeDecodeError",
     "evalue": "'utf-8' codec can't decode byte 0xa0 in position 41721: invalid start byte",
     "output_type": "error",
     "traceback": [
      "\u001b[0;31m---------------------------------------------------------------------------\u001b[0m",
      "\u001b[0;31mUnicodeDecodeError\u001b[0m                        Traceback (most recent call last)",
      "Cell \u001b[0;32mIn[12], line 4\u001b[0m\n\u001b[1;32m      2\u001b[0m \u001b[38;5;28;01mif\u001b[39;00m file\u001b[38;5;241m.\u001b[39mendswith(\u001b[38;5;124m'\u001b[39m\u001b[38;5;124m.csv.gz\u001b[39m\u001b[38;5;124m'\u001b[39m):\n\u001b[1;32m      3\u001b[0m     \u001b[38;5;28mprint\u001b[39m(file)\n\u001b[0;32m----> 4\u001b[0m     df \u001b[38;5;241m=\u001b[39m \u001b[43mpd\u001b[49m\u001b[38;5;241;43m.\u001b[39;49m\u001b[43mread_csv\u001b[49m\u001b[43m(\u001b[49m\u001b[43mfile\u001b[49m\u001b[43m)\u001b[49m\n\u001b[1;32m      5\u001b[0m     file_name_destino \u001b[38;5;241m=\u001b[39m file\u001b[38;5;241m.\u001b[39mreplace(\u001b[38;5;124m'\u001b[39m\u001b[38;5;124m.csv.gz\u001b[39m\u001b[38;5;124m'\u001b[39m,\u001b[38;5;124m'\u001b[39m\u001b[38;5;124m.parquet\u001b[39m\u001b[38;5;124m'\u001b[39m)\n\u001b[1;32m      6\u001b[0m     \u001b[38;5;28mprint\u001b[39m(\u001b[38;5;124m\"\u001b[39m\u001b[38;5;124mfile destino \u001b[39m\u001b[38;5;132;01m{}\u001b[39;00m\u001b[38;5;124m\"\u001b[39m\u001b[38;5;241m.\u001b[39mformat(file_name_destino))\n",
      "File \u001b[0;32m~/.local/lib/python3.8/site-packages/pandas/util/_decorators.py:211\u001b[0m, in \u001b[0;36mdeprecate_kwarg.<locals>._deprecate_kwarg.<locals>.wrapper\u001b[0;34m(*args, **kwargs)\u001b[0m\n\u001b[1;32m    209\u001b[0m     \u001b[38;5;28;01melse\u001b[39;00m:\n\u001b[1;32m    210\u001b[0m         kwargs[new_arg_name] \u001b[38;5;241m=\u001b[39m new_arg_value\n\u001b[0;32m--> 211\u001b[0m \u001b[38;5;28;01mreturn\u001b[39;00m \u001b[43mfunc\u001b[49m\u001b[43m(\u001b[49m\u001b[38;5;241;43m*\u001b[39;49m\u001b[43margs\u001b[49m\u001b[43m,\u001b[49m\u001b[43m \u001b[49m\u001b[38;5;241;43m*\u001b[39;49m\u001b[38;5;241;43m*\u001b[39;49m\u001b[43mkwargs\u001b[49m\u001b[43m)\u001b[49m\n",
      "File \u001b[0;32m~/.local/lib/python3.8/site-packages/pandas/util/_decorators.py:331\u001b[0m, in \u001b[0;36mdeprecate_nonkeyword_arguments.<locals>.decorate.<locals>.wrapper\u001b[0;34m(*args, **kwargs)\u001b[0m\n\u001b[1;32m    325\u001b[0m \u001b[38;5;28;01mif\u001b[39;00m \u001b[38;5;28mlen\u001b[39m(args) \u001b[38;5;241m>\u001b[39m num_allow_args:\n\u001b[1;32m    326\u001b[0m     warnings\u001b[38;5;241m.\u001b[39mwarn(\n\u001b[1;32m    327\u001b[0m         msg\u001b[38;5;241m.\u001b[39mformat(arguments\u001b[38;5;241m=\u001b[39m_format_argument_list(allow_args)),\n\u001b[1;32m    328\u001b[0m         \u001b[38;5;167;01mFutureWarning\u001b[39;00m,\n\u001b[1;32m    329\u001b[0m         stacklevel\u001b[38;5;241m=\u001b[39mfind_stack_level(),\n\u001b[1;32m    330\u001b[0m     )\n\u001b[0;32m--> 331\u001b[0m \u001b[38;5;28;01mreturn\u001b[39;00m \u001b[43mfunc\u001b[49m\u001b[43m(\u001b[49m\u001b[38;5;241;43m*\u001b[39;49m\u001b[43margs\u001b[49m\u001b[43m,\u001b[49m\u001b[43m \u001b[49m\u001b[38;5;241;43m*\u001b[39;49m\u001b[38;5;241;43m*\u001b[39;49m\u001b[43mkwargs\u001b[49m\u001b[43m)\u001b[49m\n",
      "File \u001b[0;32m~/.local/lib/python3.8/site-packages/pandas/io/parsers/readers.py:950\u001b[0m, in \u001b[0;36mread_csv\u001b[0;34m(filepath_or_buffer, sep, delimiter, header, names, index_col, usecols, squeeze, prefix, mangle_dupe_cols, dtype, engine, converters, true_values, false_values, skipinitialspace, skiprows, skipfooter, nrows, na_values, keep_default_na, na_filter, verbose, skip_blank_lines, parse_dates, infer_datetime_format, keep_date_col, date_parser, dayfirst, cache_dates, iterator, chunksize, compression, thousands, decimal, lineterminator, quotechar, quoting, doublequote, escapechar, comment, encoding, encoding_errors, dialect, error_bad_lines, warn_bad_lines, on_bad_lines, delim_whitespace, low_memory, memory_map, float_precision, storage_options)\u001b[0m\n\u001b[1;32m    935\u001b[0m kwds_defaults \u001b[38;5;241m=\u001b[39m _refine_defaults_read(\n\u001b[1;32m    936\u001b[0m     dialect,\n\u001b[1;32m    937\u001b[0m     delimiter,\n\u001b[0;32m   (...)\u001b[0m\n\u001b[1;32m    946\u001b[0m     defaults\u001b[38;5;241m=\u001b[39m{\u001b[38;5;124m\"\u001b[39m\u001b[38;5;124mdelimiter\u001b[39m\u001b[38;5;124m\"\u001b[39m: \u001b[38;5;124m\"\u001b[39m\u001b[38;5;124m,\u001b[39m\u001b[38;5;124m\"\u001b[39m},\n\u001b[1;32m    947\u001b[0m )\n\u001b[1;32m    948\u001b[0m kwds\u001b[38;5;241m.\u001b[39mupdate(kwds_defaults)\n\u001b[0;32m--> 950\u001b[0m \u001b[38;5;28;01mreturn\u001b[39;00m \u001b[43m_read\u001b[49m\u001b[43m(\u001b[49m\u001b[43mfilepath_or_buffer\u001b[49m\u001b[43m,\u001b[49m\u001b[43m \u001b[49m\u001b[43mkwds\u001b[49m\u001b[43m)\u001b[49m\n",
      "File \u001b[0;32m~/.local/lib/python3.8/site-packages/pandas/io/parsers/readers.py:611\u001b[0m, in \u001b[0;36m_read\u001b[0;34m(filepath_or_buffer, kwds)\u001b[0m\n\u001b[1;32m    608\u001b[0m     \u001b[38;5;28;01mreturn\u001b[39;00m parser\n\u001b[1;32m    610\u001b[0m \u001b[38;5;28;01mwith\u001b[39;00m parser:\n\u001b[0;32m--> 611\u001b[0m     \u001b[38;5;28;01mreturn\u001b[39;00m \u001b[43mparser\u001b[49m\u001b[38;5;241;43m.\u001b[39;49m\u001b[43mread\u001b[49m\u001b[43m(\u001b[49m\u001b[43mnrows\u001b[49m\u001b[43m)\u001b[49m\n",
      "File \u001b[0;32m~/.local/lib/python3.8/site-packages/pandas/io/parsers/readers.py:1778\u001b[0m, in \u001b[0;36mTextFileReader.read\u001b[0;34m(self, nrows)\u001b[0m\n\u001b[1;32m   1771\u001b[0m nrows \u001b[38;5;241m=\u001b[39m validate_integer(\u001b[38;5;124m\"\u001b[39m\u001b[38;5;124mnrows\u001b[39m\u001b[38;5;124m\"\u001b[39m, nrows)\n\u001b[1;32m   1772\u001b[0m \u001b[38;5;28;01mtry\u001b[39;00m:\n\u001b[1;32m   1773\u001b[0m     \u001b[38;5;66;03m# error: \"ParserBase\" has no attribute \"read\"\u001b[39;00m\n\u001b[1;32m   1774\u001b[0m     (\n\u001b[1;32m   1775\u001b[0m         index,\n\u001b[1;32m   1776\u001b[0m         columns,\n\u001b[1;32m   1777\u001b[0m         col_dict,\n\u001b[0;32m-> 1778\u001b[0m     ) \u001b[38;5;241m=\u001b[39m \u001b[38;5;28;43mself\u001b[39;49m\u001b[38;5;241;43m.\u001b[39;49m\u001b[43m_engine\u001b[49m\u001b[38;5;241;43m.\u001b[39;49m\u001b[43mread\u001b[49m\u001b[43m(\u001b[49m\u001b[43m  \u001b[49m\u001b[38;5;66;43;03m# type: ignore[attr-defined]\u001b[39;49;00m\n\u001b[1;32m   1779\u001b[0m \u001b[43m        \u001b[49m\u001b[43mnrows\u001b[49m\n\u001b[1;32m   1780\u001b[0m \u001b[43m    \u001b[49m\u001b[43m)\u001b[49m\n\u001b[1;32m   1781\u001b[0m \u001b[38;5;28;01mexcept\u001b[39;00m \u001b[38;5;167;01mException\u001b[39;00m:\n\u001b[1;32m   1782\u001b[0m     \u001b[38;5;28mself\u001b[39m\u001b[38;5;241m.\u001b[39mclose()\n",
      "File \u001b[0;32m~/.local/lib/python3.8/site-packages/pandas/io/parsers/c_parser_wrapper.py:230\u001b[0m, in \u001b[0;36mCParserWrapper.read\u001b[0;34m(self, nrows)\u001b[0m\n\u001b[1;32m    228\u001b[0m \u001b[38;5;28;01mtry\u001b[39;00m:\n\u001b[1;32m    229\u001b[0m     \u001b[38;5;28;01mif\u001b[39;00m \u001b[38;5;28mself\u001b[39m\u001b[38;5;241m.\u001b[39mlow_memory:\n\u001b[0;32m--> 230\u001b[0m         chunks \u001b[38;5;241m=\u001b[39m \u001b[38;5;28;43mself\u001b[39;49m\u001b[38;5;241;43m.\u001b[39;49m\u001b[43m_reader\u001b[49m\u001b[38;5;241;43m.\u001b[39;49m\u001b[43mread_low_memory\u001b[49m\u001b[43m(\u001b[49m\u001b[43mnrows\u001b[49m\u001b[43m)\u001b[49m\n\u001b[1;32m    231\u001b[0m         \u001b[38;5;66;03m# destructive to chunks\u001b[39;00m\n\u001b[1;32m    232\u001b[0m         data \u001b[38;5;241m=\u001b[39m _concatenate_chunks(chunks)\n",
      "File \u001b[0;32m~/.local/lib/python3.8/site-packages/pandas/_libs/parsers.pyx:808\u001b[0m, in \u001b[0;36mpandas._libs.parsers.TextReader.read_low_memory\u001b[0;34m()\u001b[0m\n",
      "File \u001b[0;32m~/.local/lib/python3.8/site-packages/pandas/_libs/parsers.pyx:866\u001b[0m, in \u001b[0;36mpandas._libs.parsers.TextReader._read_rows\u001b[0;34m()\u001b[0m\n",
      "File \u001b[0;32m~/.local/lib/python3.8/site-packages/pandas/_libs/parsers.pyx:852\u001b[0m, in \u001b[0;36mpandas._libs.parsers.TextReader._tokenize_rows\u001b[0;34m()\u001b[0m\n",
      "File \u001b[0;32m~/.local/lib/python3.8/site-packages/pandas/_libs/parsers.pyx:1965\u001b[0m, in \u001b[0;36mpandas._libs.parsers.raise_parser_error\u001b[0;34m()\u001b[0m\n",
      "\u001b[0;31mUnicodeDecodeError\u001b[0m: 'utf-8' codec can't decode byte 0xa0 in position 41721: invalid start byte"
     ]
    }
   ],
   "source": [
    "\n",
    "\n",
    "for file in os.listdir():\n",
    "    if file.endswith('.csv.gz'):\n",
    "        file_name_destino = file.replace('.csv.gz','.parquet')\n",
    "        if file_name_destino:\n",
    "        print(file)\n",
    "        df = pd.read_csv(file)\n",
    "        \n",
    "        print(\"file destino {}\".format(file_name_destino))\n",
    "        df.to_parquet(file_name_destino,engine='fastparquet')\n",
    "\n",
    "    "
   ]
  },
  {
   "cell_type": "code",
   "execution_count": 3,
   "metadata": {},
   "outputs": [],
   "source": [
    "cadena = \"asdasd.csv.gz\""
   ]
  },
  {
   "cell_type": "code",
   "execution_count": 4,
   "metadata": {},
   "outputs": [
    {
     "data": {
      "text/plain": [
       "'asdasd.parquet'"
      ]
     },
     "execution_count": 4,
     "metadata": {},
     "output_type": "execute_result"
    }
   ],
   "source": [
    "cadena.replace('.csv.gz','.parquet')"
   ]
  },
  {
   "cell_type": "code",
   "execution_count": 15,
   "metadata": {},
   "outputs": [
    {
     "name": "stdout",
     "output_type": "stream",
     "text": [
      "green_tripdata_2019-11.csv.gz\r\n"
     ]
    }
   ],
   "source": [
    "!ls | grep green_tripdata_2019*"
   ]
  },
  {
   "cell_type": "code",
   "execution_count": 9,
   "metadata": {},
   "outputs": [
    {
     "ename": "UnicodeDecodeError",
     "evalue": "'utf-8' codec can't decode byte 0xa0 in position 41721: invalid start byte",
     "output_type": "error",
     "traceback": [
      "\u001b[0;31m---------------------------------------------------------------------------\u001b[0m",
      "\u001b[0;31mUnicodeDecodeError\u001b[0m                        Traceback (most recent call last)",
      "Cell \u001b[0;32mIn[9], line 1\u001b[0m\n\u001b[0;32m----> 1\u001b[0m df \u001b[38;5;241m=\u001b[39m \u001b[43mpd\u001b[49m\u001b[38;5;241;43m.\u001b[39;49m\u001b[43mread_csv\u001b[49m\u001b[43m(\u001b[49m\u001b[38;5;124;43m'\u001b[39;49m\u001b[38;5;124;43mfhv_tripdata_2020-02.csv.gz\u001b[39;49m\u001b[38;5;124;43m'\u001b[39;49m\u001b[43m)\u001b[49m\n\u001b[1;32m      3\u001b[0m df\u001b[38;5;241m.\u001b[39mto_parquet(\u001b[38;5;124m'\u001b[39m\u001b[38;5;124mfhv_tripdata_2020-02.parquet\u001b[39m\u001b[38;5;124m'\u001b[39m,engine\u001b[38;5;241m=\u001b[39m\u001b[38;5;124m'\u001b[39m\u001b[38;5;124mpyarrow\u001b[39m\u001b[38;5;124m'\u001b[39m)\n\u001b[1;32m      4\u001b[0m get_ipython()\u001b[38;5;241m.\u001b[39msystem(\u001b[38;5;124m'\u001b[39m\u001b[38;5;124mls | grep green_tripdata_2019*\u001b[39m\u001b[38;5;124m'\u001b[39m)\n",
      "File \u001b[0;32m~/miniconda3/envs/zoomcamp2/lib/python3.9/site-packages/pandas/util/_decorators.py:211\u001b[0m, in \u001b[0;36mdeprecate_kwarg.<locals>._deprecate_kwarg.<locals>.wrapper\u001b[0;34m(*args, **kwargs)\u001b[0m\n\u001b[1;32m    209\u001b[0m     \u001b[38;5;28;01melse\u001b[39;00m:\n\u001b[1;32m    210\u001b[0m         kwargs[new_arg_name] \u001b[38;5;241m=\u001b[39m new_arg_value\n\u001b[0;32m--> 211\u001b[0m \u001b[38;5;28;01mreturn\u001b[39;00m \u001b[43mfunc\u001b[49m\u001b[43m(\u001b[49m\u001b[38;5;241;43m*\u001b[39;49m\u001b[43margs\u001b[49m\u001b[43m,\u001b[49m\u001b[43m \u001b[49m\u001b[38;5;241;43m*\u001b[39;49m\u001b[38;5;241;43m*\u001b[39;49m\u001b[43mkwargs\u001b[49m\u001b[43m)\u001b[49m\n",
      "File \u001b[0;32m~/miniconda3/envs/zoomcamp2/lib/python3.9/site-packages/pandas/util/_decorators.py:331\u001b[0m, in \u001b[0;36mdeprecate_nonkeyword_arguments.<locals>.decorate.<locals>.wrapper\u001b[0;34m(*args, **kwargs)\u001b[0m\n\u001b[1;32m    325\u001b[0m \u001b[38;5;28;01mif\u001b[39;00m \u001b[38;5;28mlen\u001b[39m(args) \u001b[38;5;241m>\u001b[39m num_allow_args:\n\u001b[1;32m    326\u001b[0m     warnings\u001b[38;5;241m.\u001b[39mwarn(\n\u001b[1;32m    327\u001b[0m         msg\u001b[38;5;241m.\u001b[39mformat(arguments\u001b[38;5;241m=\u001b[39m_format_argument_list(allow_args)),\n\u001b[1;32m    328\u001b[0m         \u001b[38;5;167;01mFutureWarning\u001b[39;00m,\n\u001b[1;32m    329\u001b[0m         stacklevel\u001b[38;5;241m=\u001b[39mfind_stack_level(),\n\u001b[1;32m    330\u001b[0m     )\n\u001b[0;32m--> 331\u001b[0m \u001b[38;5;28;01mreturn\u001b[39;00m \u001b[43mfunc\u001b[49m\u001b[43m(\u001b[49m\u001b[38;5;241;43m*\u001b[39;49m\u001b[43margs\u001b[49m\u001b[43m,\u001b[49m\u001b[43m \u001b[49m\u001b[38;5;241;43m*\u001b[39;49m\u001b[38;5;241;43m*\u001b[39;49m\u001b[43mkwargs\u001b[49m\u001b[43m)\u001b[49m\n",
      "File \u001b[0;32m~/miniconda3/envs/zoomcamp2/lib/python3.9/site-packages/pandas/io/parsers/readers.py:950\u001b[0m, in \u001b[0;36mread_csv\u001b[0;34m(filepath_or_buffer, sep, delimiter, header, names, index_col, usecols, squeeze, prefix, mangle_dupe_cols, dtype, engine, converters, true_values, false_values, skipinitialspace, skiprows, skipfooter, nrows, na_values, keep_default_na, na_filter, verbose, skip_blank_lines, parse_dates, infer_datetime_format, keep_date_col, date_parser, dayfirst, cache_dates, iterator, chunksize, compression, thousands, decimal, lineterminator, quotechar, quoting, doublequote, escapechar, comment, encoding, encoding_errors, dialect, error_bad_lines, warn_bad_lines, on_bad_lines, delim_whitespace, low_memory, memory_map, float_precision, storage_options)\u001b[0m\n\u001b[1;32m    935\u001b[0m kwds_defaults \u001b[38;5;241m=\u001b[39m _refine_defaults_read(\n\u001b[1;32m    936\u001b[0m     dialect,\n\u001b[1;32m    937\u001b[0m     delimiter,\n\u001b[0;32m   (...)\u001b[0m\n\u001b[1;32m    946\u001b[0m     defaults\u001b[38;5;241m=\u001b[39m{\u001b[38;5;124m\"\u001b[39m\u001b[38;5;124mdelimiter\u001b[39m\u001b[38;5;124m\"\u001b[39m: \u001b[38;5;124m\"\u001b[39m\u001b[38;5;124m,\u001b[39m\u001b[38;5;124m\"\u001b[39m},\n\u001b[1;32m    947\u001b[0m )\n\u001b[1;32m    948\u001b[0m kwds\u001b[38;5;241m.\u001b[39mupdate(kwds_defaults)\n\u001b[0;32m--> 950\u001b[0m \u001b[38;5;28;01mreturn\u001b[39;00m \u001b[43m_read\u001b[49m\u001b[43m(\u001b[49m\u001b[43mfilepath_or_buffer\u001b[49m\u001b[43m,\u001b[49m\u001b[43m \u001b[49m\u001b[43mkwds\u001b[49m\u001b[43m)\u001b[49m\n",
      "File \u001b[0;32m~/miniconda3/envs/zoomcamp2/lib/python3.9/site-packages/pandas/io/parsers/readers.py:611\u001b[0m, in \u001b[0;36m_read\u001b[0;34m(filepath_or_buffer, kwds)\u001b[0m\n\u001b[1;32m    608\u001b[0m     \u001b[38;5;28;01mreturn\u001b[39;00m parser\n\u001b[1;32m    610\u001b[0m \u001b[38;5;28;01mwith\u001b[39;00m parser:\n\u001b[0;32m--> 611\u001b[0m     \u001b[38;5;28;01mreturn\u001b[39;00m \u001b[43mparser\u001b[49m\u001b[38;5;241;43m.\u001b[39;49m\u001b[43mread\u001b[49m\u001b[43m(\u001b[49m\u001b[43mnrows\u001b[49m\u001b[43m)\u001b[49m\n",
      "File \u001b[0;32m~/miniconda3/envs/zoomcamp2/lib/python3.9/site-packages/pandas/io/parsers/readers.py:1778\u001b[0m, in \u001b[0;36mTextFileReader.read\u001b[0;34m(self, nrows)\u001b[0m\n\u001b[1;32m   1771\u001b[0m nrows \u001b[38;5;241m=\u001b[39m validate_integer(\u001b[38;5;124m\"\u001b[39m\u001b[38;5;124mnrows\u001b[39m\u001b[38;5;124m\"\u001b[39m, nrows)\n\u001b[1;32m   1772\u001b[0m \u001b[38;5;28;01mtry\u001b[39;00m:\n\u001b[1;32m   1773\u001b[0m     \u001b[38;5;66;03m# error: \"ParserBase\" has no attribute \"read\"\u001b[39;00m\n\u001b[1;32m   1774\u001b[0m     (\n\u001b[1;32m   1775\u001b[0m         index,\n\u001b[1;32m   1776\u001b[0m         columns,\n\u001b[1;32m   1777\u001b[0m         col_dict,\n\u001b[0;32m-> 1778\u001b[0m     ) \u001b[38;5;241m=\u001b[39m \u001b[38;5;28;43mself\u001b[39;49m\u001b[38;5;241;43m.\u001b[39;49m\u001b[43m_engine\u001b[49m\u001b[38;5;241;43m.\u001b[39;49m\u001b[43mread\u001b[49m\u001b[43m(\u001b[49m\u001b[43m  \u001b[49m\u001b[38;5;66;43;03m# type: ignore[attr-defined]\u001b[39;49;00m\n\u001b[1;32m   1779\u001b[0m \u001b[43m        \u001b[49m\u001b[43mnrows\u001b[49m\n\u001b[1;32m   1780\u001b[0m \u001b[43m    \u001b[49m\u001b[43m)\u001b[49m\n\u001b[1;32m   1781\u001b[0m \u001b[38;5;28;01mexcept\u001b[39;00m \u001b[38;5;167;01mException\u001b[39;00m:\n\u001b[1;32m   1782\u001b[0m     \u001b[38;5;28mself\u001b[39m\u001b[38;5;241m.\u001b[39mclose()\n",
      "File \u001b[0;32m~/miniconda3/envs/zoomcamp2/lib/python3.9/site-packages/pandas/io/parsers/c_parser_wrapper.py:230\u001b[0m, in \u001b[0;36mCParserWrapper.read\u001b[0;34m(self, nrows)\u001b[0m\n\u001b[1;32m    228\u001b[0m \u001b[38;5;28;01mtry\u001b[39;00m:\n\u001b[1;32m    229\u001b[0m     \u001b[38;5;28;01mif\u001b[39;00m \u001b[38;5;28mself\u001b[39m\u001b[38;5;241m.\u001b[39mlow_memory:\n\u001b[0;32m--> 230\u001b[0m         chunks \u001b[38;5;241m=\u001b[39m \u001b[38;5;28;43mself\u001b[39;49m\u001b[38;5;241;43m.\u001b[39;49m\u001b[43m_reader\u001b[49m\u001b[38;5;241;43m.\u001b[39;49m\u001b[43mread_low_memory\u001b[49m\u001b[43m(\u001b[49m\u001b[43mnrows\u001b[49m\u001b[43m)\u001b[49m\n\u001b[1;32m    231\u001b[0m         \u001b[38;5;66;03m# destructive to chunks\u001b[39;00m\n\u001b[1;32m    232\u001b[0m         data \u001b[38;5;241m=\u001b[39m _concatenate_chunks(chunks)\n",
      "File \u001b[0;32m~/miniconda3/envs/zoomcamp2/lib/python3.9/site-packages/pandas/_libs/parsers.pyx:808\u001b[0m, in \u001b[0;36mpandas._libs.parsers.TextReader.read_low_memory\u001b[0;34m()\u001b[0m\n",
      "File \u001b[0;32m~/miniconda3/envs/zoomcamp2/lib/python3.9/site-packages/pandas/_libs/parsers.pyx:866\u001b[0m, in \u001b[0;36mpandas._libs.parsers.TextReader._read_rows\u001b[0;34m()\u001b[0m\n",
      "File \u001b[0;32m~/miniconda3/envs/zoomcamp2/lib/python3.9/site-packages/pandas/_libs/parsers.pyx:852\u001b[0m, in \u001b[0;36mpandas._libs.parsers.TextReader._tokenize_rows\u001b[0;34m()\u001b[0m\n",
      "File \u001b[0;32m~/miniconda3/envs/zoomcamp2/lib/python3.9/site-packages/pandas/_libs/parsers.pyx:1965\u001b[0m, in \u001b[0;36mpandas._libs.parsers.raise_parser_error\u001b[0;34m()\u001b[0m\n",
      "\u001b[0;31mUnicodeDecodeError\u001b[0m: 'utf-8' codec can't decode byte 0xa0 in position 41721: invalid start byte"
     ]
    }
   ],
   "source": [
    "df = pd.read_csv('fhv_tripdata_2020-02.csv.gz')\n",
    "\n",
    "df.to_parquet('fhv_tripdata_2020-02.parquet',engine='pyarrow')\n",
    "!ls | grep green_tripdata_2019*"
   ]
  },
  {
   "cell_type": "code",
   "execution_count": 11,
   "metadata": {},
   "outputs": [
    {
     "name": "stdout",
     "output_type": "stream",
     "text": [
      "green_tripdata_2019-01.csv.gz\r\n",
      "green_tripdata_2019-02.csv.gz\r\n",
      "green_tripdata_2019-03.csv.gz\r\n",
      "green_tripdata_2019-04.csv.gz\r\n",
      "green_tripdata_2019-05.csv.gz\r\n",
      "green_tripdata_2019-05.parquet\r\n",
      "green_tripdata_2019-06.csv.gz\r\n",
      "green_tripdata_2019-07.csv.gz\r\n",
      "green_tripdata_2019-08.csv.gz\r\n",
      "green_tripdata_2019-09.csv.gz\r\n",
      "green_tripdata_2019-10.csv.gz\r\n",
      "green_tripdata_2019-11.csv.gz\r\n",
      "green_tripdata_2019-11.parquet\r\n",
      "green_tripdata_2019-12.csv.gz\r\n"
     ]
    }
   ],
   "source": [
    "!ls | grep green_tripdata_2019"
   ]
  },
  {
   "cell_type": "code",
   "execution_count": null,
   "metadata": {},
   "outputs": [],
   "source": [
    "!ls"
   ]
  },
  {
   "cell_type": "code",
   "execution_count": 15,
   "metadata": {},
   "outputs": [
    {
     "name": "stdout",
     "output_type": "stream",
     "text": [
      "/home/ivang/datatalks/data-engineering-zoomcamp/homework/data-engineering-zoomcamp-2023/week4\r\n"
     ]
    }
   ],
   "source": [
    "!pwd"
   ]
  },
  {
   "cell_type": "code",
   "execution_count": 16,
   "metadata": {},
   "outputs": [
    {
     "data": {
      "text/plain": [
       "['green_tripdata_2020-09.parquet',\n",
       " 'yellow_tripdata_2019-01.parquet',\n",
       " 'green_tripdata_2019-05.csv.gz',\n",
       " 'fhv_tripdata_2020-01.parquet',\n",
       " 'fhv_tripdata_2020-01.csv.gz',\n",
       " 'etl_fhv_2019_2020.sh',\n",
       " 'fhv_tripdata_2019-02.parquet',\n",
       " 'green_tripdata_2019-03.csv.gz',\n",
       " 'green_tripdata_2019-02.csv.gz',\n",
       " 'yellow_tripdata_2019-02.parquet',\n",
       " 'fhv_tripdata_2019-06.parquet',\n",
       " 'yellow_tripdata_2020-02.parquet',\n",
       " 'fhv_tripdata_2019-02.csv.gz',\n",
       " 'green_tripdata_2020-02.parquet',\n",
       " 'green_tripdata_2019-10.parquet',\n",
       " 'yellow_tripdata_2019-09.parquet',\n",
       " 'fhv_tripdata_2019-07.csv.gz',\n",
       " 'green_tripdata_2020-09.csv.gz',\n",
       " 'yellow_tripdata_2020-03.csv.gz',\n",
       " 'fhv_tripdata_2020-09.parquet',\n",
       " 'green_tripdata_2020-06.csv.gz',\n",
       " 'yellow_tripdata_2019-09.csv.gz',\n",
       " 'fhv_tripdata_2019-10.parquet',\n",
       " 'yellow_tripdata_2020-01.csv.gz',\n",
       " 'green_tripdata_2020-12.parquet',\n",
       " 'green_tripdata_2020-11.csv.gz',\n",
       " 'green_tripdata_2020-02.csv.gz',\n",
       " 'green_tripdata_2019-06.parquet',\n",
       " 'yellow_tripdata_2019-11.parquet',\n",
       " 'yellow_tripdata_2020-11.csv.gz',\n",
       " 'fhv_tripdata_2020-08.parquet',\n",
       " 'fhv_tripdata_2019-10.csv.gz',\n",
       " 'yellow_tripdata_2020-02.csv.gz',\n",
       " 'yellow_tripdata_2019-03.parquet',\n",
       " 'fhv_tripdata_2019-06.csv.gz',\n",
       " 'taxi_rides_ny',\n",
       " 'notes.md',\n",
       " 'fhv_tripdata_2020-08.csv.gz',\n",
       " 'fhv_tripdata_2020-03.csv.gz',\n",
       " 'yellow_tripdata_2020-05.csv.gz',\n",
       " 'fhv_tripdata_2019-08.csv.gz',\n",
       " 'yellow_tripdata_2020-11.parquet',\n",
       " 'fhv_tripdata_2019-12.csv.gz',\n",
       " 'yellow_tripdata_2020-05.parquet',\n",
       " 'yellow_tripdata_2020-12.csv.gz',\n",
       " 'fhv_tripdata_2020-11.parquet',\n",
       " 'Untitled.ipynb',\n",
       " 'yellow_tripdata_2019-02.csv.gz',\n",
       " 'green_tripdata_2019-04.parquet',\n",
       " 'yellow_tripdata_2020-12.parquet',\n",
       " 'yellow_tripdata_2019-03.csv.gz',\n",
       " 'fhv_tripdata_2020-03.parquet',\n",
       " 'green_tripdata_2019-04.csv.gz',\n",
       " 'green_tripdata_2019-10.csv.gz',\n",
       " 'green_tripdata_2020-12.csv.gz',\n",
       " 'fhv_tripdata_2020-06.csv.gz',\n",
       " 'fhv_tripdata_2020-11.csv.gz',\n",
       " 'fhv_tripdata_2020-10.csv.gz',\n",
       " 'fhv_tripdata_2020-09.csv.gz',\n",
       " 'green_tripdata_2019-01.csv.gz',\n",
       " 'yellow_tripdata_2019-11.csv.gz',\n",
       " 'fhv_tripdata_2019-11.csv.gz',\n",
       " 'green_tripdata_2019-06.csv.gz',\n",
       " 'green_tripdata_2020-11.parquet',\n",
       " 'etl_yellow_2019_2020.sh',\n",
       " 'yellow_tripdata_2019-01.csv.gz',\n",
       " 'fhv_tripdata_2019-11.parquet',\n",
       " 'fhv_tripdata_2020-02.csv.gz',\n",
       " 'green_tripdata_2020-01.csv.gz',\n",
       " 'green_tripdata_2020-08.csv.gz',\n",
       " 'green_tripdata_2020-03.csv.gz',\n",
       " 'green_tripdata_2019-11.parquet',\n",
       " 'fhv_tripdata_2019-07.parquet',\n",
       " 'yellow_tripdata_2019-08.csv.gz',\n",
       " 'green_tripdata_2019-02.parquet',\n",
       " 'green_tripdata_2019-05.parquet',\n",
       " 'yellow_tripdata_2020-10.csv.gz',\n",
       " 'green_tripdata_2020-10.csv.gz',\n",
       " 'yellow_tripdata_2019-07.csv.gz',\n",
       " 'fhv_tripdata_2020-10.parquet',\n",
       " 'green_tripdata_2019-08.csv.gz',\n",
       " 'fhv_tripdata_2020-05.csv.gz',\n",
       " 'yellow_tripdata_2020-09.csv.gz',\n",
       " 'green_tripdata_2019-03.parquet',\n",
       " 'green_tripdata_2019-11.csv.gz',\n",
       " 'yellow_tripdata_2020-07.csv.gz',\n",
       " 'fhv_tripdata_2019-03.csv.gz',\n",
       " 'yellow_tripdata_2019-06.csv.gz',\n",
       " 'yellow_tripdata_2020-03.parquet',\n",
       " 'yellow_tripdata_2020-08.csv.gz',\n",
       " 'green_tripdata_2019-12.csv.gz',\n",
       " 'fhv_tripdata_2019-12.parquet',\n",
       " 'yellow_tripdata_2019-05.csv.gz',\n",
       " 'green_tripdata_2019-01.parquet',\n",
       " 'yellow_tripdata_2019-12.csv.gz',\n",
       " 'green_tripdata_2020-04.csv.gz',\n",
       " 'fhv_tripdata_2019-09.csv.gz',\n",
       " 'etl_green_2019_2020.sh',\n",
       " 'yellow_tripdata_2019-10.csv.gz',\n",
       " 'fhv_tripdata_2020-12.csv.gz',\n",
       " 'fhv_tripdata_2020-06.parquet',\n",
       " 'fhv_tripdata_2020-04.csv.gz',\n",
       " 'fhv_tripdata_2019-01.csv.gz',\n",
       " 'green_tripdata_2019-07.csv.gz',\n",
       " 'green_tripdata_2020-06.parquet',\n",
       " 'yellow_tripdata_2020-06.csv.gz',\n",
       " '.ipynb_checkpoints',\n",
       " 'yellow_tripdata_2020-01.parquet',\n",
       " 'green_tripdata_2020-07.csv.gz',\n",
       " 'fhv_tripdata_2019-08.parquet',\n",
       " 'fhv_tripdata_2019-04.csv.gz',\n",
       " 'green_tripdata_2020-05.csv.gz',\n",
       " 'fhv_tripdata_2019-05.csv.gz',\n",
       " 'fhv_tripdata_2020-07.csv.gz',\n",
       " 'yellow_tripdata_2020-04.csv.gz',\n",
       " 'yellow_tripdata_2019-04.csv.gz',\n",
       " 'green_tripdata_2019-09.csv.gz']"
      ]
     },
     "execution_count": 16,
     "metadata": {},
     "output_type": "execute_result"
    }
   ],
   "source": [
    "os.listdir()"
   ]
  },
  {
   "cell_type": "code",
   "execution_count": 4,
   "metadata": {},
   "outputs": [
    {
     "name": "stdout",
     "output_type": "stream",
     "text": [
      "\u001f�\b\b���b\u0000\u0003fhv_tripdata_2020-02.csv\u0000��ݮǸs\u001c",
      "x\u001f ��\u00078\u0001�-i�ֈ\u0017X`�]x����㬱Il$�����$VQ�\u0019#x0��ԏ\u0014?����������_�������?����������������?����������������~�����?��?������o�����/��O�����?�����?����\u000f���������?���������������7���'����\u000b",
      "����p����o������'�T��i�\t>�?���\u001f.O�i����7O��Í��\t�\u001f\u0004?�]�#���t~+�K\u001f�n�#��o������O0�i�~�a�\u001b��H\u0019?.��ˏ\u000f���~�\u0006o�\u0017=Χs��\u001c",
      "��\u0013�+r�\u000e��\b�趕�y�o3��G\u0018�\u0016�-��X�����o)�<,��_��wv޵e��}�|�#���+�����ƀp�\"������c����a\u0001��]p\u000f��\r",
      "~.w<\u0016�O~\u001a;9q�og������8�^�3����\t����G\u001a�>�M}߀Y\u000f�<Y%��uÄ\u001c",
      "�\u0004�\u0001Y[�Ƚ���q�\u0003A�]\u0019\u000e�mo�c<��C+�o�vh�Cg��\u0013�9�q��z�\b>n\u000b",
      "x:��x�r~;�{?n�p\u001e",
      "�a��s�ۑ�*��M��Q��K��.�\u0002�\u000f2�\u001f\u0015�\tO㾌�xᶓ��c;�N�\f",
      "~��pf\u0017�\u0017���8�ϱ�\u0005<#��z�\\��\u000b",
      "�㷟�@~�K�\f",
      "]\b\u0006_\u000f��\u0007��\u0014\r",
      "��\\����s�`��a�n���M��A�7k�\u0005����;>\u0003������\u000f\u0001\u000e�X��q����'j��`gV�M\u0017n�a��\u000b",
      "��{jgnc�pÆs��\u0001�}����a���?��\u0019\u000e��G��?�\u000f��⣛�U\u001fۇ�\u001e",
      "���_�o#�7o?'�\u0006��1����8���T\u001e",
      "����~�\u0013��y\"��ٕ\u0007�\u0004����!\u0016^8�����\t^N�c���\u001e",
      "������9���b���7����g�i1�v���p\u0013�y���w~RR\u0003�-��1\u0003�>��B]\u000e�i���pN�.�%\\.\t��ksgS?��B�뽾Z�e��y��m���Ο�J\u001e",
      "\u0017�ijf�8a[��\u001b�΋��\u0016�ً\u0007<��tΜ���ϵ����\\8���&p�$�����T�|�\u0007x�\u0016Y8^���\u0006W�.]���������K3���\u0003��#��p��P7�\u001a�2\u000f���o�/��2����t�\u001b\u001e",
      "�۪�\u000e_���\u0017�\u0018>WO,��\u0013q(�Ǹ���W��{\u0006n��\u0014L\u0002�)��\u001e",
      "m�va�c���LΌ(���rV��Q�Ʃ\u0013[7L�\u000e��n�s@����U.\u0013|�c\u000f�\u0014\u001e",
      "n���{��n�}%�i�T��\u001b�\u0011塒?�ߑ\u000b",
      "'�\u0013�#^�Up��j\u0003|�I\u001a]2>\u000e��[���4��[�[���\u000f������o-�\\�Aִ��~�\u0007����������^�y��\u001ftO}����>��R�>�\u0001���~\u001b��z\u001c",
      "�����\u0004/{\u0005�]��/�f1��\u0001�\\\u001d",
      "��M:!6��O�m\u000e\u001e",
      "��������?�ؖ��ّܻ[���f��u���d�Wª}�\u0016��^�<y�\u0017\u0003��\t[�Y=|���\u000e-����g�4���Cl�G�/�?�\u001a�\"�\\½�m�~�����U� �\u0017�b���?��\u000e��>��ϹW�r�f4�����\u000f���l\u000eV�.�\u000b",
      "?����\u0002�^����\t>z�����\u0014��s�\r\n",
      "g��\u0012U\u001b��<�����\u0007_م���a<�|q����t���Q)V*��;�/���3<ټ�D���|�Ha�������\u0005�\u0015��W[LcT�\u0005������\u0007�G��F7�\u001f/G�^�>����M�2�`>��\u001a�޾v�\u001c",
      "a��\u0003�\u001a�1QwCC�L��r �Ծ����a�?w*�\u000b",
      "$̤�G>\u0016_Ϝ-���k����6×1�Ww�>�C�\u0016ퟗ\u0017\u001a?��o��\u0017<3\u001e",
      "S7����P��G��t��\u0017|�$\u0014^��,/���th�{�}io���f�/c|+�����;��}|��\u0007��s�[t�<����(\u0015���sHI�\"T\u001f�\u001f\u000e�v ����B�\u001fC\\G\u001f�e�١��|~D�\u0011/�J�]��n:~��3=|<9|B=\u0010��\u0016��L�H1ۧ��ޖ�V���}}�X��8;��\u001f�n\u0012;�ó�W��o�|\r\n",
      "y����i��\u0005�\u0003�.�i���j_�t`�x3}{�g���>\u0010)臏^]/�7��[=�j����\u0005��p��/���e�.:���\u0010����y�|\u0010e;OӬ\\���9$�\u000fGG�a���/w4ė��}\u0019/N�uC��������\u0010�\u0004��Ƒ�i��,��\u0007�Й$~[��=G�ζ�_��e\u000f��i��З��ǌ�^\u001e",
      "Q��o�\u001b\u0007�1��m���܄�g�\u0000\u001d",
      "�o\u0017�.s�\u001e",
      "�:/�B���\u0003o��\u0001i\t�:��}5�\u0005}%r�����\b��Y���\u0001�ȓ�~���kx8\u001f�Ck-5�Q]��Y�{���iA,@}�\by�\u001d",
      "/�.����2=��?���[��P�\u0002��;�\u0004���/x���ka3W��f_�?\u0010F�X�m���~ ��n�N\u001e",
      "Z���=�8������zv?×�J�������\f",
      "�`'ǈO�.���{����'N�`����\u0012���~R:\u0018��10^=%)~�;BL�~tT��\u001f� �o���u�@\u0007�5�:������&�\f",
      "���(?��җڅ&nz�$UBY\u000b",
      "�i���JHK���Nn\f",
      "S$\r",
      "O#>\u0014\u0012\\�0�S��d����G����e�����Y����6{��O��7��_�\u0019���F\u000e_�?�������\u0014�3��?O\u001f�\u001e",
      "�;����k5��G��\u000f�'�o\t��b�8X?\u0010������~�\u001afr\u001bǣ�Vp�����v�{O�\u0004/a\u0002\u0018�����\u0005�9�|���v�+x��+��p�Ӽt~\u001fc$uA��)+��x�\u0012�m�/�]\"�0t{ߺi5��T#\u0017�E�4�r��u\u0010p�Ѧ��h���\tB\u0004����*_F�{}�k�\u0000�)�Ԟ~�\bAE\u001fLs�D8ɓ%���\r\n",
      "�5��S}p}�x��2\r",
      "�v��cB'o���oxM�\u001aWtr\u0015���yO�E1}m�\u0010,|����\u0005��z���<�\u0013��!��\u0002\u0018�uo���y���}�/��S!V�����~\u000fn�\r",
      "=9J\u00009����\u0012�\t�1ׄ��v9��îB�\u0007�_=��Y�/�ڼ��{ �Z�\u0006���$�*p\u000b",
      ">���щ\u0015.Ҡƞ_�$���3Cz\u001f�M�����}?��b�}\u001d",
      "�G�\u0001��S���W�[�I+x̘�x��-��L鉇��:mƉ��������\u0010�\"a�u�@\u001f�)�l\u001f(�玲��\u0012/\u0006\u0019|��\u0006�}�\u0014\u001f\u0013q����W��\u001c",
      "�\u001c",
      "\u001a4n�xgy����\u0012v\u000b",
      "]�M1�\u000b",
      "M\u001c",
      "ⶮ_����I�:\u0003�\u0015\\�d�C�v&��;o\u001e",
      "޲-pd&�\r\n",
      "��\u000fX�������\u000b",
      "�Goޭ�{�2��\u0004.��\u0007\\�\u0013^D�{p՞��=��$�jq�U��>�}��=C\u0007�K�<��\r",
      "�\\;\u001e",
      "\u0018\u000b",
      "�%�߃nox�\u0014��o�/��d�\u0011��E��KG\f",
      "w�\u0010n\u0016���\u0013\u001a��\u000e�cw��\u0012������C��w$�ݬ�OkO�����S?�\u000emO\u0002��`�<��ŕ���ƕ���i��<�`I�'��7xn�\r",
      "\u001b?����B�\u000b",
      "��O�\u0004/�a\u0012����rn۲�;�H\u0000;T��y���\u0018�\u0015\u0011{C�'��{86Z\f",
      "��?�e���zz\u0012~�#\\���\u001f��_ ����d��?��\u001e",
      "�ᎏ�\u0017�\u0003<?�<\\���A\u0012�r��\u0012��3>7�B�o��C�9���L��;l�3|$Y�\t\u0012#��D�\u0019\u00123_�'ѳ\u001c",
      "\u0007|ؕ�H�̃=�?�8�?$F:L�|�g�X�~�w���\u0018=|�~L�$��wX���Ym�N���ۏ\t>7b����1&f��\t\u001e",
      "L\u0015?x�\r",
      "���皿\u0010�Oonͯ;q\u0013����X�L�5^\"\u0000����\u0011U3�p�d��\u0007����]3\\N�\u0004\u001fv�(P\u0007����p\u0019}8}|pl��3Y<��\u001c",
      "�j�0Ŕ��}*Ǭ��>4aZ�!�����<E�.����#�[�á����\u0015�\u0013����\u0014�y����]~<=�w�\u001f���\u0002�챵��~=�\u001b�Mq���z�{O�\u0003�\u001d",
      ";��Ԧ�\u000b",
      "�����;�%�]GZ߉� [�K\\�݁��_N\u0006��i�n \u001ap�m:�\u0015\u001e",
      "\b\u001f��ҧZ\\�\u0019�P��b���bꅉ\r",
      "�&��]�ϟ�����!Z̭�^��d@�>\u0010��pf���l��D�;_�V�\u0014�Ė�+��\u0018,�,-+tkɇv�\u001c",
      "\u001a�$�?HB���\b'\u001e",
      "X֠ S����;��Pn�&5!Z\u0012��~j���m�B�\u0007Y�G���KR�1uv\f",
      "�'$*\t��ij�t����A���j�\u001c",
      "�!�[�GCN�g9��\u0019�m��R��\u000eK�DZy�X��d�j�#<\u0010V�\u0005�:�aֺ��\bS�[B�\u0002\u001e",
      "3\u001e",
      "���z�����N`=�O\u0007����\u0010���{x%&#%{����g[�?���� �֨�����\u0005$�G�b\bvݤc\u0001?�\u0006���u�Ϳݑ]w��&/��8ʐ�=\u0019c9�x0����z��{/ltp�7Y\bٳ�<�\u001c",
      "�zO�3��2��z���\u0019���ޘj���\u001e",
      "�\u0012�0�*�욍�%����>�8�G\u0012�L�>�\u0011k_�� �\f",
      "�u�B�o�\u00033�1��������ʺD\u001d",
      "-�m����D{ �x�_�e�\b;��yg��U��\u001d",
      "�F�8�!�\u0005ޑ<\u0004�*����\u0002�$��{�\u000f\u001d",
      "�=���X���G[\u0002���X��욺\u001d",
      "_��-I\u0000\u0013V��\u001c",
      "��ͣ���pzd�e3���y\u0010���zd���LHY��,o�@.j�A�{���c�3���e\u0001���C��ɶ\u0018���\t���s�\u0007\u000b",
      "󞸸�|H�K\u001c",
      "�Y�4Ш�q\\i�e�\u0017�\u0019�׊]u{~��@�\u0010eA\u001f�@\r",
      "��O�x�_|�lY\f",
      "l�\u000f;^uW\u0018ɷ����S\u0004�>�9On�GB\\_;���\u0001��:��~Y��N\bi]�Ųn_����=\u000f#�U��S�\\\\���'\u0012�vn���yu�.!_���u\u0017b;�M�\b��T`)H\u0002��5e\u0011�!��\u0011j\u0006��_ZN�\f",
      "\u0018�\u001a�9��\u0012�7\u001c",
      "\t]�W?��\"Z�}$��\u001a�\"�L���r\u001c",
      "�u�y�\u001fS�t`p7\u0007v��;��s���/f��*\u0003K���_Ӏ�o~�\u0011/��\r\n",
      "�U����\u0007#!���P�y�|�\u001e",
      "\u0012<��>�\u001e",
      "�CMT�\u0007�Ħ���_��-HN\f",
      "���5��D\\i=O[�\u000b",
      "&��pI�\u0012�^>��B��i��gH]j�P�f���\u0013j�ȣ��>�/�%)\u001a�\u0002\u001f�JEr�JV\u0002���\u001f�+�:gE�v/�'i{��DT!�m�A⦾����\u000fP�����g8K���Ӱ�\u001c",
      "�H�Hh����\t�\u0017S1|�<�\u000b",
      "!�;t���f^���uo�ꓽ����%\u0016Y>\u001e",
      "=��|7��U��Nb\u0000]\u0012��G/ӷ��\u001e",
      "��x��'~t\u00127U=��ޏ ��R��G�i로v�/�%�{\"��ώ\u000f�wC��|?�\u001f�35ϐ.���\u0007��7?��#a\u0014\u001276u���ALU���?\f",
      "D���X��ᇴ�N���|��j���w/*I�ܕb�)�]94�\u0017�\"�C��:�x�A�̳��\t��W��&p\u0011S!�C:zKx�\f",
      "�{���Q^�`0�0\r",
      "pV؅�r\u0019�_\u000fn\r",
      "\"\u0011<��t��Ox������<\f",
      "�\f",
      "MaE\u0013\u0004^�\u0001=<��\u0016��g��Y\u0004��\r",
      "��W8\u001c",
      "&�\u0015���\u0013\t��k�.�������N�S��K��\u001b��5\\�~ �D��\u0002�>;xJ�w��>\u0004$�\u000e\u0011>\u000e�\u0007}�f��\u001fW�\u0010�`Cw�·�!�_�\u0018���;u=�NI�s�P��4�g��(��\u001d",
      "�nr�6x�1]����ҋ=\u0018����@\u000e��\u000b",
      "\u0017��OᒞH4���Dsx&U�rO�\u001d",
      "�(\t����5\u0018v�z[���=�iz�\u0007�e=?Ϗ�|���gz�wH�'�)_�\u001f#�\t<�� %��78�f�\u0015z\u000fQ\\p�WJ,\u0006�S����[���&`��`4��\u000b",
      "K�~\u0001\u0007B#H����\u001c",
      "����7��2I&*���N�\u001b���&\u000b",
      "��͙\u001c",
      "�5��a�D\u0018\u000b",
      "�C����㽀[*\u0004n��������\\�E���T����.�7o��N��j�>5\u0005�m�7��PcHv�.�\bɢ�,�e�\u0003�A�u\u0004?�Vf��*��K�\t��W\u0007�z�\u0002���*��a��\u0003�\u001d",
      "M��\u00038�Z]K��?�m���\u001e",
      "?�U�ė����V��0؞�\u0017k��nG(_gq�s/\u000f\u0003V��7˻���\tl\u0002\u0017Mg��hZ/٭�\u0001eI�+K�c/x-�8�4}��18�\u001f�������G\"��n�ѫ�s\t�\u0017~��\u001a�\u0002\u001f�J���ۛ�\u0005�\u001c",
      "�8Es��5?�>I����$^u?���Ս7���y�\u001f�\r\n",
      "�+x\u0004��������ף\u000fl�\u0014�Wk�i\u001a�K�\u0018�\u0010\u0007'�\u0012�%����\u0013��\u001b�pa�T�--�>\u0012�q\u0017�Na\u0001wĈ��`���^�X|��G�ٛ�,ꥒ�\r",
      "���\u0007gy0����\t�F%��\f",
      "�#\u0006or�ˡ\f",
      "�2UVq�j�\\�U$R�\"\u001f?��EW)\u0003-��������7�K��W�爴��)�]��W�\u0017\"�\u0002�\u0012W�~o�P\tQ}t�.\u0003{m�\u0004�@������\u0016�\u0004�A��O�����q\"�\u001fs\"�vl�@���2�\u000e�/+| �Ǜ\u0013)�U�;�Cw��\u000b",
      "x\"�շp�C�p\u0012�ʗDtp��g�u�&�_.�\u001b�9`�[L�\u00139$��\t>\u0006\u0014<�pT�WV{�3ҁdv�E�>�\u001d",
      "�pV\u00111���#1�\u000f9�|\r",
      "�𱌥Y�\u0003�j�E\u0013�x�~�ܑ�W��4|�{\u00127�\u000f�*�fG�\u0014�He\u0017���O��|H��oN4i�\b+8\u0013�;�*`\b���\u000f�fo��o���P\u0015�E��Z��/�N\r\n",
      "��[U�Os�@���Q\"�u\u000e^)땋�c���ǩ���v��\u0014�Y�%\u0011W����U��W#v_�IA��48G�V��\u001d",
      "Okٷ�s,'���B�VC��˃'b���XB]�������c\u0015\u0005��}�\u001b\r\n",
      "l\u0002�� `�J��\\�\u0002�l�!���k2a��\u000b",
      "�!��\b���u�a\u0012�\u0004\u001e",
      "I\u0016P�]�I5�^���i�RM�}䒰ޓb�W�Z3עOa\u0002�d��^\u000fIj��\\�t�C�R+\u0013>���e}���{��3j^��#�kx<2=zbr��p�Oy��b�$�֫c\u001d",
      "����I�}v�i��\u0005�9��|/��[\u0006u8Z~\r\n",
      "k?bu��\u00139�x���E7����9�x>t,A��������N���nΔ\u0017��\u0016X��i\f",
      "j��\u001e",
      "�ͣ#��\u0004�c\u0001��$vuO�z\u0013��(�W\u000f\b���OR���\u001b���=���L~�y\b�&_-���$ߩg�\r",
      "ʺ�h\u001f�Q���sxr�.��̧gv\u0012�{O\r\n"
     ]
    }
   ],
   "source": [
    "!head fhv_tripdata_2020-02.csv.gz"
   ]
  },
  {
   "cell_type": "code",
   "execution_count": 6,
   "metadata": {},
   "outputs": [
    {
     "name": "stdout",
     "output_type": "stream",
     "text": [
      "\u001f�\b\b\u0002�{c\u0000\u0003fhv_tripdata_2019-01.csv\u0000�������&\u0004��Q�\u0001�H\u001998��WU�@M\u0017-\u001ah�\u000e����K�P\u0002���\u0011���+2���Z\u000b",
      "�ˊǾ�tf\f",
      "��o����\u001f����?�����?�\u000f������\u000f������\u001f������������������������������������\u001f��������������������������������������ӟ���ݿ�������7ן�����������?9��\u001f%:���R�GI�H��o�\u001f���ڟ��4\u0002\u0007��\u001b����?�\u0011\u0005\u0012\u000el�7p�\r",
      "<l`���;\u000e�\u001d",
      "\u0004�\u000f�u�\r",
      "���'\u000el橞���V�Go\u00037\u0010x��j\u0005��3����n\u001f\u0002��s\u0017Ǉ�\f",
      "\u0002K��\u0006~�Ն�c��T~\u0002ϗ�\u001f,�]�󣙁T�@�G)?���������\u0015��\u001f��?�ϟ�5�-\u001d",
      "����x���D|s?���҇�R���n\u000fy�\u0010��?~v�������C�,��k���{\u000b",
      "��̧p��>�^�G�v\u001d",
      "~���?�[JF�٬��\u000b",
      "�[#]T�Ƣ�?�\\\u0018�g5��^�F��\r\n",
      "H`W�{W�-'\u001c",
      "\b��{s�{i80���&�6\u000e$2�J�G1���o��`� '��þ��\u001f5}�=U��/��܇�R�\u001a�X�`�\u000f���^͙,�G\u001c",
      "[��u唁��wC9o\u0011���Fq\u0006������\u000f��\u001bO�\u0010{n\u0014����'�=?���A��V��s�o��[�\u001fb���l\u0014I��0�n����mǗ�s\u00134_��\u001b�{����}���އg�{�M�\b�\u0016�-\u001c",
      "�Yq��|��p왧�yG�{=�Xs`�ߑ�7ʹ%<b�c�o&���^����~�n���\u00118��\u001d",
      "�����\u0015�\t�ټ�l?��ߞ��\u0019�c[�=�������V���>�R����o��Ǎ=\u001f�Ʌ�|�\u001f�9�vf�\u0005�r�3��9�,�\u000f�|�O�U˯#̍�|��Q���{\u001e",
      "9��ɯmٿ.�uE���5�7��n!����ANl\u0005[��Cq�\u000e~S�*ۀ�5��)�оk�3\u0002\u0007�Z�xA���\r\n",
      "���\u0005�]}W\u0013g\u0010�=7���!s)�}�=�k[�����Ŗd�,�s�r��?��߫=�p���UQ>��^S\u0001qr��\t�ќ'|�=��d���J\u0002���[-Jl��6�ٙ���/��\r\n",
      "��Y����@�kc��L���;���\u000e龣3�4;���_b�?L{��+>��AQ�\r",
      "�/k�L��YW���=\u0013�fr��� ��/��\\Wd�\u0001$��xml���������\u000e�L�9�:'��uu����>��>���;��b���&�\u001f���{�ݵ��Y5�O�=;\u0017�����r��i�H �*\\�|�ŝ��u�4����&֜��^��g��_:�C^��\"�-\r",
      "\u001b�\r\n",
      "��ʥ,q�ϧ����3k��1$-B\r",
      "�e[�\u0017i����{�-��[\u0010�xE��rN���5���\u0011��\u0007wVygfD|x�\u0007�]�=;?������{�FH��ù8�]i�/?w5�幔���z�\u001b�y\u000e��K������T���q=\u0013��3}���HS[\u000e͜�<�oS+���\u0013��H4�R5������c?�W\u0010H����њ�\u0003��Q!��՚w\u0003\u000b",
      "�榼yI�6\b<~;#�)���w\u0003�V\u0001'ć+�\"��@\r\n",
      "��v��\u0012���\u001e",
      "`����\f",
      "\u0016@��THj��ud����o\r",
      "���\u0016��Y�\u001bϵJ��ڴ(\r\n",
      "�j\u0003�B�\u00008�5G��\b�@���.\u0000�?Q�\u001b�߃'��\t_\u0007��\u0006/�x\u0007H�������j�czL���\u0003��\u0019�\tP����S��e�Vm�%}���V�\u0015�K������\b�\u001c",
      "ӻ8c\t�\\1�$\u0003�x����7wB?<ճ\u0000F��\u001a��J��M�����n���W�E��͹�\u001c",
      "����̻lK1X�\u0015l�m�~\u0016;�M�\u001c",
      "�\r\n",
      "M\r",
      "�%�\u000e���Hї�<�\u0005 ��;��w\u0006�$�ȯ��5?�A\u001d",
      "��\u0001��W�[ݓ\u0013h��4\u001b[�@^^��c�\u000e�\u001c",
      "��&�c_uo�t*��J-\u000e,�K�䩆��w�s�|��\u0003�M�w�v2>��\"9�p,'�f��\u001e",
      "\u0016��W\t\r\n",
      "��?�r�\u000e�~�\u000f�<��-���-_�\u000b",
      "�Y3�\u000f�=,��\\�϶��9'�\u0018<�`���&��_��3���Br���\u0019\f",
      "��<�8��\u0003&I�ߞ�����Ѻ2��u�����\u0016v\u001c",
      "[�\u000e�_s�\u0010����r_[.ql�s?�����<\u0018�\u0001\u001fج3\u0002\u0007f\u0010�h�w�I�K�͍����1Z±�쨬��`Ï=쀁'��Cl\u0001���ʻ��4��͖�!6#T�{������\u001c",
      "I\t��j�'�B��g�H�?�]�3\f",
      "Gk�i�c��P?�B[Gs)\u0000�*����g��h�7���3���G\u0010�}��ks�}H�&���ڦ�s���w-�;zj�]����Ե\u0005w����ϲ�7ghO�3G���O-�x6�:����E?���I\r\n",
      "����;�\\��>�.�M�{\r",
      "rc���y�$)FV���C�ig�\u0015\u000b",
      "fp�t�r����\t$�ap\u001f\r\n"
     ]
    }
   ],
   "source": [
    "!head fhv_tripdata_2019-01.csv.gz"
   ]
  },
  {
   "cell_type": "code",
   "execution_count": null,
   "metadata": {},
   "outputs": [],
   "source": []
  }
 ],
 "metadata": {
  "kernelspec": {
   "display_name": "Python 3 (ipykernel)",
   "language": "python",
   "name": "python3"
  },
  "language_info": {
   "codemirror_mode": {
    "name": "ipython",
    "version": 3
   },
   "file_extension": ".py",
   "mimetype": "text/x-python",
   "name": "python",
   "nbconvert_exporter": "python",
   "pygments_lexer": "ipython3",
   "version": "3.9.16"
  }
 },
 "nbformat": 4,
 "nbformat_minor": 4
}
