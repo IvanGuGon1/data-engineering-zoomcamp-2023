{
 "cells": [
  {
   "cell_type": "code",
   "execution_count": 2,
   "id": "b3da188f",
   "metadata": {},
   "outputs": [],
   "source": [
    "import pandas as pd\n",
    "import yaml\n",
    "import os\n",
    "import wget\n",
    "import glob"
   ]
  },
  {
   "cell_type": "code",
   "execution_count": 23,
   "id": "f1fb79df",
   "metadata": {},
   "outputs": [],
   "source": [
    "years = ['2019','2020']\n",
    "months = ['01','02','03','04','05','06','07','08','09','10','11','12']\n",
    "path = '/home/ivang/datatalks/data-engineering-zoomcamp/homework/data-engineering-zoomcamp-2023/week4/data/clean/new_yellow/'"
   ]
  },
  {
   "cell_type": "code",
   "execution_count": 5,
   "id": "5d9a73a4",
   "metadata": {},
   "outputs": [
    {
     "name": "stdout",
     "output_type": "stream",
     "text": [
      "Iniciando descarga https://d37ci6vzurychx.cloudfront.net/trip-data/yellow_tripdata_2019-01.parquet\n",
      "100% [......................................................................] 110439634 / 110439634Descarga finalizada en https://d37ci6vzurychx.cloudfront.net/trip-data/yellow_tripdata_2019-01.parquet\n",
      "Iniciando descarga https://d37ci6vzurychx.cloudfront.net/trip-data/yellow_tripdata_2019-02.parquet\n",
      "100% [......................................................................] 103356025 / 103356025Descarga finalizada en https://d37ci6vzurychx.cloudfront.net/trip-data/yellow_tripdata_2019-02.parquet\n",
      "Iniciando descarga https://d37ci6vzurychx.cloudfront.net/trip-data/yellow_tripdata_2019-03.parquet\n",
      "100% [......................................................................] 116017372 / 116017372Descarga finalizada en https://d37ci6vzurychx.cloudfront.net/trip-data/yellow_tripdata_2019-03.parquet\n",
      "Iniciando descarga https://d37ci6vzurychx.cloudfront.net/trip-data/yellow_tripdata_2019-04.parquet\n",
      "100% [......................................................................] 110139137 / 110139137Descarga finalizada en https://d37ci6vzurychx.cloudfront.net/trip-data/yellow_tripdata_2019-04.parquet\n",
      "Iniciando descarga https://d37ci6vzurychx.cloudfront.net/trip-data/yellow_tripdata_2019-05.parquet\n",
      "100% [......................................................................] 111478943 / 111478943Descarga finalizada en https://d37ci6vzurychx.cloudfront.net/trip-data/yellow_tripdata_2019-05.parquet\n",
      "Iniciando descarga https://d37ci6vzurychx.cloudfront.net/trip-data/yellow_tripdata_2019-06.parquet\n",
      "100% [......................................................................] 102903344 / 102903344Descarga finalizada en https://d37ci6vzurychx.cloudfront.net/trip-data/yellow_tripdata_2019-06.parquet\n",
      "Iniciando descarga https://d37ci6vzurychx.cloudfront.net/trip-data/yellow_tripdata_2019-07.parquet\n",
      "100% [........................................................................] 93877343 / 93877343Descarga finalizada en https://d37ci6vzurychx.cloudfront.net/trip-data/yellow_tripdata_2019-07.parquet\n",
      "Iniciando descarga https://d37ci6vzurychx.cloudfront.net/trip-data/yellow_tripdata_2019-08.parquet\n",
      "100% [........................................................................] 89999675 / 89999675Descarga finalizada en https://d37ci6vzurychx.cloudfront.net/trip-data/yellow_tripdata_2019-08.parquet\n",
      "Iniciando descarga https://d37ci6vzurychx.cloudfront.net/trip-data/yellow_tripdata_2019-09.parquet\n",
      "100% [........................................................................] 97110325 / 97110325Descarga finalizada en https://d37ci6vzurychx.cloudfront.net/trip-data/yellow_tripdata_2019-09.parquet\n",
      "Iniciando descarga https://d37ci6vzurychx.cloudfront.net/trip-data/yellow_tripdata_2019-10.parquet\n",
      "100% [......................................................................] 106293373 / 106293373Descarga finalizada en https://d37ci6vzurychx.cloudfront.net/trip-data/yellow_tripdata_2019-10.parquet\n",
      "Iniciando descarga https://d37ci6vzurychx.cloudfront.net/trip-data/yellow_tripdata_2019-11.parquet\n",
      "100% [......................................................................] 100872983 / 100872983Descarga finalizada en https://d37ci6vzurychx.cloudfront.net/trip-data/yellow_tripdata_2019-11.parquet\n",
      "Iniciando descarga https://d37ci6vzurychx.cloudfront.net/trip-data/yellow_tripdata_2019-12.parquet\n",
      "100% [......................................................................] 101044777 / 101044777Descarga finalizada en https://d37ci6vzurychx.cloudfront.net/trip-data/yellow_tripdata_2019-12.parquet\n",
      "Iniciando descarga https://d37ci6vzurychx.cloudfront.net/trip-data/yellow_tripdata_2020-01.parquet\n",
      "100% [........................................................................] 93562858 / 93562858Descarga finalizada en https://d37ci6vzurychx.cloudfront.net/trip-data/yellow_tripdata_2020-01.parquet\n",
      "Iniciando descarga https://d37ci6vzurychx.cloudfront.net/trip-data/yellow_tripdata_2020-02.parquet\n",
      "100% [........................................................................] 92134881 / 92134881Descarga finalizada en https://d37ci6vzurychx.cloudfront.net/trip-data/yellow_tripdata_2020-02.parquet\n",
      "Iniciando descarga https://d37ci6vzurychx.cloudfront.net/trip-data/yellow_tripdata_2020-03.parquet\n",
      "100% [........................................................................] 44442590 / 44442590Descarga finalizada en https://d37ci6vzurychx.cloudfront.net/trip-data/yellow_tripdata_2020-03.parquet\n",
      "Iniciando descarga https://d37ci6vzurychx.cloudfront.net/trip-data/yellow_tripdata_2020-04.parquet\n",
      "100% [..........................................................................] 4442620 / 4442620Descarga finalizada en https://d37ci6vzurychx.cloudfront.net/trip-data/yellow_tripdata_2020-04.parquet\n",
      "Iniciando descarga https://d37ci6vzurychx.cloudfront.net/trip-data/yellow_tripdata_2020-05.parquet\n",
      "100% [..........................................................................] 6229864 / 6229864Descarga finalizada en https://d37ci6vzurychx.cloudfront.net/trip-data/yellow_tripdata_2020-05.parquet\n",
      "Iniciando descarga https://d37ci6vzurychx.cloudfront.net/trip-data/yellow_tripdata_2020-06.parquet\n",
      "100% [..........................................................................] 9505358 / 9505358Descarga finalizada en https://d37ci6vzurychx.cloudfront.net/trip-data/yellow_tripdata_2020-06.parquet\n",
      "Iniciando descarga https://d37ci6vzurychx.cloudfront.net/trip-data/yellow_tripdata_2020-07.parquet\n",
      "100% [........................................................................] 13387778 / 13387778Descarga finalizada en https://d37ci6vzurychx.cloudfront.net/trip-data/yellow_tripdata_2020-07.parquet\n",
      "Iniciando descarga https://d37ci6vzurychx.cloudfront.net/trip-data/yellow_tripdata_2020-08.parquet\n",
      "100% [........................................................................] 16601463 / 16601463Descarga finalizada en https://d37ci6vzurychx.cloudfront.net/trip-data/yellow_tripdata_2020-08.parquet\n",
      "Iniciando descarga https://d37ci6vzurychx.cloudfront.net/trip-data/yellow_tripdata_2020-09.parquet\n",
      "100% [........................................................................] 21381938 / 21381938Descarga finalizada en https://d37ci6vzurychx.cloudfront.net/trip-data/yellow_tripdata_2020-09.parquet\n",
      "Iniciando descarga https://d37ci6vzurychx.cloudfront.net/trip-data/yellow_tripdata_2020-10.parquet\n",
      "100% [........................................................................] 26306876 / 26306876Descarga finalizada en https://d37ci6vzurychx.cloudfront.net/trip-data/yellow_tripdata_2020-10.parquet\n",
      "Iniciando descarga https://d37ci6vzurychx.cloudfront.net/trip-data/yellow_tripdata_2020-11.parquet\n",
      "100% [........................................................................] 23583368 / 23583368Descarga finalizada en https://d37ci6vzurychx.cloudfront.net/trip-data/yellow_tripdata_2020-11.parquet\n",
      "Iniciando descarga https://d37ci6vzurychx.cloudfront.net/trip-data/yellow_tripdata_2020-12.parquet\n",
      "100% [........................................................................] 23020036 / 23020036Descarga finalizada en https://d37ci6vzurychx.cloudfront.net/trip-data/yellow_tripdata_2020-12.parquet\n"
     ]
    }
   ],
   "source": [
    "for year in years:\n",
    "    for month in months:\n",
    "        base_url = f'https://d37ci6vzurychx.cloudfront.net/trip-data/yellow_tripdata_{year}-{month}.parquet'\n",
    "        print(f\"Iniciando descarga {base_url}\")\n",
    "        wget.download(base_url,out = path)\n",
    "        print(f'Descarga finalizada en {base_url}')"
   ]
  },
  {
   "cell_type": "code",
   "execution_count": 11,
   "id": "11907627",
   "metadata": {},
   "outputs": [],
   "source": [
    "files = os.listdir()\n"
   ]
  },
  {
   "cell_type": "code",
   "execution_count": 15,
   "id": "be2a09c9",
   "metadata": {},
   "outputs": [
    {
     "name": "stdout",
     "output_type": "stream",
     "text": [
      "yellow_tripdata_2019-01.parquet\n",
      "7667792\n",
      "yellow_tripdata_2019-07.parquet\n",
      "6310419\n",
      "yellow_tripdata_2019-02.parquet\n",
      "7019375\n",
      "yellow_tripdata_2020-10.parquet\n",
      "1681131\n",
      "yellow_tripdata_2020-02.parquet\n",
      "6299354\n",
      "yellow_tripdata_2019-09.parquet\n",
      "6567788\n",
      "yellow_tripdata_2020-08.parquet\n",
      "1007284\n",
      "yellow_tripdata_2019-11.parquet\n",
      "6878111\n",
      "yellow_tripdata_2019-03.parquet\n",
      "7832545\n",
      "yellow_tripdata_2020-06.parquet\n",
      "549760\n",
      "yellow_tripdata_2019-05.parquet\n",
      "7565261\n",
      "yellow_tripdata_2020-11.parquet\n",
      "1508985\n",
      "yellow_tripdata_2020-04.parquet\n",
      "237993\n",
      "yellow_tripdata_2020-05.parquet\n",
      "348371\n",
      "yellow_tripdata_2020-12.parquet\n",
      "1461897\n",
      "yellow_tripdata_2020-09.parquet\n",
      "1341012\n",
      "yellow_tripdata_2020-07.parquet\n",
      "800412\n",
      "yellow_tripdata_2019-08.parquet\n",
      "6073357\n",
      "yellow_tripdata_2020-03.parquet\n",
      "3007292\n",
      "yellow_tripdata_2019-10.parquet\n",
      "7213891\n",
      "yellow_tripdata_2019-06.parquet\n",
      "6941024\n",
      "yellow_tripdata_2020-01.parquet\n",
      "6405008\n",
      "yellow_tripdata_2019-04.parquet\n",
      "7433139\n",
      "yellow_tripdata_2019-12.parquet\n",
      "6896317\n"
     ]
    }
   ],
   "source": [
    "counter = 0\n",
    "dic = {}\n",
    "total_rows = 0\n",
    "for file in os.listdir(path):\n",
    "    counter = counter + 1\n",
    "    df = pd.read_parquet(file)\n",
    "    print(file)\n",
    "    print(len(df))\n",
    "    dic[counter] = [file.split('_')[2], len(df)]\n",
    "    total_rows = total_rows + len(df)\n",
    "    "
   ]
  },
  {
   "cell_type": "code",
   "execution_count": 16,
   "id": "ce5a8a3d",
   "metadata": {},
   "outputs": [
    {
     "name": "stdout",
     "output_type": "stream",
     "text": [
      "24\n"
     ]
    }
   ],
   "source": [
    "print(counter)"
   ]
  },
  {
   "cell_type": "code",
   "execution_count": 17,
   "id": "55850bb4",
   "metadata": {},
   "outputs": [
    {
     "name": "stdout",
     "output_type": "stream",
     "text": [
      "{1: ['2019-01.parquet', 7667792], 2: ['2019-07.parquet', 6310419], 3: ['2019-02.parquet', 7019375], 4: ['2020-10.parquet', 1681131], 5: ['2020-02.parquet', 6299354], 6: ['2019-09.parquet', 6567788], 7: ['2020-08.parquet', 1007284], 8: ['2019-11.parquet', 6878111], 9: ['2019-03.parquet', 7832545], 10: ['2020-06.parquet', 549760], 11: ['2019-05.parquet', 7565261], 12: ['2020-11.parquet', 1508985], 13: ['2020-04.parquet', 237993], 14: ['2020-05.parquet', 348371], 15: ['2020-12.parquet', 1461897], 16: ['2020-09.parquet', 1341012], 17: ['2020-07.parquet', 800412], 18: ['2019-08.parquet', 6073357], 19: ['2020-03.parquet', 3007292], 20: ['2019-10.parquet', 7213891], 21: ['2019-06.parquet', 6941024], 22: ['2020-01.parquet', 6405008], 23: ['2019-04.parquet', 7433139], 24: ['2019-12.parquet', 6896317]}\n"
     ]
    }
   ],
   "source": [
    "print(dic)"
   ]
  },
  {
   "cell_type": "code",
   "execution_count": 18,
   "id": "bcf3d9e5",
   "metadata": {},
   "outputs": [
    {
     "name": "stdout",
     "output_type": "stream",
     "text": [
      "109047518\n"
     ]
    }
   ],
   "source": [
    "print(total_rows)"
   ]
  },
  {
   "cell_type": "code",
   "execution_count": 2,
   "id": "5fe40761",
   "metadata": {},
   "outputs": [
    {
     "name": "stdout",
     "output_type": "stream",
     "text": [
      "yellow_tripdata_2019-01.parquet\n",
      "7667792\n",
      "yellow_tripdata_2019-07.parquet\n",
      "6310419\n",
      "yellow_tripdata_2019-02.parquet\n",
      "7019375\n",
      "yellow_tripdata_2020-10.parquet\n",
      "1681131\n",
      "yellow_tripdata_2020-02.parquet\n",
      "6299354\n",
      "yellow_tripdata_2019-09.parquet\n",
      "6567788\n",
      "yellow_tripdata_2020-08.parquet\n",
      "1007284\n",
      "yellow_tripdata_2019-11.parquet\n",
      "6878111\n",
      "yellow_tripdata_2019-03.parquet\n",
      "7832545\n",
      "yellow_tripdata_2020-06.parquet\n",
      "549760\n",
      "yellow_tripdata_2019-05.parquet\n",
      "7565261\n",
      "yellow_tripdata_2020-11.parquet\n",
      "1508985\n",
      "yellow_tripdata_2020-04.parquet\n",
      "237993\n",
      "yellow_tripdata_2020-05.parquet\n",
      "348371\n",
      "yellow_tripdata_2020-12.parquet\n",
      "1461897\n",
      "yellow_tripdata_2020-09.parquet\n",
      "1341012\n",
      "yellow_tripdata_2020-07.parquet\n",
      "800412\n",
      "yellow_tripdata_2019-08.parquet\n",
      "6073357\n",
      "yellow_tripdata_2020-03.parquet\n",
      "3007292\n",
      "yellow_tripdata_2019-10.parquet\n",
      "7213891\n",
      "yellow_tripdata_2019-06.parquet\n",
      "6941024\n",
      "yellow_tripdata_2020-01.parquet\n",
      "6405008\n",
      "yellow_tripdata_2019-04.parquet\n",
      "7433139\n",
      "yellow_tripdata_2019-12.parquet\n",
      "6896317\n"
     ]
    }
   ],
   "source": [
    "files = os.listdir()\n",
    "counter = 0\n",
    "dic = {}\n",
    "total_rows = 0\n",
    "\n",
    "for file in files:\n",
    "    if 'parquet' in file and 'yellow' in file:\n",
    "        ++counter\n",
    "        df = pd.read_parquet(file)\n",
    "        print(file)\n",
    "        print(len(df))\n",
    "        dic[counter] = [file.split('_')[2], len(df)]\n",
    "        total_rows = total_rows + len(df)"
   ]
  },
  {
   "cell_type": "code",
   "execution_count": 3,
   "id": "8343099a",
   "metadata": {},
   "outputs": [
    {
     "name": "stdout",
     "output_type": "stream",
     "text": [
      "0\n"
     ]
    }
   ],
   "source": [
    "print(counter)"
   ]
  },
  {
   "cell_type": "code",
   "execution_count": 4,
   "id": "0eb5a141",
   "metadata": {},
   "outputs": [
    {
     "name": "stdout",
     "output_type": "stream",
     "text": [
      "109047518\n"
     ]
    }
   ],
   "source": [
    "print(total_rows)"
   ]
  },
  {
   "cell_type": "code",
   "execution_count": 55,
   "id": "d4b31540",
   "metadata": {},
   "outputs": [
    {
     "name": "stdout",
     "output_type": "stream",
     "text": [
      "24648499\n"
     ]
    }
   ],
   "source": [
    "faltantes = 109047518 - 84399019\n",
    "print(faltantes)"
   ]
  },
  {
   "cell_type": "code",
   "execution_count": null,
   "id": "ad7d29a0",
   "metadata": {},
   "outputs": [],
   "source": []
  },
  {
   "cell_type": "code",
   "execution_count": 1,
   "id": "61d56e73",
   "metadata": {},
   "outputs": [
    {
     "data": {
      "text/plain": [
       "'/home/ivang/datatalks/data-engineering-zoomcamp/homework/data-engineering-zoomcamp-2023/week4/data/clean'"
      ]
     },
     "execution_count": 1,
     "metadata": {},
     "output_type": "execute_result"
    }
   ],
   "source": [
    "pwd"
   ]
  },
  {
   "cell_type": "code",
   "execution_count": 17,
   "id": "75063cd0",
   "metadata": {},
   "outputs": [
    {
     "data": {
      "text/plain": [
       "'\\nComparacion de columnsa y tipos entre los ficheros de /clean, y los de /new_yellow\\n'"
      ]
     },
     "execution_count": 17,
     "metadata": {},
     "output_type": "execute_result"
    }
   ],
   "source": [
    "'''\n",
    "Comparacion de columnsa y tipos entre los ficheros de /clean, y los de /new_yellow\n",
    "\n",
    "'''"
   ]
  },
  {
   "cell_type": "code",
   "execution_count": 18,
   "id": "e1cbd9c6",
   "metadata": {},
   "outputs": [
    {
     "data": {
      "text/plain": [
       "'\\nCLEAN\\n'"
      ]
     },
     "execution_count": 18,
     "metadata": {},
     "output_type": "execute_result"
    }
   ],
   "source": [
    "'''\n",
    "CLEAN\n",
    "'''"
   ]
  },
  {
   "cell_type": "code",
   "execution_count": 4,
   "id": "11620aaf",
   "metadata": {},
   "outputs": [],
   "source": [
    "df1 = pd.read_parquet('yellow_tripdata_2019-01.parquet')\n"
   ]
  },
  {
   "cell_type": "code",
   "execution_count": 5,
   "id": "2d855da2",
   "metadata": {},
   "outputs": [
    {
     "data": {
      "text/plain": [
       "Index(['VendorID', 'tpep_pickup_datetime', 'tpep_dropoff_datetime',\n",
       "       'passenger_count', 'trip_distance', 'RatecodeID', 'store_and_fwd_flag',\n",
       "       'PULocationID', 'DOLocationID', 'payment_type', 'fare_amount', 'extra',\n",
       "       'mta_tax', 'tip_amount', 'tolls_amount', 'improvement_surcharge',\n",
       "       'total_amount', 'congestion_surcharge'],\n",
       "      dtype='object')"
      ]
     },
     "execution_count": 5,
     "metadata": {},
     "output_type": "execute_result"
    }
   ],
   "source": [
    "df1.columns"
   ]
  },
  {
   "cell_type": "code",
   "execution_count": 6,
   "id": "ccc478b8",
   "metadata": {},
   "outputs": [
    {
     "data": {
      "text/plain": [
       "VendorID                   int64\n",
       "tpep_pickup_datetime      object\n",
       "tpep_dropoff_datetime     object\n",
       "passenger_count            int64\n",
       "trip_distance            float64\n",
       "RatecodeID                 int64\n",
       "store_and_fwd_flag        object\n",
       "PULocationID               int64\n",
       "DOLocationID               int64\n",
       "payment_type               int64\n",
       "fare_amount              float64\n",
       "extra                    float64\n",
       "mta_tax                  float64\n",
       "tip_amount               float64\n",
       "tolls_amount             float64\n",
       "improvement_surcharge    float64\n",
       "total_amount             float64\n",
       "congestion_surcharge     float64\n",
       "dtype: object"
      ]
     },
     "execution_count": 6,
     "metadata": {},
     "output_type": "execute_result"
    }
   ],
   "source": [
    "df1.dtypes"
   ]
  },
  {
   "cell_type": "code",
   "execution_count": 7,
   "id": "43f9d05f",
   "metadata": {},
   "outputs": [],
   "source": [
    "df2 = pd.read_parquet('yellow_tripdata_2020-01.parquet')"
   ]
  },
  {
   "cell_type": "code",
   "execution_count": 8,
   "id": "cf1652ad",
   "metadata": {},
   "outputs": [
    {
     "data": {
      "text/plain": [
       "Index(['VendorID', 'tpep_pickup_datetime', 'tpep_dropoff_datetime',\n",
       "       'passenger_count', 'trip_distance', 'RatecodeID', 'store_and_fwd_flag',\n",
       "       'PULocationID', 'DOLocationID', 'payment_type', 'fare_amount', 'extra',\n",
       "       'mta_tax', 'tip_amount', 'tolls_amount', 'improvement_surcharge',\n",
       "       'total_amount', 'congestion_surcharge'],\n",
       "      dtype='object')"
      ]
     },
     "execution_count": 8,
     "metadata": {},
     "output_type": "execute_result"
    }
   ],
   "source": [
    "df2.columns"
   ]
  },
  {
   "cell_type": "code",
   "execution_count": 9,
   "id": "27003c63",
   "metadata": {},
   "outputs": [
    {
     "data": {
      "text/plain": [
       "VendorID                          Int64\n",
       "tpep_pickup_datetime     datetime64[ns]\n",
       "tpep_dropoff_datetime    datetime64[ns]\n",
       "passenger_count                   Int64\n",
       "trip_distance                   float64\n",
       "RatecodeID                        Int64\n",
       "store_and_fwd_flag               string\n",
       "PULocationID                      Int64\n",
       "DOLocationID                      Int64\n",
       "payment_type                      Int64\n",
       "fare_amount                     float64\n",
       "extra                           float64\n",
       "mta_tax                         float64\n",
       "tip_amount                      float64\n",
       "tolls_amount                    float64\n",
       "improvement_surcharge           float64\n",
       "total_amount                    float64\n",
       "congestion_surcharge            float64\n",
       "dtype: object"
      ]
     },
     "execution_count": 9,
     "metadata": {},
     "output_type": "execute_result"
    }
   ],
   "source": [
    "df2.dtypes"
   ]
  },
  {
   "cell_type": "code",
   "execution_count": 15,
   "id": "b0931c6c",
   "metadata": {},
   "outputs": [],
   "source": [
    "for x,y in zip(df1.columns,df2.columns):\n",
    "    if x != y:\n",
    "        print(x,y)"
   ]
  },
  {
   "cell_type": "code",
   "execution_count": 16,
   "id": "d1c297bf",
   "metadata": {},
   "outputs": [
    {
     "data": {
      "text/plain": [
       "False"
      ]
     },
     "execution_count": 16,
     "metadata": {},
     "output_type": "execute_result"
    }
   ],
   "source": [
    "for x,y in zip(df1.dtypes,df2.dtypes):\n",
    "    if x != y:\n",
    "        print(x,y)\n",
    "    "
   ]
  },
  {
   "cell_type": "code",
   "execution_count": 21,
   "id": "d2945969",
   "metadata": {},
   "outputs": [
    {
     "name": "stdout",
     "output_type": "stream",
     "text": [
      "int64 Int64\n",
      "object datetime64[ns]\n",
      "object datetime64[ns]\n",
      "int64 Int64\n",
      "int64 Int64\n",
      "object string\n",
      "int64 Int64\n",
      "int64 Int64\n",
      "int64 Int64\n"
     ]
    }
   ],
   "source": [
    "for x,y in zip(df1.dtypes,df2.dtypes):\n",
    "    if x != y:\n",
    "        print(x,y)"
   ]
  },
  {
   "cell_type": "code",
   "execution_count": 19,
   "id": "f16275cb",
   "metadata": {},
   "outputs": [
    {
     "data": {
      "text/plain": [
       "'\\nNEW YELLOW\\n'"
      ]
     },
     "execution_count": 19,
     "metadata": {},
     "output_type": "execute_result"
    }
   ],
   "source": [
    "'''\n",
    "NEW YELLOW\n",
    "'''"
   ]
  },
  {
   "cell_type": "code",
   "execution_count": 24,
   "id": "1b537f18",
   "metadata": {},
   "outputs": [],
   "source": [
    "df1 = pd.read_parquet(path + 'yellow_tripdata_2019-01.parquet')"
   ]
  },
  {
   "cell_type": "code",
   "execution_count": 26,
   "id": "e076929f",
   "metadata": {},
   "outputs": [
    {
     "data": {
      "text/plain": [
       "Index(['VendorID', 'tpep_pickup_datetime', 'tpep_dropoff_datetime',\n",
       "       'passenger_count', 'trip_distance', 'RatecodeID', 'store_and_fwd_flag',\n",
       "       'PULocationID', 'DOLocationID', 'payment_type', 'fare_amount', 'extra',\n",
       "       'mta_tax', 'tip_amount', 'tolls_amount', 'improvement_surcharge',\n",
       "       'total_amount', 'congestion_surcharge', 'airport_fee'],\n",
       "      dtype='object')"
      ]
     },
     "execution_count": 26,
     "metadata": {},
     "output_type": "execute_result"
    }
   ],
   "source": [
    "df1.columns"
   ]
  },
  {
   "cell_type": "code",
   "execution_count": 27,
   "id": "18a2359a",
   "metadata": {},
   "outputs": [
    {
     "data": {
      "text/plain": [
       "VendorID                          int64\n",
       "tpep_pickup_datetime     datetime64[ns]\n",
       "tpep_dropoff_datetime    datetime64[ns]\n",
       "passenger_count                 float64\n",
       "trip_distance                   float64\n",
       "RatecodeID                      float64\n",
       "store_and_fwd_flag               object\n",
       "PULocationID                      int64\n",
       "DOLocationID                      int64\n",
       "payment_type                      int64\n",
       "fare_amount                     float64\n",
       "extra                           float64\n",
       "mta_tax                         float64\n",
       "tip_amount                      float64\n",
       "tolls_amount                    float64\n",
       "improvement_surcharge           float64\n",
       "total_amount                    float64\n",
       "congestion_surcharge            float64\n",
       "airport_fee                      object\n",
       "dtype: object"
      ]
     },
     "execution_count": 27,
     "metadata": {},
     "output_type": "execute_result"
    }
   ],
   "source": [
    "df1.dtypes"
   ]
  },
  {
   "cell_type": "code",
   "execution_count": 28,
   "id": "19f0edd2",
   "metadata": {},
   "outputs": [],
   "source": [
    "df2 = pd.read_parquet(path + 'yellow_tripdata_2020-01.parquet')"
   ]
  },
  {
   "cell_type": "code",
   "execution_count": 30,
   "id": "2fc7598a",
   "metadata": {},
   "outputs": [
    {
     "data": {
      "text/plain": [
       "Index(['VendorID', 'tpep_pickup_datetime', 'tpep_dropoff_datetime',\n",
       "       'passenger_count', 'trip_distance', 'RatecodeID', 'store_and_fwd_flag',\n",
       "       'PULocationID', 'DOLocationID', 'payment_type', 'fare_amount', 'extra',\n",
       "       'mta_tax', 'tip_amount', 'tolls_amount', 'improvement_surcharge',\n",
       "       'total_amount', 'congestion_surcharge', 'airport_fee'],\n",
       "      dtype='object')"
      ]
     },
     "execution_count": 30,
     "metadata": {},
     "output_type": "execute_result"
    }
   ],
   "source": [
    "df2.columns"
   ]
  },
  {
   "cell_type": "code",
   "execution_count": 31,
   "id": "e7f64fb6",
   "metadata": {},
   "outputs": [
    {
     "data": {
      "text/plain": [
       "VendorID                          int64\n",
       "tpep_pickup_datetime     datetime64[ns]\n",
       "tpep_dropoff_datetime    datetime64[ns]\n",
       "passenger_count                 float64\n",
       "trip_distance                   float64\n",
       "RatecodeID                      float64\n",
       "store_and_fwd_flag               object\n",
       "PULocationID                      int64\n",
       "DOLocationID                      int64\n",
       "payment_type                      int64\n",
       "fare_amount                     float64\n",
       "extra                           float64\n",
       "mta_tax                         float64\n",
       "tip_amount                      float64\n",
       "tolls_amount                    float64\n",
       "improvement_surcharge           float64\n",
       "total_amount                    float64\n",
       "congestion_surcharge            float64\n",
       "airport_fee                      object\n",
       "dtype: object"
      ]
     },
     "execution_count": 31,
     "metadata": {},
     "output_type": "execute_result"
    }
   ],
   "source": [
    "df2.dtypes"
   ]
  },
  {
   "cell_type": "code",
   "execution_count": 34,
   "id": "7f17d03b",
   "metadata": {},
   "outputs": [],
   "source": [
    "for x,y in zip(df1.columns,df2.columns):\n",
    "    \n",
    "    if x != y:\n",
    "        print(x,y)"
   ]
  },
  {
   "cell_type": "code",
   "execution_count": 33,
   "id": "5cb029e2",
   "metadata": {},
   "outputs": [],
   "source": [
    "for x,y in zip(df1.dtypes,df2.dtypes):\n",
    "    if x != y:\n",
    "        print(x,y)"
   ]
  },
  {
   "cell_type": "code",
   "execution_count": 36,
   "id": "1394c609",
   "metadata": {},
   "outputs": [
    {
     "data": {
      "text/plain": [
       "'/home/ivang/datatalks/data-engineering-zoomcamp/homework/data-engineering-zoomcamp-2023/week4/data/clean'"
      ]
     },
     "execution_count": 36,
     "metadata": {},
     "output_type": "execute_result"
    }
   ],
   "source": [
    "pwd"
   ]
  },
  {
   "cell_type": "code",
   "execution_count": 3,
   "id": "27e3ad08",
   "metadata": {},
   "outputs": [],
   "source": [
    "import yaml"
   ]
  },
  {
   "cell_type": "code",
   "execution_count": null,
   "id": "68b9bbdd",
   "metadata": {},
   "outputs": [],
   "source": [
    "\n",
    "    "
   ]
  },
  {
   "cell_type": "code",
   "execution_count": 9,
   "id": "0adb0b34",
   "metadata": {},
   "outputs": [],
   "source": [
    "with open('schemas.yml', 'r') as file:\n",
    "    service = yaml.safe_load(file)\n",
    "    yellow_schema = service['yellow']\n",
    "    green_schema = service['green']"
   ]
  },
  {
   "cell_type": "code",
   "execution_count": 51,
   "id": "bb1d6e5e",
   "metadata": {},
   "outputs": [
    {
     "ename": "KeyError",
     "evalue": "\"Only a column name can be used for the key in a dtype mappings argument. 'total_amount' not found in columns.\"",
     "output_type": "error",
     "traceback": [
      "\u001b[0;31m---------------------------------------------------------------------------\u001b[0m",
      "\u001b[0;31mKeyError\u001b[0m                                  Traceback (most recent call last)",
      "Cell \u001b[0;32mIn[51], line 2\u001b[0m\n\u001b[1;32m      1\u001b[0m df1 \u001b[38;5;241m=\u001b[39m df1[df1\u001b[38;5;241m.\u001b[39mcolumns[:\u001b[38;5;241m-\u001b[39m\u001b[38;5;241m1\u001b[39m]]\n\u001b[0;32m----> 2\u001b[0m df1 \u001b[38;5;241m=\u001b[39m \u001b[43mdf1\u001b[49m\u001b[38;5;241;43m.\u001b[39;49m\u001b[43mastype\u001b[49m\u001b[43m(\u001b[49m\u001b[43myellow_schema\u001b[49m\u001b[43m)\u001b[49m\n",
      "File \u001b[0;32m~/miniconda3/envs/zoomcamp2/lib/python3.9/site-packages/pandas/core/generic.py:6212\u001b[0m, in \u001b[0;36mNDFrame.astype\u001b[0;34m(self, dtype, copy, errors)\u001b[0m\n\u001b[1;32m   6210\u001b[0m \u001b[38;5;28;01mfor\u001b[39;00m col_name \u001b[38;5;129;01min\u001b[39;00m dtype_ser\u001b[38;5;241m.\u001b[39mindex:\n\u001b[1;32m   6211\u001b[0m     \u001b[38;5;28;01mif\u001b[39;00m col_name \u001b[38;5;129;01mnot\u001b[39;00m \u001b[38;5;129;01min\u001b[39;00m \u001b[38;5;28mself\u001b[39m:\n\u001b[0;32m-> 6212\u001b[0m         \u001b[38;5;28;01mraise\u001b[39;00m \u001b[38;5;167;01mKeyError\u001b[39;00m(\n\u001b[1;32m   6213\u001b[0m             \u001b[38;5;124m\"\u001b[39m\u001b[38;5;124mOnly a column name can be used for the \u001b[39m\u001b[38;5;124m\"\u001b[39m\n\u001b[1;32m   6214\u001b[0m             \u001b[38;5;124m\"\u001b[39m\u001b[38;5;124mkey in a dtype mappings argument. \u001b[39m\u001b[38;5;124m\"\u001b[39m\n\u001b[1;32m   6215\u001b[0m             \u001b[38;5;124mf\u001b[39m\u001b[38;5;124m\"\u001b[39m\u001b[38;5;124m'\u001b[39m\u001b[38;5;132;01m{\u001b[39;00mcol_name\u001b[38;5;132;01m}\u001b[39;00m\u001b[38;5;124m'\u001b[39m\u001b[38;5;124m not found in columns.\u001b[39m\u001b[38;5;124m\"\u001b[39m\n\u001b[1;32m   6216\u001b[0m         )\n\u001b[1;32m   6218\u001b[0m dtype_ser \u001b[38;5;241m=\u001b[39m dtype_ser\u001b[38;5;241m.\u001b[39mreindex(\u001b[38;5;28mself\u001b[39m\u001b[38;5;241m.\u001b[39mcolumns, fill_value\u001b[38;5;241m=\u001b[39m\u001b[38;5;28;01mNone\u001b[39;00m, copy\u001b[38;5;241m=\u001b[39m\u001b[38;5;28;01mFalse\u001b[39;00m)\n\u001b[1;32m   6220\u001b[0m results \u001b[38;5;241m=\u001b[39m []\n",
      "\u001b[0;31mKeyError\u001b[0m: \"Only a column name can be used for the key in a dtype mappings argument. 'total_amount' not found in columns.\""
     ]
    }
   ],
   "source": [
    "df1 = df1[df1.columns[:-1]]\n",
    "df1 = df1.astype(yellow_schema)"
   ]
  },
  {
   "cell_type": "code",
   "execution_count": 5,
   "id": "edb22619",
   "metadata": {},
   "outputs": [
    {
     "name": "stdout",
     "output_type": "stream",
     "text": [
      "echo bq load --source_format=PARQUET trips_data_all.yellow_2402_2 yellow_tripdata_2019-01.parquet\n",
      "bq load --source_format=PARQUET trips_data_all.yellow_2402_2 yellow_tripdata_2019-01.parquet\n",
      "echo bq load --source_format=PARQUET trips_data_all.yellow_2402_2 yellow_tripdata_2019-02.parquet\n",
      "bq load --source_format=PARQUET trips_data_all.yellow_2402_2 yellow_tripdata_2019-02.parquet\n",
      "echo bq load --source_format=PARQUET trips_data_all.yellow_2402_2 yellow_tripdata_2019-03.parquet\n",
      "bq load --source_format=PARQUET trips_data_all.yellow_2402_2 yellow_tripdata_2019-03.parquet\n",
      "echo bq load --source_format=PARQUET trips_data_all.yellow_2402_2 yellow_tripdata_2019-04.parquet\n",
      "bq load --source_format=PARQUET trips_data_all.yellow_2402_2 yellow_tripdata_2019-04.parquet\n",
      "echo bq load --source_format=PARQUET trips_data_all.yellow_2402_2 yellow_tripdata_2019-05.parquet\n",
      "bq load --source_format=PARQUET trips_data_all.yellow_2402_2 yellow_tripdata_2019-05.parquet\n",
      "echo bq load --source_format=PARQUET trips_data_all.yellow_2402_2 yellow_tripdata_2019-06.parquet\n",
      "bq load --source_format=PARQUET trips_data_all.yellow_2402_2 yellow_tripdata_2019-06.parquet\n",
      "echo bq load --source_format=PARQUET trips_data_all.yellow_2402_2 yellow_tripdata_2019-07.parquet\n",
      "bq load --source_format=PARQUET trips_data_all.yellow_2402_2 yellow_tripdata_2019-07.parquet\n",
      "echo bq load --source_format=PARQUET trips_data_all.yellow_2402_2 yellow_tripdata_2019-08.parquet\n",
      "bq load --source_format=PARQUET trips_data_all.yellow_2402_2 yellow_tripdata_2019-08.parquet\n",
      "echo bq load --source_format=PARQUET trips_data_all.yellow_2402_2 yellow_tripdata_2019-09.parquet\n",
      "bq load --source_format=PARQUET trips_data_all.yellow_2402_2 yellow_tripdata_2019-09.parquet\n",
      "echo bq load --source_format=PARQUET trips_data_all.yellow_2402_2 yellow_tripdata_2019-10.parquet\n",
      "bq load --source_format=PARQUET trips_data_all.yellow_2402_2 yellow_tripdata_2019-10.parquet\n",
      "echo bq load --source_format=PARQUET trips_data_all.yellow_2402_2 yellow_tripdata_2019-11.parquet\n",
      "bq load --source_format=PARQUET trips_data_all.yellow_2402_2 yellow_tripdata_2019-11.parquet\n",
      "echo bq load --source_format=PARQUET trips_data_all.yellow_2402_2 yellow_tripdata_2019-12.parquet\n",
      "bq load --source_format=PARQUET trips_data_all.yellow_2402_2 yellow_tripdata_2019-12.parquet\n",
      "echo bq load --source_format=PARQUET trips_data_all.yellow_2402_2 yellow_tripdata_2020-01.parquet\n",
      "bq load --source_format=PARQUET trips_data_all.yellow_2402_2 yellow_tripdata_2020-01.parquet\n",
      "echo bq load --source_format=PARQUET trips_data_all.yellow_2402_2 yellow_tripdata_2020-02.parquet\n",
      "bq load --source_format=PARQUET trips_data_all.yellow_2402_2 yellow_tripdata_2020-02.parquet\n",
      "echo bq load --source_format=PARQUET trips_data_all.yellow_2402_2 yellow_tripdata_2020-03.parquet\n",
      "bq load --source_format=PARQUET trips_data_all.yellow_2402_2 yellow_tripdata_2020-03.parquet\n",
      "echo bq load --source_format=PARQUET trips_data_all.yellow_2402_2 yellow_tripdata_2020-04.parquet\n",
      "bq load --source_format=PARQUET trips_data_all.yellow_2402_2 yellow_tripdata_2020-04.parquet\n",
      "echo bq load --source_format=PARQUET trips_data_all.yellow_2402_2 yellow_tripdata_2020-05.parquet\n",
      "bq load --source_format=PARQUET trips_data_all.yellow_2402_2 yellow_tripdata_2020-05.parquet\n",
      "echo bq load --source_format=PARQUET trips_data_all.yellow_2402_2 yellow_tripdata_2020-06.parquet\n",
      "bq load --source_format=PARQUET trips_data_all.yellow_2402_2 yellow_tripdata_2020-06.parquet\n",
      "echo bq load --source_format=PARQUET trips_data_all.yellow_2402_2 yellow_tripdata_2020-07.parquet\n",
      "bq load --source_format=PARQUET trips_data_all.yellow_2402_2 yellow_tripdata_2020-07.parquet\n",
      "echo bq load --source_format=PARQUET trips_data_all.yellow_2402_2 yellow_tripdata_2020-08.parquet\n",
      "bq load --source_format=PARQUET trips_data_all.yellow_2402_2 yellow_tripdata_2020-08.parquet\n",
      "echo bq load --source_format=PARQUET trips_data_all.yellow_2402_2 yellow_tripdata_2020-09.parquet\n",
      "bq load --source_format=PARQUET trips_data_all.yellow_2402_2 yellow_tripdata_2020-09.parquet\n",
      "echo bq load --source_format=PARQUET trips_data_all.yellow_2402_2 yellow_tripdata_2020-10.parquet\n",
      "bq load --source_format=PARQUET trips_data_all.yellow_2402_2 yellow_tripdata_2020-10.parquet\n",
      "echo bq load --source_format=PARQUET trips_data_all.yellow_2402_2 yellow_tripdata_2020-11.parquet\n",
      "bq load --source_format=PARQUET trips_data_all.yellow_2402_2 yellow_tripdata_2020-11.parquet\n",
      "echo bq load --source_format=PARQUET trips_data_all.yellow_2402_2 yellow_tripdata_2020-12.parquet\n",
      "bq load --source_format=PARQUET trips_data_all.yellow_2402_2 yellow_tripdata_2020-12.parquet\n"
     ]
    }
   ],
   "source": [
    "years = [\"2019\",\"2020\"]\n",
    "months = [\"01\",\"02\",\"03\",\"04\",\"05\",\"06\",\"07\",\"08\",\"09\",\"10\",\"11\",\"12\"]\n",
    "\n",
    "for year in years:\n",
    "    for month in months:\n",
    "        print(f\"echo bq load --source_format=PARQUET trips_data_all.yellow_2402_2 yellow_tripdata_{year}-{month}.parquet\")\n",
    "        print(f\"bq load --source_format=PARQUET trips_data_all.yellow_2402_2 yellow_tripdata_{year}-{month}.parquet\")"
   ]
  },
  {
   "cell_type": "code",
   "execution_count": 3,
   "id": "2e97f7fd",
   "metadata": {},
   "outputs": [],
   "source": [
    "df = pd.read_parquet('yellow_tripdata_2019-03.parquet')"
   ]
  },
  {
   "cell_type": "code",
   "execution_count": 4,
   "id": "1af0efc4",
   "metadata": {},
   "outputs": [
    {
     "data": {
      "text/plain": [
       "VendorID                          Int64\n",
       "tpep_pickup_datetime     datetime64[ns]\n",
       "tpep_dropoff_datetime    datetime64[ns]\n",
       "passenger_count                   Int64\n",
       "trip_distance                   float64\n",
       "RatecodeID                        Int64\n",
       "store_and_fwd_flag               string\n",
       "PULocationID                      Int64\n",
       "DOLocationID                      Int64\n",
       "payment_type                      Int64\n",
       "fare_amount                     float64\n",
       "extra                           float64\n",
       "mta_tax                         float64\n",
       "tip_amount                      float64\n",
       "tolls_amount                    float64\n",
       "improvement_surcharge           float64\n",
       "total_amount                    float64\n",
       "congestion_surcharge            float64\n",
       "dtype: object"
      ]
     },
     "execution_count": 4,
     "metadata": {},
     "output_type": "execute_result"
    }
   ],
   "source": [
    "df.dtypes"
   ]
  },
  {
   "cell_type": "code",
   "execution_count": 2,
   "id": "137f15ab",
   "metadata": {},
   "outputs": [],
   "source": [
    "import os\n",
    "import pandas as pd\n",
    "files = os.listdir()"
   ]
  },
  {
   "cell_type": "code",
   "execution_count": 5,
   "id": "77161875",
   "metadata": {},
   "outputs": [
    {
     "name": "stdout",
     "output_type": "stream",
     "text": [
      "yellow_tripdata_2019-01.parquet\n",
      "yellow_tripdata_2019-07.parquet\n",
      "yellow_tripdata_2019-02.parquet\n",
      "yellow_tripdata_2020-10.parquet\n",
      "yellow_tripdata_2020-02.parquet\n",
      "yellow_tripdata_2019-09.parquet\n",
      "yellow_tripdata_2020-08.parquet\n",
      "yellow_tripdata_2019-11.parquet\n",
      "yellow_tripdata_2019-03.parquet\n",
      "yellow_tripdata_2020-06.parquet\n",
      "yellow_tripdata_2019-05.parquet\n",
      "yellow_tripdata_2020-11.parquet\n",
      "yellow_tripdata_2020-04.parquet\n",
      "yellow_tripdata_2020-05.parquet\n",
      "yellow_tripdata_2020-12.parquet\n",
      "yellow_tripdata_2020-09.parquet\n",
      "yellow_tripdata_2020-07.parquet\n",
      "yellow_tripdata_2019-08.parquet\n",
      "yellow_tripdata_2020-03.parquet\n",
      "yellow_tripdata_2019-10.parquet\n",
      "yellow_tripdata_2019-06.parquet\n",
      "yellow_tripdata_2020-01.parquet\n",
      "yellow_tripdata_2019-04.parquet\n",
      "yellow_tripdata_2019-12.parquet\n"
     ]
    }
   ],
   "source": [
    "\n",
    "for file in files:\n",
    "    if 'yellow' in file and '.parquet' in file:\n",
    "        print(file)\n",
    "        df = pd.read_parquet(file)\n",
    "        df = df.astype(yellow_schema)\n",
    "        df.to_parquet(file,index=False)\n",
    "        "
   ]
  },
  {
   "cell_type": "code",
   "execution_count": 9,
   "id": "0a78b417",
   "metadata": {},
   "outputs": [
    {
     "data": {
      "text/plain": [
       "'/home/ivang/datatalks/data-engineering-zoomcamp/homework/data-engineering-zoomcamp-2023/week4/data/clean'"
      ]
     },
     "execution_count": 9,
     "metadata": {},
     "output_type": "execute_result"
    }
   ],
   "source": [
    "pwd"
   ]
  },
  {
   "cell_type": "code",
   "execution_count": 10,
   "id": "c61453d7",
   "metadata": {},
   "outputs": [],
   "source": [
    "dir = '/home/ivang/datatalks/data-engineering-zoomcamp/homework/data-engineering-zoomcamp-2023/week4/data/clean/new_yellow'"
   ]
  },
  {
   "cell_type": "code",
   "execution_count": 7,
   "id": "f14df0a0",
   "metadata": {},
   "outputs": [
    {
     "data": {
      "text/plain": [
       "'\\nGREEN\\n'"
      ]
     },
     "execution_count": 7,
     "metadata": {},
     "output_type": "execute_result"
    }
   ],
   "source": [
    "'''\n",
    "GREEN\n",
    "'''"
   ]
  },
  {
   "cell_type": "code",
   "execution_count": 10,
   "id": "80d86d8b",
   "metadata": {},
   "outputs": [
    {
     "name": "stdout",
     "output_type": "stream",
     "text": [
      "green_tripdata_2019-09.parquet\n",
      "green_tripdata_2020-09.parquet\n",
      "green_tripdata_2020-02.parquet\n",
      "green_tripdata_2019-10.parquet\n",
      "green_tripdata_2020-12.parquet\n",
      "green_tripdata_2020-07.parquet\n",
      "green_tripdata_2019-06.parquet\n",
      "green_tripdata_2019-08.parquet\n",
      "green_tripdata_2020-04.parquet\n",
      "green_tripdata_2019-04.parquet\n",
      "green_tripdata_2020-05.parquet\n",
      "green_tripdata_2019-12.parquet\n",
      "green_tripdata_2020-10.parquet\n",
      "green_tripdata_2020-11.parquet\n",
      "green_tripdata_2020-03.parquet\n",
      "green_tripdata_2019-11.parquet\n",
      "green_tripdata_2019-02.parquet\n",
      "green_tripdata_2019-05.parquet\n",
      "green_tripdata_2019-03.parquet\n",
      "green_tripdata_2019-07.parquet\n",
      "green_tripdata_2020-08.parquet\n",
      "green_tripdata_2019-01.parquet\n",
      "green_tripdata_2020-01.parquet\n",
      "green_tripdata_2020-06.parquet\n"
     ]
    }
   ],
   "source": [
    "import os\n",
    "import pandas as pd\n",
    "files = os.listdir()\n",
    "for file in files:\n",
    "    if 'green' in file and '.parquet' in file:\n",
    "        print(file)\n",
    "        df = pd.read_parquet(file)\n",
    "        df = df.astype(green_schema)\n",
    "        df.to_parquet(file,index=False)"
   ]
  },
  {
   "cell_type": "code",
   "execution_count": 13,
   "id": "223bdc05",
   "metadata": {},
   "outputs": [
    {
     "name": "stdout",
     "output_type": "stream",
     "text": [
      "24\n"
     ]
    }
   ],
   "source": [
    "files = os.listdir()\n",
    "contador = 0\n",
    "for file in files:\n",
    "    if 'green' in file and '.parquet' in file:\n",
    "        contador = contador + 1\n",
    "        \n",
    "print(contador)"
   ]
  },
  {
   "cell_type": "code",
   "execution_count": 6,
   "id": "72c5e259",
   "metadata": {},
   "outputs": [
    {
     "name": "stdout",
     "output_type": "stream",
     "text": [
      "echo bq load --source_format=PARQUET trips_data_all.green_2402_2 green_tripdata_2019-01.parquet\n",
      "bq load --source_format=PARQUET trips_data_all.green_2402_2 green_tripdata_2019-01.parquet\n",
      "echo bq load --source_format=PARQUET trips_data_all.green_2402_2 green_tripdata_2019-02.parquet\n",
      "bq load --source_format=PARQUET trips_data_all.green_2402_2 green_tripdata_2019-02.parquet\n",
      "echo bq load --source_format=PARQUET trips_data_all.green_2402_2 green_tripdata_2019-03.parquet\n",
      "bq load --source_format=PARQUET trips_data_all.green_2402_2 green_tripdata_2019-03.parquet\n",
      "echo bq load --source_format=PARQUET trips_data_all.green_2402_2 green_tripdata_2019-04.parquet\n",
      "bq load --source_format=PARQUET trips_data_all.green_2402_2 green_tripdata_2019-04.parquet\n",
      "echo bq load --source_format=PARQUET trips_data_all.green_2402_2 green_tripdata_2019-05.parquet\n",
      "bq load --source_format=PARQUET trips_data_all.green_2402_2 green_tripdata_2019-05.parquet\n",
      "echo bq load --source_format=PARQUET trips_data_all.green_2402_2 green_tripdata_2019-06.parquet\n",
      "bq load --source_format=PARQUET trips_data_all.green_2402_2 green_tripdata_2019-06.parquet\n",
      "echo bq load --source_format=PARQUET trips_data_all.green_2402_2 green_tripdata_2019-07.parquet\n",
      "bq load --source_format=PARQUET trips_data_all.green_2402_2 green_tripdata_2019-07.parquet\n",
      "echo bq load --source_format=PARQUET trips_data_all.green_2402_2 green_tripdata_2019-08.parquet\n",
      "bq load --source_format=PARQUET trips_data_all.green_2402_2 green_tripdata_2019-08.parquet\n",
      "echo bq load --source_format=PARQUET trips_data_all.green_2402_2 green_tripdata_2019-09.parquet\n",
      "bq load --source_format=PARQUET trips_data_all.green_2402_2 green_tripdata_2019-09.parquet\n",
      "echo bq load --source_format=PARQUET trips_data_all.green_2402_2 green_tripdata_2019-10.parquet\n",
      "bq load --source_format=PARQUET trips_data_all.green_2402_2 green_tripdata_2019-10.parquet\n",
      "echo bq load --source_format=PARQUET trips_data_all.green_2402_2 green_tripdata_2019-11.parquet\n",
      "bq load --source_format=PARQUET trips_data_all.green_2402_2 green_tripdata_2019-11.parquet\n",
      "echo bq load --source_format=PARQUET trips_data_all.green_2402_2 green_tripdata_2019-12.parquet\n",
      "bq load --source_format=PARQUET trips_data_all.green_2402_2 green_tripdata_2019-12.parquet\n",
      "echo bq load --source_format=PARQUET trips_data_all.green_2402_2 green_tripdata_2020-01.parquet\n",
      "bq load --source_format=PARQUET trips_data_all.green_2402_2 green_tripdata_2020-01.parquet\n",
      "echo bq load --source_format=PARQUET trips_data_all.green_2402_2 green_tripdata_2020-02.parquet\n",
      "bq load --source_format=PARQUET trips_data_all.green_2402_2 green_tripdata_2020-02.parquet\n",
      "echo bq load --source_format=PARQUET trips_data_all.green_2402_2 green_tripdata_2020-03.parquet\n",
      "bq load --source_format=PARQUET trips_data_all.green_2402_2 green_tripdata_2020-03.parquet\n",
      "echo bq load --source_format=PARQUET trips_data_all.green_2402_2 green_tripdata_2020-04.parquet\n",
      "bq load --source_format=PARQUET trips_data_all.green_2402_2 green_tripdata_2020-04.parquet\n",
      "echo bq load --source_format=PARQUET trips_data_all.green_2402_2 green_tripdata_2020-05.parquet\n",
      "bq load --source_format=PARQUET trips_data_all.green_2402_2 green_tripdata_2020-05.parquet\n",
      "echo bq load --source_format=PARQUET trips_data_all.green_2402_2 green_tripdata_2020-06.parquet\n",
      "bq load --source_format=PARQUET trips_data_all.green_2402_2 green_tripdata_2020-06.parquet\n",
      "echo bq load --source_format=PARQUET trips_data_all.green_2402_2 green_tripdata_2020-07.parquet\n",
      "bq load --source_format=PARQUET trips_data_all.green_2402_2 green_tripdata_2020-07.parquet\n",
      "echo bq load --source_format=PARQUET trips_data_all.green_2402_2 green_tripdata_2020-08.parquet\n",
      "bq load --source_format=PARQUET trips_data_all.green_2402_2 green_tripdata_2020-08.parquet\n",
      "echo bq load --source_format=PARQUET trips_data_all.green_2402_2 green_tripdata_2020-09.parquet\n",
      "bq load --source_format=PARQUET trips_data_all.green_2402_2 green_tripdata_2020-09.parquet\n",
      "echo bq load --source_format=PARQUET trips_data_all.green_2402_2 green_tripdata_2020-10.parquet\n",
      "bq load --source_format=PARQUET trips_data_all.green_2402_2 green_tripdata_2020-10.parquet\n",
      "echo bq load --source_format=PARQUET trips_data_all.green_2402_2 green_tripdata_2020-11.parquet\n",
      "bq load --source_format=PARQUET trips_data_all.green_2402_2 green_tripdata_2020-11.parquet\n",
      "echo bq load --source_format=PARQUET trips_data_all.green_2402_2 green_tripdata_2020-12.parquet\n",
      "bq load --source_format=PARQUET trips_data_all.green_2402_2 green_tripdata_2020-12.parquet\n"
     ]
    }
   ],
   "source": [
    "years = [\"2019\",\"2020\"]\n",
    "months = [\"01\",\"02\",\"03\",\"04\",\"05\",\"06\",\"07\",\"08\",\"09\",\"10\",\"11\",\"12\"]\n",
    "\n",
    "for year in years:\n",
    "    for month in months:\n",
    "        print(f\"echo bq load --source_format=PARQUET trips_data_all.green_2402_2 green_tripdata_{year}-{month}.parquet\")\n",
    "        print(f\"bq load --source_format=PARQUET trips_data_all.green_2402_2 green_tripdata_{year}-{month}.parquet\")"
   ]
  },
  {
   "cell_type": "code",
   "execution_count": 14,
   "id": "975e5333",
   "metadata": {},
   "outputs": [
    {
     "data": {
      "text/plain": [
       "'\\nFHV\\n'"
      ]
     },
     "execution_count": 14,
     "metadata": {},
     "output_type": "execute_result"
    }
   ],
   "source": [
    "'''\n",
    "FHV\n",
    "'''"
   ]
  },
  {
   "cell_type": "code",
   "execution_count": 17,
   "id": "5cb752c5",
   "metadata": {},
   "outputs": [
    {
     "name": "stdout",
     "output_type": "stream",
     "text": [
      "fhv_tripdata_2019-02.parquet\n",
      "1707649\n",
      "fhv_tripdata_2019-06.parquet\n",
      "2009886\n",
      "fhv_tripdata_2019-10.parquet\n",
      "1897493\n",
      "fhv_tripdata_2019-09.parquet\n",
      "1248514\n",
      "fhv_tripdata_2019-03.parquet\n",
      "1475564\n",
      "fhv_tripdata_2019-01.parquet\n",
      "23143222\n",
      "fhv_tripdata_2019-11.parquet\n",
      "1879137\n",
      "fhv_tripdata_2019-05.parquet\n",
      "2073045\n",
      "fhv_tripdata_2019-07.parquet\n",
      "1947739\n",
      "fhv_tripdata_2019-12.parquet\n",
      "2044196\n",
      "fhv_tripdata_2019-08.parquet\n",
      "1880407\n",
      "fhv_tripdata_2019-04.parquet\n",
      "1937844\n"
     ]
    }
   ],
   "source": [
    "files = os.listdir()\n",
    "counter = 0\n",
    "dic = {}\n",
    "total_rows = 0\n",
    "\n",
    "for file in files:\n",
    "    if 'parquet' in file and 'fhv' in file and '2019' in file:\n",
    "        ++counter\n",
    "        df = pd.read_parquet(file)\n",
    "        print(file)\n",
    "        print(len(df))\n",
    "        dic[counter] = [file.split('_')[2], len(df)]\n",
    "        total_rows = total_rows + len(df)"
   ]
  },
  {
   "cell_type": "code",
   "execution_count": 18,
   "id": "2edbbad9",
   "metadata": {},
   "outputs": [
    {
     "name": "stdout",
     "output_type": "stream",
     "text": [
      "43244696\n"
     ]
    }
   ],
   "source": [
    "print(total_rows)"
   ]
  },
  {
   "cell_type": "code",
   "execution_count": 19,
   "id": "7d22efd2",
   "metadata": {},
   "outputs": [],
   "source": [
    "yellow = 56100630"
   ]
  },
  {
   "cell_type": "code",
   "execution_count": 20,
   "id": "170e1c29",
   "metadata": {},
   "outputs": [],
   "source": [
    "green = 6304783"
   ]
  },
  {
   "cell_type": "code",
   "execution_count": 30,
   "id": "7681128a",
   "metadata": {},
   "outputs": [],
   "source": [
    "a = ( green / yellow ) "
   ]
  },
  {
   "cell_type": "code",
   "execution_count": 31,
   "id": "62b1a59f",
   "metadata": {},
   "outputs": [],
   "source": [
    "b = ( yellow / green ) "
   ]
  },
  {
   "cell_type": "code",
   "execution_count": 29,
   "id": "c6bc6106",
   "metadata": {},
   "outputs": [
    {
     "data": {
      "text/plain": [
       "9.010489867530046"
      ]
     },
     "execution_count": 29,
     "metadata": {},
     "output_type": "execute_result"
    }
   ],
   "source": [
    "a + b"
   ]
  },
  {
   "cell_type": "code",
   "execution_count": 33,
   "id": "54362718",
   "metadata": {},
   "outputs": [
    {
     "name": "stdout",
     "output_type": "stream",
     "text": [
      "11.23834616474004\n"
     ]
    }
   ],
   "source": [
    "print(a * 100)"
   ]
  },
  {
   "cell_type": "code",
   "execution_count": 34,
   "id": "7c84d91b",
   "metadata": {},
   "outputs": [
    {
     "name": "stdout",
     "output_type": "stream",
     "text": [
      "889.8106405882645\n"
     ]
    }
   ],
   "source": [
    "print(b * 100)"
   ]
  },
  {
   "cell_type": "code",
   "execution_count": 35,
   "id": "e735c300",
   "metadata": {},
   "outputs": [
    {
     "name": "stdout",
     "output_type": "stream",
     "text": [
      "0.1123834616474004\n"
     ]
    }
   ],
   "source": [
    "print(a)"
   ]
  },
  {
   "cell_type": "code",
   "execution_count": 36,
   "id": "d0b2aea9",
   "metadata": {},
   "outputs": [
    {
     "name": "stdout",
     "output_type": "stream",
     "text": [
      "8.898106405882645\n"
     ]
    }
   ],
   "source": [
    "print(b)"
   ]
  },
  {
   "cell_type": "code",
   "execution_count": 39,
   "id": "5f037066",
   "metadata": {},
   "outputs": [],
   "source": [
    "c = b / (a + b)"
   ]
  },
  {
   "cell_type": "code",
   "execution_count": 40,
   "id": "091b2ec4",
   "metadata": {},
   "outputs": [
    {
     "data": {
      "text/plain": [
       "98.75274859303286"
      ]
     },
     "execution_count": 40,
     "metadata": {},
     "output_type": "execute_result"
    }
   ],
   "source": [
    "c * 100"
   ]
  },
  {
   "cell_type": "code",
   "execution_count": 41,
   "id": "1bcddc51",
   "metadata": {},
   "outputs": [],
   "source": [
    "d = a / (a + b)"
   ]
  },
  {
   "cell_type": "code",
   "execution_count": 42,
   "id": "d8c90d67",
   "metadata": {},
   "outputs": [
    {
     "name": "stdout",
     "output_type": "stream",
     "text": [
      "0.012472514069671436\n"
     ]
    }
   ],
   "source": [
    "print(d)"
   ]
  },
  {
   "cell_type": "code",
   "execution_count": 43,
   "id": "70ea501e",
   "metadata": {},
   "outputs": [
    {
     "data": {
      "text/plain": [
       "1.2472514069671436"
      ]
     },
     "execution_count": 43,
     "metadata": {},
     "output_type": "execute_result"
    }
   ],
   "source": [
    "d * 100"
   ]
  },
  {
   "cell_type": "code",
   "execution_count": null,
   "id": "4ebbc033",
   "metadata": {},
   "outputs": [],
   "source": [
    "37187000\n",
    "33244696"
   ]
  }
 ],
 "metadata": {
  "kernelspec": {
   "display_name": "Python 3 (ipykernel)",
   "language": "python",
   "name": "python3"
  },
  "language_info": {
   "codemirror_mode": {
    "name": "ipython",
    "version": 3
   },
   "file_extension": ".py",
   "mimetype": "text/x-python",
   "name": "python",
   "nbconvert_exporter": "python",
   "pygments_lexer": "ipython3",
   "version": "3.9.16"
  }
 },
 "nbformat": 4,
 "nbformat_minor": 5
}
