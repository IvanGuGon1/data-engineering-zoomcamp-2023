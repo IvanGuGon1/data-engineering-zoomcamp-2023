{
 "cells": [
  {
   "cell_type": "code",
   "execution_count": 1,
   "id": "b3da188f",
   "metadata": {},
   "outputs": [],
   "source": [
    "import pandas as pd\n",
    "import yaml\n",
    "import os\n",
    "import wget\n",
    "import glob"
   ]
  },
  {
   "cell_type": "code",
   "execution_count": 4,
   "id": "f1fb79df",
   "metadata": {},
   "outputs": [],
   "source": [
    "years = ['2019','2020']\n",
    "months = ['01','02','03','04','05','06','07','08','09','10','11','12']\n",
    "path = '/home/ivang/datatalks/data-engineering-zoomcamp/homework/data-engineering-zoomcamp-2023/week4/data/clean/new_yellow/'"
   ]
  },
  {
   "cell_type": "code",
   "execution_count": 5,
   "id": "5d9a73a4",
   "metadata": {},
   "outputs": [
    {
     "name": "stdout",
     "output_type": "stream",
     "text": [
      "Iniciando descarga https://d37ci6vzurychx.cloudfront.net/trip-data/yellow_tripdata_2019-01.parquet\n",
      "100% [......................................................................] 110439634 / 110439634Descarga finalizada en https://d37ci6vzurychx.cloudfront.net/trip-data/yellow_tripdata_2019-01.parquet\n",
      "Iniciando descarga https://d37ci6vzurychx.cloudfront.net/trip-data/yellow_tripdata_2019-02.parquet\n",
      "100% [......................................................................] 103356025 / 103356025Descarga finalizada en https://d37ci6vzurychx.cloudfront.net/trip-data/yellow_tripdata_2019-02.parquet\n",
      "Iniciando descarga https://d37ci6vzurychx.cloudfront.net/trip-data/yellow_tripdata_2019-03.parquet\n",
      "100% [......................................................................] 116017372 / 116017372Descarga finalizada en https://d37ci6vzurychx.cloudfront.net/trip-data/yellow_tripdata_2019-03.parquet\n",
      "Iniciando descarga https://d37ci6vzurychx.cloudfront.net/trip-data/yellow_tripdata_2019-04.parquet\n",
      "100% [......................................................................] 110139137 / 110139137Descarga finalizada en https://d37ci6vzurychx.cloudfront.net/trip-data/yellow_tripdata_2019-04.parquet\n",
      "Iniciando descarga https://d37ci6vzurychx.cloudfront.net/trip-data/yellow_tripdata_2019-05.parquet\n",
      "100% [......................................................................] 111478943 / 111478943Descarga finalizada en https://d37ci6vzurychx.cloudfront.net/trip-data/yellow_tripdata_2019-05.parquet\n",
      "Iniciando descarga https://d37ci6vzurychx.cloudfront.net/trip-data/yellow_tripdata_2019-06.parquet\n",
      "100% [......................................................................] 102903344 / 102903344Descarga finalizada en https://d37ci6vzurychx.cloudfront.net/trip-data/yellow_tripdata_2019-06.parquet\n",
      "Iniciando descarga https://d37ci6vzurychx.cloudfront.net/trip-data/yellow_tripdata_2019-07.parquet\n",
      "100% [........................................................................] 93877343 / 93877343Descarga finalizada en https://d37ci6vzurychx.cloudfront.net/trip-data/yellow_tripdata_2019-07.parquet\n",
      "Iniciando descarga https://d37ci6vzurychx.cloudfront.net/trip-data/yellow_tripdata_2019-08.parquet\n",
      "100% [........................................................................] 89999675 / 89999675Descarga finalizada en https://d37ci6vzurychx.cloudfront.net/trip-data/yellow_tripdata_2019-08.parquet\n",
      "Iniciando descarga https://d37ci6vzurychx.cloudfront.net/trip-data/yellow_tripdata_2019-09.parquet\n",
      "100% [........................................................................] 97110325 / 97110325Descarga finalizada en https://d37ci6vzurychx.cloudfront.net/trip-data/yellow_tripdata_2019-09.parquet\n",
      "Iniciando descarga https://d37ci6vzurychx.cloudfront.net/trip-data/yellow_tripdata_2019-10.parquet\n",
      "100% [......................................................................] 106293373 / 106293373Descarga finalizada en https://d37ci6vzurychx.cloudfront.net/trip-data/yellow_tripdata_2019-10.parquet\n",
      "Iniciando descarga https://d37ci6vzurychx.cloudfront.net/trip-data/yellow_tripdata_2019-11.parquet\n",
      "100% [......................................................................] 100872983 / 100872983Descarga finalizada en https://d37ci6vzurychx.cloudfront.net/trip-data/yellow_tripdata_2019-11.parquet\n",
      "Iniciando descarga https://d37ci6vzurychx.cloudfront.net/trip-data/yellow_tripdata_2019-12.parquet\n",
      "100% [......................................................................] 101044777 / 101044777Descarga finalizada en https://d37ci6vzurychx.cloudfront.net/trip-data/yellow_tripdata_2019-12.parquet\n",
      "Iniciando descarga https://d37ci6vzurychx.cloudfront.net/trip-data/yellow_tripdata_2020-01.parquet\n",
      "100% [........................................................................] 93562858 / 93562858Descarga finalizada en https://d37ci6vzurychx.cloudfront.net/trip-data/yellow_tripdata_2020-01.parquet\n",
      "Iniciando descarga https://d37ci6vzurychx.cloudfront.net/trip-data/yellow_tripdata_2020-02.parquet\n",
      "100% [........................................................................] 92134881 / 92134881Descarga finalizada en https://d37ci6vzurychx.cloudfront.net/trip-data/yellow_tripdata_2020-02.parquet\n",
      "Iniciando descarga https://d37ci6vzurychx.cloudfront.net/trip-data/yellow_tripdata_2020-03.parquet\n",
      "100% [........................................................................] 44442590 / 44442590Descarga finalizada en https://d37ci6vzurychx.cloudfront.net/trip-data/yellow_tripdata_2020-03.parquet\n",
      "Iniciando descarga https://d37ci6vzurychx.cloudfront.net/trip-data/yellow_tripdata_2020-04.parquet\n",
      "100% [..........................................................................] 4442620 / 4442620Descarga finalizada en https://d37ci6vzurychx.cloudfront.net/trip-data/yellow_tripdata_2020-04.parquet\n",
      "Iniciando descarga https://d37ci6vzurychx.cloudfront.net/trip-data/yellow_tripdata_2020-05.parquet\n",
      "100% [..........................................................................] 6229864 / 6229864Descarga finalizada en https://d37ci6vzurychx.cloudfront.net/trip-data/yellow_tripdata_2020-05.parquet\n",
      "Iniciando descarga https://d37ci6vzurychx.cloudfront.net/trip-data/yellow_tripdata_2020-06.parquet\n",
      "100% [..........................................................................] 9505358 / 9505358Descarga finalizada en https://d37ci6vzurychx.cloudfront.net/trip-data/yellow_tripdata_2020-06.parquet\n",
      "Iniciando descarga https://d37ci6vzurychx.cloudfront.net/trip-data/yellow_tripdata_2020-07.parquet\n",
      "100% [........................................................................] 13387778 / 13387778Descarga finalizada en https://d37ci6vzurychx.cloudfront.net/trip-data/yellow_tripdata_2020-07.parquet\n",
      "Iniciando descarga https://d37ci6vzurychx.cloudfront.net/trip-data/yellow_tripdata_2020-08.parquet\n",
      "100% [........................................................................] 16601463 / 16601463Descarga finalizada en https://d37ci6vzurychx.cloudfront.net/trip-data/yellow_tripdata_2020-08.parquet\n",
      "Iniciando descarga https://d37ci6vzurychx.cloudfront.net/trip-data/yellow_tripdata_2020-09.parquet\n",
      "100% [........................................................................] 21381938 / 21381938Descarga finalizada en https://d37ci6vzurychx.cloudfront.net/trip-data/yellow_tripdata_2020-09.parquet\n",
      "Iniciando descarga https://d37ci6vzurychx.cloudfront.net/trip-data/yellow_tripdata_2020-10.parquet\n",
      "100% [........................................................................] 26306876 / 26306876Descarga finalizada en https://d37ci6vzurychx.cloudfront.net/trip-data/yellow_tripdata_2020-10.parquet\n",
      "Iniciando descarga https://d37ci6vzurychx.cloudfront.net/trip-data/yellow_tripdata_2020-11.parquet\n",
      "100% [........................................................................] 23583368 / 23583368Descarga finalizada en https://d37ci6vzurychx.cloudfront.net/trip-data/yellow_tripdata_2020-11.parquet\n",
      "Iniciando descarga https://d37ci6vzurychx.cloudfront.net/trip-data/yellow_tripdata_2020-12.parquet\n",
      "100% [........................................................................] 23020036 / 23020036Descarga finalizada en https://d37ci6vzurychx.cloudfront.net/trip-data/yellow_tripdata_2020-12.parquet\n"
     ]
    }
   ],
   "source": [
    "for year in years:\n",
    "    for month in months:\n",
    "        base_url = f'https://d37ci6vzurychx.cloudfront.net/trip-data/yellow_tripdata_{year}-{month}.parquet'\n",
    "        print(f\"Iniciando descarga {base_url}\")\n",
    "        wget.download(base_url,out = path)\n",
    "        print(f'Descarga finalizada en {base_url}')"
   ]
  },
  {
   "cell_type": "code",
   "execution_count": 11,
   "id": "11907627",
   "metadata": {},
   "outputs": [],
   "source": [
    "files = os.listdir()\n"
   ]
  },
  {
   "cell_type": "code",
   "execution_count": 15,
   "id": "be2a09c9",
   "metadata": {},
   "outputs": [
    {
     "name": "stdout",
     "output_type": "stream",
     "text": [
      "yellow_tripdata_2019-01.parquet\n",
      "7667792\n",
      "yellow_tripdata_2019-07.parquet\n",
      "6310419\n",
      "yellow_tripdata_2019-02.parquet\n",
      "7019375\n",
      "yellow_tripdata_2020-10.parquet\n",
      "1681131\n",
      "yellow_tripdata_2020-02.parquet\n",
      "6299354\n",
      "yellow_tripdata_2019-09.parquet\n",
      "6567788\n",
      "yellow_tripdata_2020-08.parquet\n",
      "1007284\n",
      "yellow_tripdata_2019-11.parquet\n",
      "6878111\n",
      "yellow_tripdata_2019-03.parquet\n",
      "7832545\n",
      "yellow_tripdata_2020-06.parquet\n",
      "549760\n",
      "yellow_tripdata_2019-05.parquet\n",
      "7565261\n",
      "yellow_tripdata_2020-11.parquet\n",
      "1508985\n",
      "yellow_tripdata_2020-04.parquet\n",
      "237993\n",
      "yellow_tripdata_2020-05.parquet\n",
      "348371\n",
      "yellow_tripdata_2020-12.parquet\n",
      "1461897\n",
      "yellow_tripdata_2020-09.parquet\n",
      "1341012\n",
      "yellow_tripdata_2020-07.parquet\n",
      "800412\n",
      "yellow_tripdata_2019-08.parquet\n",
      "6073357\n",
      "yellow_tripdata_2020-03.parquet\n",
      "3007292\n",
      "yellow_tripdata_2019-10.parquet\n",
      "7213891\n",
      "yellow_tripdata_2019-06.parquet\n",
      "6941024\n",
      "yellow_tripdata_2020-01.parquet\n",
      "6405008\n",
      "yellow_tripdata_2019-04.parquet\n",
      "7433139\n",
      "yellow_tripdata_2019-12.parquet\n",
      "6896317\n"
     ]
    }
   ],
   "source": [
    "counter = 0\n",
    "dic = {}\n",
    "total_rows = 0\n",
    "for file in os.listdir(path):\n",
    "    counter = counter + 1\n",
    "    df = pd.read_parquet(file)\n",
    "    print(file)\n",
    "    print(len(df))\n",
    "    dic[counter] = [file.split('_')[2], len(df)]\n",
    "    total_rows = total_rows + len(df)\n",
    "    "
   ]
  },
  {
   "cell_type": "code",
   "execution_count": 16,
   "id": "ce5a8a3d",
   "metadata": {},
   "outputs": [
    {
     "name": "stdout",
     "output_type": "stream",
     "text": [
      "24\n"
     ]
    }
   ],
   "source": [
    "print(counter)"
   ]
  },
  {
   "cell_type": "code",
   "execution_count": 17,
   "id": "55850bb4",
   "metadata": {},
   "outputs": [
    {
     "name": "stdout",
     "output_type": "stream",
     "text": [
      "{1: ['2019-01.parquet', 7667792], 2: ['2019-07.parquet', 6310419], 3: ['2019-02.parquet', 7019375], 4: ['2020-10.parquet', 1681131], 5: ['2020-02.parquet', 6299354], 6: ['2019-09.parquet', 6567788], 7: ['2020-08.parquet', 1007284], 8: ['2019-11.parquet', 6878111], 9: ['2019-03.parquet', 7832545], 10: ['2020-06.parquet', 549760], 11: ['2019-05.parquet', 7565261], 12: ['2020-11.parquet', 1508985], 13: ['2020-04.parquet', 237993], 14: ['2020-05.parquet', 348371], 15: ['2020-12.parquet', 1461897], 16: ['2020-09.parquet', 1341012], 17: ['2020-07.parquet', 800412], 18: ['2019-08.parquet', 6073357], 19: ['2020-03.parquet', 3007292], 20: ['2019-10.parquet', 7213891], 21: ['2019-06.parquet', 6941024], 22: ['2020-01.parquet', 6405008], 23: ['2019-04.parquet', 7433139], 24: ['2019-12.parquet', 6896317]}\n"
     ]
    }
   ],
   "source": [
    "print(dic)"
   ]
  },
  {
   "cell_type": "code",
   "execution_count": 18,
   "id": "bcf3d9e5",
   "metadata": {},
   "outputs": [
    {
     "name": "stdout",
     "output_type": "stream",
     "text": [
      "109047518\n"
     ]
    }
   ],
   "source": [
    "print(total_rows)"
   ]
  },
  {
   "cell_type": "code",
   "execution_count": 2,
   "id": "5fe40761",
   "metadata": {},
   "outputs": [
    {
     "name": "stdout",
     "output_type": "stream",
     "text": [
      "yellow_tripdata_2019-01.parquet\n",
      "7667792\n",
      "yellow_tripdata_2019-07.parquet\n",
      "6310419\n",
      "yellow_tripdata_2019-02.parquet\n",
      "7019375\n",
      "yellow_tripdata_2020-10.parquet\n",
      "1681131\n",
      "yellow_tripdata_2020-02.parquet\n",
      "6299354\n",
      "yellow_tripdata_2019-09.parquet\n",
      "6567788\n",
      "yellow_tripdata_2020-08.parquet\n",
      "1007284\n",
      "yellow_tripdata_2019-11.parquet\n",
      "6878111\n",
      "yellow_tripdata_2019-03.parquet\n",
      "7832545\n",
      "yellow_tripdata_2020-06.parquet\n",
      "549760\n",
      "yellow_tripdata_2019-05.parquet\n",
      "7565261\n",
      "yellow_tripdata_2020-11.parquet\n",
      "1508985\n",
      "yellow_tripdata_2020-04.parquet\n",
      "237993\n",
      "yellow_tripdata_2020-05.parquet\n",
      "348371\n",
      "yellow_tripdata_2020-12.parquet\n",
      "1461897\n",
      "yellow_tripdata_2020-09.parquet\n",
      "1341012\n",
      "yellow_tripdata_2020-07.parquet\n",
      "800412\n",
      "yellow_tripdata_2019-08.parquet\n",
      "6073357\n",
      "yellow_tripdata_2020-03.parquet\n",
      "3007292\n",
      "yellow_tripdata_2019-10.parquet\n",
      "7213891\n",
      "yellow_tripdata_2019-06.parquet\n",
      "6941024\n",
      "yellow_tripdata_2020-01.parquet\n",
      "6405008\n",
      "yellow_tripdata_2019-04.parquet\n",
      "7433139\n",
      "yellow_tripdata_2019-12.parquet\n",
      "6896317\n"
     ]
    }
   ],
   "source": [
    "files = os.listdir()\n",
    "counter = 0\n",
    "dic = {}\n",
    "total_rows = 0\n",
    "\n",
    "for file in files:\n",
    "    if 'parquet' in file and 'yellow' in file:\n",
    "        ++counter\n",
    "        df = pd.read_parquet(file)\n",
    "        print(file)\n",
    "        print(len(df))\n",
    "        dic[counter] = [file.split('_')[2], len(df)]\n",
    "        total_rows = total_rows + len(df)"
   ]
  },
  {
   "cell_type": "code",
   "execution_count": 3,
   "id": "8343099a",
   "metadata": {},
   "outputs": [
    {
     "name": "stdout",
     "output_type": "stream",
     "text": [
      "0\n"
     ]
    }
   ],
   "source": [
    "print(counter)"
   ]
  },
  {
   "cell_type": "code",
   "execution_count": 4,
   "id": "0eb5a141",
   "metadata": {},
   "outputs": [
    {
     "name": "stdout",
     "output_type": "stream",
     "text": [
      "109047518\n"
     ]
    }
   ],
   "source": [
    "print(total_rows)"
   ]
  },
  {
   "cell_type": "code",
   "execution_count": null,
   "id": "61d56e73",
   "metadata": {},
   "outputs": [],
   "source": []
  }
 ],
 "metadata": {
  "kernelspec": {
   "display_name": "Python 3 (ipykernel)",
   "language": "python",
   "name": "python3"
  },
  "language_info": {
   "codemirror_mode": {
    "name": "ipython",
    "version": 3
   },
   "file_extension": ".py",
   "mimetype": "text/x-python",
   "name": "python",
   "nbconvert_exporter": "python",
   "pygments_lexer": "ipython3",
   "version": "3.9.16"
  }
 },
 "nbformat": 4,
 "nbformat_minor": 5
}
