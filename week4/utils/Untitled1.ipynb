{
 "cells": [
  {
   "cell_type": "code",
   "execution_count": 2,
   "id": "14789545",
   "metadata": {},
   "outputs": [],
   "source": [
    "import os\n",
    "import pandas as pd\n",
    "import pyarrow"
   ]
  },
  {
   "cell_type": "code",
   "execution_count": 13,
   "id": "f2484257",
   "metadata": {},
   "outputs": [],
   "source": [
    "\n"
   ]
  },
  {
   "cell_type": "code",
   "execution_count": 17,
   "id": "6281a8a3",
   "metadata": {},
   "outputs": [
    {
     "name": "stdout",
     "output_type": "stream",
     "text": [
      "['green_tripdata_2019-05', 'csv', 'gz']\n",
      "['fhv_tripdata_2020-01', 'csv', 'gz']\n",
      "['green_tripdata_2019-03', 'csv', 'gz']\n",
      "['green_tripdata_2019-02', 'csv', 'gz']\n",
      "['fhv_tripdata_2019-02', 'csv', 'gz']\n",
      "['fhv_tripdata_2019-07', 'csv', 'gz']\n",
      "['green_tripdata_2020-09', 'csv', 'gz']\n",
      "['yellow_tripdata_2020-03', 'csv', 'gz']\n",
      "['green_tripdata_2020-06', 'csv', 'gz']\n",
      "['yellow_tripdata_2019-09', 'csv', 'gz']\n",
      "['yellow_tripdata_2020-01', 'csv', 'gz']\n",
      "['green_tripdata_2020-11', 'csv', 'gz']\n",
      "['green_tripdata_2020-02', 'csv', 'gz']\n",
      "['yellow_tripdata_2020-11', 'csv', 'gz']\n",
      "['fhv_tripdata_2019-10', 'csv', 'gz']\n",
      "['yellow_tripdata_2020-02', 'csv', 'gz']\n",
      "['fhv_tripdata_2019-06', 'csv', 'gz']\n",
      "['fhv_tripdata_2020-08', 'csv', 'gz']\n",
      "['fhv_tripdata_2020-03', 'csv', 'gz']\n",
      "['yellow_tripdata_2020-05', 'csv', 'gz']\n",
      "['fhv_tripdata_2019-08', 'csv', 'gz']\n",
      "['fhv_tripdata_2019-12', 'csv', 'gz']\n",
      "['yellow_tripdata_2020-12', 'csv', 'gz']\n",
      "['yellow_tripdata_2019-02', 'csv', 'gz']\n",
      "['yellow_tripdata_2019-03', 'csv', 'gz']\n",
      "['green_tripdata_2019-04', 'csv', 'gz']\n",
      "['green_tripdata_2019-10', 'csv', 'gz']\n",
      "['green_tripdata_2020-12', 'csv', 'gz']\n",
      "['fhv_tripdata_2020-06', 'csv', 'gz']\n",
      "['fhv_tripdata_2020-11', 'csv', 'gz']\n",
      "['fhv_tripdata_2020-10', 'csv', 'gz']\n",
      "['fhv_tripdata_2020-09', 'csv', 'gz']\n",
      "['green_tripdata_2019-01', 'csv', 'gz']\n",
      "['yellow_tripdata_2019-11', 'csv', 'gz']\n",
      "['fhv_tripdata_2019-11', 'csv', 'gz']\n",
      "['green_tripdata_2019-06', 'csv', 'gz']\n",
      "['yellow_tripdata_2019-01', 'csv', 'gz']\n",
      "['fhv_tripdata_2020-02', 'csv', 'gz']\n",
      "['green_tripdata_2020-01', 'csv', 'gz']\n",
      "['green_tripdata_2020-08', 'csv', 'gz']\n",
      "['green_tripdata_2020-03', 'csv', 'gz']\n",
      "['yellow_tripdata_2019-08', 'csv', 'gz']\n",
      "['yellow_tripdata_2020-10', 'csv', 'gz']\n",
      "['green_tripdata_2020-10', 'csv', 'gz']\n",
      "['yellow_tripdata_2019-07', 'csv', 'gz']\n",
      "['green_tripdata_2019-08', 'csv', 'gz']\n",
      "['fhv_tripdata_2020-05', 'csv', 'gz']\n",
      "['yellow_tripdata_2020-09', 'csv', 'gz']\n",
      "['green_tripdata_2019-11', 'csv', 'gz']\n",
      "['yellow_tripdata_2020-07', 'csv', 'gz']\n",
      "['fhv_tripdata_2019-03', 'csv', 'gz']\n",
      "['yellow_tripdata_2019-06', 'csv', 'gz']\n",
      "['yellow_tripdata_2020-08', 'csv', 'gz']\n",
      "['green_tripdata_2019-12', 'csv', 'gz']\n",
      "['yellow_tripdata_2019-05', 'csv', 'gz']\n",
      "['yellow_tripdata_2019-12', 'csv', 'gz']\n",
      "['green_tripdata_2020-04', 'csv', 'gz']\n",
      "['fhv_tripdata_2019-09', 'csv', 'gz']\n",
      "['yellow_tripdata_2019-10', 'csv', 'gz']\n",
      "['fhv_tripdata_2020-12', 'csv', 'gz']\n",
      "['fhv_tripdata_2020-04', 'csv', 'gz']\n",
      "['fhv_tripdata_2019-01', 'csv', 'gz']\n",
      "['green_tripdata_2019-07', 'csv', 'gz']\n",
      "['yellow_tripdata_2020-06', 'csv', 'gz']\n",
      "['green_tripdata_2020-07', 'csv', 'gz']\n",
      "['fhv_tripdata_2019-04', 'csv', 'gz']\n",
      "['green_tripdata_2020-05', 'csv', 'gz']\n",
      "['fhv_tripdata_2019-05', 'csv', 'gz']\n",
      "['fhv_tripdata_2020-07', 'csv', 'gz']\n",
      "['yellow_tripdata_2020-04', 'csv', 'gz']\n",
      "['yellow_tripdata_2019-04', 'csv', 'gz']\n",
      "['green_tripdata_2019-09', 'csv', 'gz']\n"
     ]
    }
   ],
   "source": [
    "for file in os.listdir():\n",
    "    \n",
    "    if \"csv\" in file:\n",
    "        parts_file = file.split('.')\n",
    "        print(parts_file)\n",
    "        lista_csv.append(file)\n",
    "    "
   ]
  },
  {
   "cell_type": "code",
   "execution_count": 14,
   "id": "cfcabc26",
   "metadata": {},
   "outputs": [
    {
     "name": "stdout",
     "output_type": "stream",
     "text": [
      "['green_tripdata_2020-09', 'parquet']\n",
      "['yellow_tripdata_2019-01', 'parquet']\n",
      "['fhv_tripdata_2020-01', 'parquet']\n",
      "['fhv_tripdata_2019-02', 'parquet']\n",
      "['yellow_tripdata_2019-02', 'parquet']\n",
      "['fhv_tripdata_2019-06', 'parquet']\n",
      "['yellow_tripdata_2020-02', 'parquet']\n",
      "['green_tripdata_2020-02', 'parquet']\n",
      "['green_tripdata_2019-10', 'parquet']\n",
      "['yellow_tripdata_2019-09', 'parquet']\n",
      "['fhv_tripdata_2020-09', 'parquet']\n",
      "['fhv_tripdata_2019-10', 'parquet']\n",
      "['green_tripdata_2020-12', 'parquet']\n",
      "['green_tripdata_2019-06', 'parquet']\n",
      "['yellow_tripdata_2019-11', 'parquet']\n",
      "['fhv_tripdata_2020-08', 'parquet']\n",
      "['yellow_tripdata_2019-03', 'parquet']\n",
      "['yellow_tripdata_2020-11', 'parquet']\n",
      "['yellow_tripdata_2020-05', 'parquet']\n",
      "['fhv_tripdata_2020-11', 'parquet']\n",
      "['green_tripdata_2019-04', 'parquet']\n",
      "['yellow_tripdata_2020-12', 'parquet']\n",
      "['fhv_tripdata_2020-03', 'parquet']\n",
      "['green_tripdata_2020-11', 'parquet']\n",
      "['fhv_tripdata_2019-11', 'parquet']\n",
      "['green_tripdata_2019-11', 'parquet']\n",
      "['fhv_tripdata_2019-07', 'parquet']\n",
      "['green_tripdata_2019-02', 'parquet']\n",
      "['green_tripdata_2019-05', 'parquet']\n",
      "['fhv_tripdata_2020-10', 'parquet']\n",
      "['green_tripdata_2019-03', 'parquet']\n",
      "['yellow_tripdata_2020-03', 'parquet']\n",
      "['fhv_tripdata_2019-12', 'parquet']\n",
      "['green_tripdata_2019-01', 'parquet']\n",
      "['fhv_tripdata_2020-06', 'parquet']\n",
      "['green_tripdata_2020-06', 'parquet']\n",
      "['yellow_tripdata_2020-01', 'parquet']\n",
      "['fhv_tripdata_2019-08', 'parquet']\n"
     ]
    }
   ],
   "source": [
    "lista_faltantes_convertir = []\n",
    "\n",
    "for file in os.listdir():\n",
    "    parts_file = file.split('.')\n",
    "    \n",
    "    if \"parquet\" in file:\n",
    "        parts_file = file.split('.')\n",
    "        \n",
    "        if parts_file[0] not in lista_csv:\n",
    "            lista_faltantes_convertir.append()\n",
    "    "
   ]
  },
  {
   "cell_type": "code",
   "execution_count": null,
   "id": "045ca143",
   "metadata": {},
   "outputs": [],
   "source": []
  },
  {
   "cell_type": "code",
   "execution_count": 4,
   "id": "bf98d4d6",
   "metadata": {},
   "outputs": [],
   "source": [
    "cadena = \"cadena.parquet\""
   ]
  },
  {
   "cell_type": "code",
   "execution_count": 5,
   "id": "727ca4e1",
   "metadata": {},
   "outputs": [
    {
     "data": {
      "text/plain": [
       "True"
      ]
     },
     "execution_count": 5,
     "metadata": {},
     "output_type": "execute_result"
    }
   ],
   "source": [
    "\"parquet\" in cadena"
   ]
  },
  {
   "cell_type": "code",
   "execution_count": 6,
   "id": "177e9d92",
   "metadata": {},
   "outputs": [],
   "source": [
    "spliteado = cadena.split('.')"
   ]
  },
  {
   "cell_type": "code",
   "execution_count": 7,
   "id": "9c236898",
   "metadata": {},
   "outputs": [
    {
     "data": {
      "text/plain": [
       "False"
      ]
     },
     "execution_count": 7,
     "metadata": {},
     "output_type": "execute_result"
    }
   ],
   "source": [
    "\"ade\" in spliteado"
   ]
  },
  {
   "cell_type": "code",
   "execution_count": 15,
   "id": "b763d8b3",
   "metadata": {},
   "outputs": [],
   "source": [
    "t = [1,1,1]"
   ]
  },
  {
   "cell_type": "code",
   "execution_count": 16,
   "id": "ac9cfef7",
   "metadata": {},
   "outputs": [
    {
     "data": {
      "text/plain": [
       "{1}"
      ]
     },
     "execution_count": 16,
     "metadata": {},
     "output_type": "execute_result"
    }
   ],
   "source": [
    "set(t)"
   ]
  },
  {
   "cell_type": "code",
   "execution_count": 18,
   "id": "cda99e35",
   "metadata": {},
   "outputs": [
    {
     "data": {
      "text/plain": [
       "True"
      ]
     },
     "execution_count": 18,
     "metadata": {},
     "output_type": "execute_result"
    }
   ],
   "source": [
    "1 in t"
   ]
  },
  {
   "cell_type": "code",
   "execution_count": null,
   "id": "f5fe4966",
   "metadata": {},
   "outputs": [],
   "source": []
  }
 ],
 "metadata": {
  "kernelspec": {
   "display_name": "Python 3 (ipykernel)",
   "language": "python",
   "name": "python3"
  },
  "language_info": {
   "codemirror_mode": {
    "name": "ipython",
    "version": 3
   },
   "file_extension": ".py",
   "mimetype": "text/x-python",
   "name": "python",
   "nbconvert_exporter": "python",
   "pygments_lexer": "ipython3",
   "version": "3.9.16"
  }
 },
 "nbformat": 4,
 "nbformat_minor": 5
}
