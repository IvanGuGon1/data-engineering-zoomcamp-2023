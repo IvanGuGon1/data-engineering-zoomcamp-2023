{
 "cells": [
  {
   "cell_type": "code",
   "execution_count": 1,
   "id": "88fa3b6c",
   "metadata": {},
   "outputs": [],
   "source": [
    "import pandas as pd\n",
    "import os"
   ]
  },
  {
   "cell_type": "code",
   "execution_count": 2,
   "id": "3f789296",
   "metadata": {},
   "outputs": [],
   "source": []
  },
  {
   "cell_type": "code",
   "execution_count": null,
   "id": "bbf57b73",
   "metadata": {},
   "outputs": [],
   "source": [
    "files = os.listdir()\n",
    "counter = 0\n",
    "dic = {}\n",
    "total_rows = 0\n",
    "\n",
    "for file in files:\n",
    "    if 'parquet' in file and 'yellow' in file:\n",
    "        \n",
    "        df = pd.read_parquet(file)\n",
    "        print(file)\n",
    "        print(len(df))\n",
    "        dic[counter] = [file.split('_')[2], len(df)]\n",
    "        total_rows = total_rows + len(df)\n"
   ]
  },
  {
   "cell_type": "code",
   "execution_count": 4,
   "id": "43711e77",
   "metadata": {},
   "outputs": [
    {
     "name": "stdout",
     "output_type": "stream",
     "text": [
      "/home/ivang/datatalks/data-engineering-zoomcamp/homework/data-engineering-zoomcamp-2023/week4/data/clean\r\n"
     ]
    }
   ],
   "source": [
    "!pwd"
   ]
  },
  {
   "cell_type": "code",
   "execution_count": null,
   "id": "4e8c82cb",
   "metadata": {},
   "outputs": [],
   "source": []
  }
 ],
 "metadata": {
  "kernelspec": {
   "display_name": "Python 3 (ipykernel)",
   "language": "python",
   "name": "python3"
  },
  "language_info": {
   "codemirror_mode": {
    "name": "ipython",
    "version": 3
   },
   "file_extension": ".py",
   "mimetype": "text/x-python",
   "name": "python",
   "nbconvert_exporter": "python",
   "pygments_lexer": "ipython3",
   "version": "3.9.16"
  }
 },
 "nbformat": 4,
 "nbformat_minor": 5
}
