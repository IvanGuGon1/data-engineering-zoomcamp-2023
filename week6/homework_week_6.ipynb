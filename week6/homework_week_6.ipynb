{
 "cells": [
  {
   "cell_type": "code",
   "execution_count": 1,
   "metadata": {},
   "outputs": [
    {
     "data": {
      "text/plain": [
       "'\\nQuestion  1:  Please select the statements that are correct \\nA) Kafka Node is responsible to store topics\\nB) Zookeeper is removed form Kafka cluster starting from version 4.0\\nC) Retention configuration ensures the messages not get lost over specific period of time.\\nD) Group-Id ensures the messages are distributed to associated consumers\\n\\nAnswer: A, C, D\\n'"
      ]
     },
     "execution_count": 1,
     "metadata": {},
     "output_type": "execute_result"
    }
   ],
   "source": [
    "'''\n",
    "Question  1:  Please select the statements that are correct \n",
    "A) Kafka Node is responsible to store topics\n",
    "B) Zookeeper is removed form Kafka cluster starting from version 4.0\n",
    "C) Retention configuration ensures the messages not get lost over specific period of time.\n",
    "D) Group-Id ensures the messages are distributed to associated consumers\n",
    "\n",
    "Answer: A, C, D\n",
    "'''"
   ]
  },
  {
   "cell_type": "code",
   "execution_count": 2,
   "metadata": {},
   "outputs": [
    {
     "data": {
      "text/plain": [
       "'\\nQuestion 2: Please select the Kafka concepts that support reliability and availability\\n\\nA) Topic Replication\\nB) Topic Paritioning\\nC) Consumer Group Id\\nD) Ack All\\n\\nAnswer: A, B, C\\n'"
      ]
     },
     "execution_count": 2,
     "metadata": {},
     "output_type": "execute_result"
    }
   ],
   "source": [
    "'''\n",
    "Question 2: Please select the Kafka concepts that support reliability and availability\n",
    "\n",
    "A) Topic Replication\n",
    "B) Topic Paritioning\n",
    "C) Consumer Group Id\n",
    "D) Ack All\n",
    "\n",
    "Answer: A, B, C\n",
    "'''\n"
   ]
  },
  {
   "cell_type": "code",
   "execution_count": 3,
   "metadata": {},
   "outputs": [
    {
     "data": {
      "text/plain": [
       "'\\nQuestion 3: Please select the Kafka concepts that support scaling\\n\\nA) Topic Replication\\nB) Topic Partitioning\\nC) Consumer Group Id\\nD) Ack All\\n\\nAnswer: A, B, C\\n'"
      ]
     },
     "execution_count": 3,
     "metadata": {},
     "output_type": "execute_result"
    }
   ],
   "source": [
    "'''\n",
    "Question 3: Please select the Kafka concepts that support scaling\n",
    "\n",
    "A) Topic Replication\n",
    "B) Topic Partitioning\n",
    "C) Consumer Group Id\n",
    "D) Ack All\n",
    "\n",
    "Answer: A, B, C\n",
    "'''\n"
   ]
  },
  {
   "cell_type": "code",
   "execution_count": null,
   "metadata": {},
   "outputs": [],
   "source": [
    "'''\n",
    "Question 4: Please select the attributes that are good candidates for partitioning key. Consider cardinality of the field you have selected and scaling aspects of your application\n",
    "\n",
    "A) payment_type\n",
    "B) vendor_id\n",
    "C) passenger_count\n",
    "D) total_amount\n",
    "E) tpep_pickup_datetime\n",
    "F) tpep_dropoff_datetime\n",
    "\n",
    "Answer: B,D,E,F\n",
    "'''"
   ]
  }
 ],
 "metadata": {
  "kernelspec": {
   "display_name": "Python 3 (ipykernel)",
   "language": "python",
   "name": "python3"
  },
  "language_info": {
   "codemirror_mode": {
    "name": "ipython",
    "version": 3
   },
   "file_extension": ".py",
   "mimetype": "text/x-python",
   "name": "python",
   "nbconvert_exporter": "python",
   "pygments_lexer": "ipython3",
   "version": "3.8.10"
  }
 },
 "nbformat": 4,
 "nbformat_minor": 4
}
